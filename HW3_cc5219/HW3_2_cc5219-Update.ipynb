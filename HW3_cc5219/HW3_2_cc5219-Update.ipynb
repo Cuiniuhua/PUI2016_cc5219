{
 "cells": [
  {
   "cell_type": "markdown",
   "metadata": {},
   "source": [
    "## Idea :Old people tend to use bikes shorter distance than younger people do"
   ]
  },
  {
   "cell_type": "markdown",
   "metadata": {},
   "source": [
    "## The mean bike trip duration by older people (Age>50) is equal ot longer than the mean bike trip duration by yonger people(Age<50)"
   ]
  },
  {
   "cell_type": "markdown",
   "metadata": {},
   "source": [
    "###### H0:trip_duration(older)>=trip_duration(younger)"
   ]
  },
  {
   "cell_type": "markdown",
   "metadata": {},
   "source": [
    "###### Ha:trip_duration(older)<trip_duration(younger)"
   ]
  },
  {
   "cell_type": "code",
   "execution_count": 1,
   "metadata": {
    "collapsed": false
   },
   "outputs": [
    {
     "name": "stdout",
     "output_type": "stream",
     "text": [
      "Populating the interactive namespace from numpy and matplotlib\n"
     ]
    }
   ],
   "source": [
    "from __future__  import print_function, division\n",
    "import pylab as pl\n",
    "import pandas as pd\n",
    "import numpy as np\n",
    "import os\n",
    "\n",
    "%pylab inline\n",
    "\n",
    "if os.getenv ('PUI2016') is None:\n",
    "    print (\"Must set env variable PUI2016\")\n",
    "if os.getenv ('PUIDATA') is None:\n",
    "    print (\"Must set env variable PUI2016\")\n",
    "\n",
    "import os\n",
    "import json\n",
    "#s = json.load( open(os.getenv('PUIDATA') + \"/fb55_matplotlibrc.json\") )\n",
    "#pl.rcParams.update(s)"
   ]
  },
  {
   "cell_type": "code",
   "execution_count": 2,
   "metadata": {
    "collapsed": false
   },
   "outputs": [
    {
     "data": {
      "text/plain": [
       "'/home/cusp/cc5219/PUIdata'"
      ]
     },
     "execution_count": 2,
     "metadata": {},
     "output_type": "execute_result"
    }
   ],
   "source": [
    "os.getenv('PUIDATA')"
   ]
  },
  {
   "cell_type": "code",
   "execution_count": 3,
   "metadata": {
    "collapsed": false
   },
   "outputs": [],
   "source": [
    "def getCitiBikeCSV(datestring):\n",
    "    print (\"Downloading\", datestring)\n",
    "    ### First I will heck that it is not already there\n",
    "    if not os.path.isfile(os.getenv(\"PUIDATA\") + \"/\" + datestring + \"-citibike-tripdata.csv\"):\n",
    "        if os.path.isfile(datestring + \"-citibike-tripdata.csv\"):\n",
    "            # if in the current dir just move it\n",
    "            if os.system(\"mv \" + datestring + \"-citibike-tripdata.csv \" + os.getenv(\"PUIDATA\")):\n",
    "                print (\"Error moving file!, Please check!\")\n",
    "        #otherwise start looking for the zip file\n",
    "        else:\n",
    "            if not os.path.isfile(os.getenv(\"PUIDATA\") + \"/\" + datestring + \"-citibike-tripdata.zip\"):\n",
    "                if not os.path.isfile(datestring + \"-citibike-tripdata.zip\"):\n",
    "                    os.system(\"curl -O https://s3.amazonaws.com/tripdata/\" + datestring + \"-citibike-tripdata.zip\")\n",
    "                ###  To move it I use the os.system() functions to run bash commands with arguments\n",
    "                os.system(\"mkdir \" + os.getenv(\"PUIDATA\")) ##you have to make a new file directory first \n",
    "                os.system(\"mv \" + datestring + \"-citibike-tripdata.zip \" + os.getenv(\"PUIDATA\"))\n",
    "            ### unzip the csv \n",
    "            os.system(\"unzip \" + os.getenv(\"PUIDATA\") + \"/\" + datestring + \"-citibike-tripdata.zip -d \" + os.getenv(\"PUIDATA\"))\n",
    "            ## NOTE: old csv citibike data had a different name structure. \n",
    "            if '2014' in datestring:\n",
    "                os.system(\"mv \" + datestring[:4] + '-' +  datestring[4:] + \n",
    "                          \"/ -/ Citi/ Bike/ trip/ data.csv \" + datestring + \"-citibike-tripdata.csv\")\n",
    "                os.system(\"mv \" + datestring + \"-citibike-tripdata.csv \" + os.getenv(\"PUIDATA\"))\n",
    "    ### One final check:\n",
    "    if not os.path.isfile(os.getenv(\"PUIDATA\") + \"/\" + datestring + \"-citibike-tripdata.csv\"):\n",
    "        print (\"WARNING!!! something is wrong: the file is not there!\")\n",
    "\n",
    "    else:\n",
    "        print (\"file in place, you can continue\")\n",
    "    os.system(\"rm \" + os.getenv(\"PUIDATA\") + \"/\" + datestring + \"-citibike-tripdata.zip\")"
   ]
  },
  {
   "cell_type": "code",
   "execution_count": 4,
   "metadata": {
    "collapsed": false
   },
   "outputs": [
    {
     "name": "stdout",
     "output_type": "stream",
     "text": [
      "Downloading 201510\n",
      "file in place, you can continue\n"
     ]
    }
   ],
   "source": [
    "datestring = '201510'\n",
    "getCitiBikeCSV(datestring)"
   ]
  },
  {
   "cell_type": "code",
   "execution_count": 5,
   "metadata": {
    "collapsed": false
   },
   "outputs": [
    {
     "name": "stdout",
     "output_type": "stream",
     "text": [
      "CitibikeReview_as10790.md  HW3_2_cc5219.ipynb  #README.md#\r\n",
      "HW3_1_cc5219.ipynb         HW3_2.ipynb         README.md\r\n",
      "HW3_2_cc5219-Copy1.ipynb   HW3_3_cc5219.ipynb  times.txt\r\n"
     ]
    }
   ],
   "source": [
    "ls"
   ]
  },
  {
   "cell_type": "code",
   "execution_count": 31,
   "metadata": {
    "collapsed": false
   },
   "outputs": [
    {
     "data": {
      "text/html": [
       "<div>\n",
       "<table border=\"1\" class=\"dataframe\">\n",
       "  <thead>\n",
       "    <tr style=\"text-align: right;\">\n",
       "      <th></th>\n",
       "      <th>tripduration</th>\n",
       "      <th>starttime</th>\n",
       "      <th>stoptime</th>\n",
       "      <th>start station id</th>\n",
       "      <th>start station name</th>\n",
       "      <th>start station latitude</th>\n",
       "      <th>start station longitude</th>\n",
       "      <th>end station id</th>\n",
       "      <th>end station name</th>\n",
       "      <th>end station latitude</th>\n",
       "      <th>end station longitude</th>\n",
       "      <th>bikeid</th>\n",
       "      <th>usertype</th>\n",
       "      <th>birth year</th>\n",
       "      <th>gender</th>\n",
       "    </tr>\n",
       "  </thead>\n",
       "  <tbody>\n",
       "    <tr>\n",
       "      <th>0</th>\n",
       "      <td>171</td>\n",
       "      <td>10/1/2015 00:00:02</td>\n",
       "      <td>10/1/2015 00:02:54</td>\n",
       "      <td>388</td>\n",
       "      <td>W 26 St &amp; 10 Ave</td>\n",
       "      <td>40.749718</td>\n",
       "      <td>-74.002950</td>\n",
       "      <td>494</td>\n",
       "      <td>W 26 St &amp; 8 Ave</td>\n",
       "      <td>40.747348</td>\n",
       "      <td>-73.997236</td>\n",
       "      <td>24302</td>\n",
       "      <td>Subscriber</td>\n",
       "      <td>1973.0</td>\n",
       "      <td>1</td>\n",
       "    </tr>\n",
       "    <tr>\n",
       "      <th>1</th>\n",
       "      <td>593</td>\n",
       "      <td>10/1/2015 00:00:02</td>\n",
       "      <td>10/1/2015 00:09:55</td>\n",
       "      <td>518</td>\n",
       "      <td>E 39 St &amp; 2 Ave</td>\n",
       "      <td>40.747804</td>\n",
       "      <td>-73.973442</td>\n",
       "      <td>438</td>\n",
       "      <td>St Marks Pl &amp; 1 Ave</td>\n",
       "      <td>40.727791</td>\n",
       "      <td>-73.985649</td>\n",
       "      <td>19904</td>\n",
       "      <td>Subscriber</td>\n",
       "      <td>1990.0</td>\n",
       "      <td>1</td>\n",
       "    </tr>\n",
       "    <tr>\n",
       "      <th>2</th>\n",
       "      <td>233</td>\n",
       "      <td>10/1/2015 00:00:11</td>\n",
       "      <td>10/1/2015 00:04:05</td>\n",
       "      <td>447</td>\n",
       "      <td>8 Ave &amp; W 52 St</td>\n",
       "      <td>40.763707</td>\n",
       "      <td>-73.985162</td>\n",
       "      <td>447</td>\n",
       "      <td>8 Ave &amp; W 52 St</td>\n",
       "      <td>40.763707</td>\n",
       "      <td>-73.985162</td>\n",
       "      <td>17797</td>\n",
       "      <td>Subscriber</td>\n",
       "      <td>1984.0</td>\n",
       "      <td>1</td>\n",
       "    </tr>\n",
       "    <tr>\n",
       "      <th>3</th>\n",
       "      <td>250</td>\n",
       "      <td>10/1/2015 00:00:15</td>\n",
       "      <td>10/1/2015 00:04:25</td>\n",
       "      <td>336</td>\n",
       "      <td>Sullivan St &amp; Washington Sq</td>\n",
       "      <td>40.730477</td>\n",
       "      <td>-73.999061</td>\n",
       "      <td>223</td>\n",
       "      <td>W 13 St &amp; 7 Ave</td>\n",
       "      <td>40.737815</td>\n",
       "      <td>-73.999947</td>\n",
       "      <td>23966</td>\n",
       "      <td>Subscriber</td>\n",
       "      <td>1984.0</td>\n",
       "      <td>1</td>\n",
       "    </tr>\n",
       "    <tr>\n",
       "      <th>4</th>\n",
       "      <td>528</td>\n",
       "      <td>10/1/2015 00:00:17</td>\n",
       "      <td>10/1/2015 00:09:05</td>\n",
       "      <td>3107</td>\n",
       "      <td>Bedford Ave &amp; Nassau Ave</td>\n",
       "      <td>40.723117</td>\n",
       "      <td>-73.952123</td>\n",
       "      <td>539</td>\n",
       "      <td>Metropolitan Ave &amp; Bedford Ave</td>\n",
       "      <td>40.715348</td>\n",
       "      <td>-73.960241</td>\n",
       "      <td>16246</td>\n",
       "      <td>Customer</td>\n",
       "      <td>NaN</td>\n",
       "      <td>0</td>\n",
       "    </tr>\n",
       "  </tbody>\n",
       "</table>\n",
       "</div>"
      ],
      "text/plain": [
       "   tripduration           starttime            stoptime  start station id  \\\n",
       "0           171  10/1/2015 00:00:02  10/1/2015 00:02:54               388   \n",
       "1           593  10/1/2015 00:00:02  10/1/2015 00:09:55               518   \n",
       "2           233  10/1/2015 00:00:11  10/1/2015 00:04:05               447   \n",
       "3           250  10/1/2015 00:00:15  10/1/2015 00:04:25               336   \n",
       "4           528  10/1/2015 00:00:17  10/1/2015 00:09:05              3107   \n",
       "\n",
       "            start station name  start station latitude  \\\n",
       "0             W 26 St & 10 Ave               40.749718   \n",
       "1              E 39 St & 2 Ave               40.747804   \n",
       "2              8 Ave & W 52 St               40.763707   \n",
       "3  Sullivan St & Washington Sq               40.730477   \n",
       "4     Bedford Ave & Nassau Ave               40.723117   \n",
       "\n",
       "   start station longitude  end station id                end station name  \\\n",
       "0               -74.002950             494                 W 26 St & 8 Ave   \n",
       "1               -73.973442             438             St Marks Pl & 1 Ave   \n",
       "2               -73.985162             447                 8 Ave & W 52 St   \n",
       "3               -73.999061             223                 W 13 St & 7 Ave   \n",
       "4               -73.952123             539  Metropolitan Ave & Bedford Ave   \n",
       "\n",
       "   end station latitude  end station longitude  bikeid    usertype  \\\n",
       "0             40.747348             -73.997236   24302  Subscriber   \n",
       "1             40.727791             -73.985649   19904  Subscriber   \n",
       "2             40.763707             -73.985162   17797  Subscriber   \n",
       "3             40.737815             -73.999947   23966  Subscriber   \n",
       "4             40.715348             -73.960241   16246    Customer   \n",
       "\n",
       "   birth year  gender  \n",
       "0      1973.0       1  \n",
       "1      1990.0       1  \n",
       "2      1984.0       1  \n",
       "3      1984.0       1  \n",
       "4         NaN       0  "
      ]
     },
     "execution_count": 31,
     "metadata": {},
     "output_type": "execute_result"
    }
   ],
   "source": [
    "df=pd.read_csv(os.getenv(\"PUIDATA\") + \"/\" + datestring + '-citibike-tripdata.csv')\n",
    "# df is the dataframe where the content of the csv file is stored\n",
    "# note that with dataframes I can refer to variables as dictionary keys, \n",
    "# i.e. df['starttime'] or as attributes: df.starttime. \n",
    "df.head()"
   ]
  },
  {
   "cell_type": "code",
   "execution_count": 32,
   "metadata": {
    "collapsed": false
   },
   "outputs": [
    {
     "data": {
      "text/html": [
       "<div>\n",
       "<table border=\"1\" class=\"dataframe\">\n",
       "  <thead>\n",
       "    <tr style=\"text-align: right;\">\n",
       "      <th></th>\n",
       "      <th>tripduration</th>\n",
       "      <th>starttime</th>\n",
       "      <th>stoptime</th>\n",
       "      <th>start station id</th>\n",
       "      <th>start station name</th>\n",
       "      <th>start station latitude</th>\n",
       "      <th>start station longitude</th>\n",
       "      <th>end station id</th>\n",
       "      <th>end station name</th>\n",
       "      <th>end station latitude</th>\n",
       "      <th>end station longitude</th>\n",
       "      <th>bikeid</th>\n",
       "      <th>usertype</th>\n",
       "      <th>birth year</th>\n",
       "      <th>gender</th>\n",
       "    </tr>\n",
       "  </thead>\n",
       "  <tbody>\n",
       "    <tr>\n",
       "      <th>0</th>\n",
       "      <td>171</td>\n",
       "      <td>10/1/2015 00:00:02</td>\n",
       "      <td>10/1/2015 00:02:54</td>\n",
       "      <td>388</td>\n",
       "      <td>W 26 St &amp; 10 Ave</td>\n",
       "      <td>40.749718</td>\n",
       "      <td>-74.002950</td>\n",
       "      <td>494</td>\n",
       "      <td>W 26 St &amp; 8 Ave</td>\n",
       "      <td>40.747348</td>\n",
       "      <td>-73.997236</td>\n",
       "      <td>24302</td>\n",
       "      <td>Subscriber</td>\n",
       "      <td>1973.0</td>\n",
       "      <td>1</td>\n",
       "    </tr>\n",
       "    <tr>\n",
       "      <th>1</th>\n",
       "      <td>593</td>\n",
       "      <td>10/1/2015 00:00:02</td>\n",
       "      <td>10/1/2015 00:09:55</td>\n",
       "      <td>518</td>\n",
       "      <td>E 39 St &amp; 2 Ave</td>\n",
       "      <td>40.747804</td>\n",
       "      <td>-73.973442</td>\n",
       "      <td>438</td>\n",
       "      <td>St Marks Pl &amp; 1 Ave</td>\n",
       "      <td>40.727791</td>\n",
       "      <td>-73.985649</td>\n",
       "      <td>19904</td>\n",
       "      <td>Subscriber</td>\n",
       "      <td>1990.0</td>\n",
       "      <td>1</td>\n",
       "    </tr>\n",
       "    <tr>\n",
       "      <th>2</th>\n",
       "      <td>233</td>\n",
       "      <td>10/1/2015 00:00:11</td>\n",
       "      <td>10/1/2015 00:04:05</td>\n",
       "      <td>447</td>\n",
       "      <td>8 Ave &amp; W 52 St</td>\n",
       "      <td>40.763707</td>\n",
       "      <td>-73.985162</td>\n",
       "      <td>447</td>\n",
       "      <td>8 Ave &amp; W 52 St</td>\n",
       "      <td>40.763707</td>\n",
       "      <td>-73.985162</td>\n",
       "      <td>17797</td>\n",
       "      <td>Subscriber</td>\n",
       "      <td>1984.0</td>\n",
       "      <td>1</td>\n",
       "    </tr>\n",
       "    <tr>\n",
       "      <th>3</th>\n",
       "      <td>250</td>\n",
       "      <td>10/1/2015 00:00:15</td>\n",
       "      <td>10/1/2015 00:04:25</td>\n",
       "      <td>336</td>\n",
       "      <td>Sullivan St &amp; Washington Sq</td>\n",
       "      <td>40.730477</td>\n",
       "      <td>-73.999061</td>\n",
       "      <td>223</td>\n",
       "      <td>W 13 St &amp; 7 Ave</td>\n",
       "      <td>40.737815</td>\n",
       "      <td>-73.999947</td>\n",
       "      <td>23966</td>\n",
       "      <td>Subscriber</td>\n",
       "      <td>1984.0</td>\n",
       "      <td>1</td>\n",
       "    </tr>\n",
       "    <tr>\n",
       "      <th>6</th>\n",
       "      <td>1185</td>\n",
       "      <td>10/1/2015 00:00:22</td>\n",
       "      <td>10/1/2015 00:20:07</td>\n",
       "      <td>531</td>\n",
       "      <td>Forsyth St &amp; Broome St</td>\n",
       "      <td>40.718939</td>\n",
       "      <td>-73.992663</td>\n",
       "      <td>3064</td>\n",
       "      <td>Myrtle Ave &amp; Lewis Ave</td>\n",
       "      <td>40.696820</td>\n",
       "      <td>-73.937569</td>\n",
       "      <td>17110</td>\n",
       "      <td>Subscriber</td>\n",
       "      <td>1987.0</td>\n",
       "      <td>1</td>\n",
       "    </tr>\n",
       "    <tr>\n",
       "      <th>7</th>\n",
       "      <td>618</td>\n",
       "      <td>10/1/2015 00:00:25</td>\n",
       "      <td>10/1/2015 00:10:44</td>\n",
       "      <td>3002</td>\n",
       "      <td>South End Ave &amp; Liberty St</td>\n",
       "      <td>40.711512</td>\n",
       "      <td>-74.015756</td>\n",
       "      <td>2004</td>\n",
       "      <td>6 Ave &amp; Broome St</td>\n",
       "      <td>40.724399</td>\n",
       "      <td>-74.004704</td>\n",
       "      <td>16344</td>\n",
       "      <td>Subscriber</td>\n",
       "      <td>1989.0</td>\n",
       "      <td>1</td>\n",
       "    </tr>\n",
       "    <tr>\n",
       "      <th>8</th>\n",
       "      <td>865</td>\n",
       "      <td>10/1/2015 00:00:31</td>\n",
       "      <td>10/1/2015 00:14:57</td>\n",
       "      <td>438</td>\n",
       "      <td>St Marks Pl &amp; 1 Ave</td>\n",
       "      <td>40.727791</td>\n",
       "      <td>-73.985649</td>\n",
       "      <td>486</td>\n",
       "      <td>Broadway &amp; W 29 St</td>\n",
       "      <td>40.746201</td>\n",
       "      <td>-73.988557</td>\n",
       "      <td>23822</td>\n",
       "      <td>Subscriber</td>\n",
       "      <td>1991.0</td>\n",
       "      <td>2</td>\n",
       "    </tr>\n",
       "    <tr>\n",
       "      <th>9</th>\n",
       "      <td>454</td>\n",
       "      <td>10/1/2015 00:00:35</td>\n",
       "      <td>10/1/2015 00:08:09</td>\n",
       "      <td>127</td>\n",
       "      <td>Barrow St &amp; Hudson St</td>\n",
       "      <td>40.731724</td>\n",
       "      <td>-74.006744</td>\n",
       "      <td>462</td>\n",
       "      <td>W 22 St &amp; 10 Ave</td>\n",
       "      <td>40.746920</td>\n",
       "      <td>-74.004519</td>\n",
       "      <td>16462</td>\n",
       "      <td>Subscriber</td>\n",
       "      <td>1995.0</td>\n",
       "      <td>1</td>\n",
       "    </tr>\n",
       "    <tr>\n",
       "      <th>10</th>\n",
       "      <td>408</td>\n",
       "      <td>10/1/2015 00:00:48</td>\n",
       "      <td>10/1/2015 00:07:36</td>\n",
       "      <td>3092</td>\n",
       "      <td>Berry St &amp; N 8 St</td>\n",
       "      <td>40.719009</td>\n",
       "      <td>-73.958525</td>\n",
       "      <td>3095</td>\n",
       "      <td>Graham Ave &amp; Herbert St</td>\n",
       "      <td>40.719293</td>\n",
       "      <td>-73.945004</td>\n",
       "      <td>23121</td>\n",
       "      <td>Subscriber</td>\n",
       "      <td>1984.0</td>\n",
       "      <td>2</td>\n",
       "    </tr>\n",
       "    <tr>\n",
       "      <th>11</th>\n",
       "      <td>286</td>\n",
       "      <td>10/1/2015 00:00:49</td>\n",
       "      <td>10/1/2015 00:05:35</td>\n",
       "      <td>150</td>\n",
       "      <td>E 2 St &amp; Avenue C</td>\n",
       "      <td>40.720874</td>\n",
       "      <td>-73.980858</td>\n",
       "      <td>312</td>\n",
       "      <td>Allen St &amp; E Houston St</td>\n",
       "      <td>40.722055</td>\n",
       "      <td>-73.989111</td>\n",
       "      <td>23266</td>\n",
       "      <td>Subscriber</td>\n",
       "      <td>1984.0</td>\n",
       "      <td>1</td>\n",
       "    </tr>\n",
       "  </tbody>\n",
       "</table>\n",
       "</div>"
      ],
      "text/plain": [
       "    tripduration           starttime            stoptime  start station id  \\\n",
       "0            171  10/1/2015 00:00:02  10/1/2015 00:02:54               388   \n",
       "1            593  10/1/2015 00:00:02  10/1/2015 00:09:55               518   \n",
       "2            233  10/1/2015 00:00:11  10/1/2015 00:04:05               447   \n",
       "3            250  10/1/2015 00:00:15  10/1/2015 00:04:25               336   \n",
       "6           1185  10/1/2015 00:00:22  10/1/2015 00:20:07               531   \n",
       "7            618  10/1/2015 00:00:25  10/1/2015 00:10:44              3002   \n",
       "8            865  10/1/2015 00:00:31  10/1/2015 00:14:57               438   \n",
       "9            454  10/1/2015 00:00:35  10/1/2015 00:08:09               127   \n",
       "10           408  10/1/2015 00:00:48  10/1/2015 00:07:36              3092   \n",
       "11           286  10/1/2015 00:00:49  10/1/2015 00:05:35               150   \n",
       "\n",
       "             start station name  start station latitude  \\\n",
       "0              W 26 St & 10 Ave               40.749718   \n",
       "1               E 39 St & 2 Ave               40.747804   \n",
       "2               8 Ave & W 52 St               40.763707   \n",
       "3   Sullivan St & Washington Sq               40.730477   \n",
       "6        Forsyth St & Broome St               40.718939   \n",
       "7    South End Ave & Liberty St               40.711512   \n",
       "8           St Marks Pl & 1 Ave               40.727791   \n",
       "9         Barrow St & Hudson St               40.731724   \n",
       "10            Berry St & N 8 St               40.719009   \n",
       "11            E 2 St & Avenue C               40.720874   \n",
       "\n",
       "    start station longitude  end station id         end station name  \\\n",
       "0                -74.002950             494          W 26 St & 8 Ave   \n",
       "1                -73.973442             438      St Marks Pl & 1 Ave   \n",
       "2                -73.985162             447          8 Ave & W 52 St   \n",
       "3                -73.999061             223          W 13 St & 7 Ave   \n",
       "6                -73.992663            3064   Myrtle Ave & Lewis Ave   \n",
       "7                -74.015756            2004        6 Ave & Broome St   \n",
       "8                -73.985649             486       Broadway & W 29 St   \n",
       "9                -74.006744             462         W 22 St & 10 Ave   \n",
       "10               -73.958525            3095  Graham Ave & Herbert St   \n",
       "11               -73.980858             312  Allen St & E Houston St   \n",
       "\n",
       "    end station latitude  end station longitude  bikeid    usertype  \\\n",
       "0              40.747348             -73.997236   24302  Subscriber   \n",
       "1              40.727791             -73.985649   19904  Subscriber   \n",
       "2              40.763707             -73.985162   17797  Subscriber   \n",
       "3              40.737815             -73.999947   23966  Subscriber   \n",
       "6              40.696820             -73.937569   17110  Subscriber   \n",
       "7              40.724399             -74.004704   16344  Subscriber   \n",
       "8              40.746201             -73.988557   23822  Subscriber   \n",
       "9              40.746920             -74.004519   16462  Subscriber   \n",
       "10             40.719293             -73.945004   23121  Subscriber   \n",
       "11             40.722055             -73.989111   23266  Subscriber   \n",
       "\n",
       "    birth year  gender  \n",
       "0       1973.0       1  \n",
       "1       1990.0       1  \n",
       "2       1984.0       1  \n",
       "3       1984.0       1  \n",
       "6       1987.0       1  \n",
       "7       1989.0       1  \n",
       "8       1991.0       2  \n",
       "9       1995.0       1  \n",
       "10      1984.0       2  \n",
       "11      1984.0       1  "
      ]
     },
     "execution_count": 32,
     "metadata": {},
     "output_type": "execute_result"
    }
   ],
   "source": [
    "df=df.dropna()\n",
    "df.head(10)"
   ]
  },
  {
   "cell_type": "code",
   "execution_count": 33,
   "metadata": {
    "collapsed": false
   },
   "outputs": [
    {
     "data": {
      "text/html": [
       "<div>\n",
       "<table border=\"1\" class=\"dataframe\">\n",
       "  <thead>\n",
       "    <tr style=\"text-align: right;\">\n",
       "      <th></th>\n",
       "      <th>tripduration</th>\n",
       "      <th>starttime</th>\n",
       "      <th>stoptime</th>\n",
       "      <th>start station id</th>\n",
       "      <th>start station name</th>\n",
       "      <th>start station latitude</th>\n",
       "      <th>start station longitude</th>\n",
       "      <th>end station id</th>\n",
       "      <th>end station name</th>\n",
       "      <th>end station latitude</th>\n",
       "      <th>end station longitude</th>\n",
       "      <th>bikeid</th>\n",
       "      <th>usertype</th>\n",
       "      <th>birth year</th>\n",
       "      <th>gender</th>\n",
       "      <th>Age</th>\n",
       "    </tr>\n",
       "  </thead>\n",
       "  <tbody>\n",
       "    <tr>\n",
       "      <th>0</th>\n",
       "      <td>171</td>\n",
       "      <td>10/1/2015 00:00:02</td>\n",
       "      <td>10/1/2015 00:02:54</td>\n",
       "      <td>388</td>\n",
       "      <td>W 26 St &amp; 10 Ave</td>\n",
       "      <td>40.749718</td>\n",
       "      <td>-74.002950</td>\n",
       "      <td>494</td>\n",
       "      <td>W 26 St &amp; 8 Ave</td>\n",
       "      <td>40.747348</td>\n",
       "      <td>-73.997236</td>\n",
       "      <td>24302</td>\n",
       "      <td>Subscriber</td>\n",
       "      <td>1973.0</td>\n",
       "      <td>1</td>\n",
       "      <td>42.0</td>\n",
       "    </tr>\n",
       "    <tr>\n",
       "      <th>1</th>\n",
       "      <td>593</td>\n",
       "      <td>10/1/2015 00:00:02</td>\n",
       "      <td>10/1/2015 00:09:55</td>\n",
       "      <td>518</td>\n",
       "      <td>E 39 St &amp; 2 Ave</td>\n",
       "      <td>40.747804</td>\n",
       "      <td>-73.973442</td>\n",
       "      <td>438</td>\n",
       "      <td>St Marks Pl &amp; 1 Ave</td>\n",
       "      <td>40.727791</td>\n",
       "      <td>-73.985649</td>\n",
       "      <td>19904</td>\n",
       "      <td>Subscriber</td>\n",
       "      <td>1990.0</td>\n",
       "      <td>1</td>\n",
       "      <td>25.0</td>\n",
       "    </tr>\n",
       "    <tr>\n",
       "      <th>2</th>\n",
       "      <td>233</td>\n",
       "      <td>10/1/2015 00:00:11</td>\n",
       "      <td>10/1/2015 00:04:05</td>\n",
       "      <td>447</td>\n",
       "      <td>8 Ave &amp; W 52 St</td>\n",
       "      <td>40.763707</td>\n",
       "      <td>-73.985162</td>\n",
       "      <td>447</td>\n",
       "      <td>8 Ave &amp; W 52 St</td>\n",
       "      <td>40.763707</td>\n",
       "      <td>-73.985162</td>\n",
       "      <td>17797</td>\n",
       "      <td>Subscriber</td>\n",
       "      <td>1984.0</td>\n",
       "      <td>1</td>\n",
       "      <td>31.0</td>\n",
       "    </tr>\n",
       "    <tr>\n",
       "      <th>3</th>\n",
       "      <td>250</td>\n",
       "      <td>10/1/2015 00:00:15</td>\n",
       "      <td>10/1/2015 00:04:25</td>\n",
       "      <td>336</td>\n",
       "      <td>Sullivan St &amp; Washington Sq</td>\n",
       "      <td>40.730477</td>\n",
       "      <td>-73.999061</td>\n",
       "      <td>223</td>\n",
       "      <td>W 13 St &amp; 7 Ave</td>\n",
       "      <td>40.737815</td>\n",
       "      <td>-73.999947</td>\n",
       "      <td>23966</td>\n",
       "      <td>Subscriber</td>\n",
       "      <td>1984.0</td>\n",
       "      <td>1</td>\n",
       "      <td>31.0</td>\n",
       "    </tr>\n",
       "    <tr>\n",
       "      <th>6</th>\n",
       "      <td>1185</td>\n",
       "      <td>10/1/2015 00:00:22</td>\n",
       "      <td>10/1/2015 00:20:07</td>\n",
       "      <td>531</td>\n",
       "      <td>Forsyth St &amp; Broome St</td>\n",
       "      <td>40.718939</td>\n",
       "      <td>-73.992663</td>\n",
       "      <td>3064</td>\n",
       "      <td>Myrtle Ave &amp; Lewis Ave</td>\n",
       "      <td>40.696820</td>\n",
       "      <td>-73.937569</td>\n",
       "      <td>17110</td>\n",
       "      <td>Subscriber</td>\n",
       "      <td>1987.0</td>\n",
       "      <td>1</td>\n",
       "      <td>28.0</td>\n",
       "    </tr>\n",
       "  </tbody>\n",
       "</table>\n",
       "</div>"
      ],
      "text/plain": [
       "   tripduration           starttime            stoptime  start station id  \\\n",
       "0           171  10/1/2015 00:00:02  10/1/2015 00:02:54               388   \n",
       "1           593  10/1/2015 00:00:02  10/1/2015 00:09:55               518   \n",
       "2           233  10/1/2015 00:00:11  10/1/2015 00:04:05               447   \n",
       "3           250  10/1/2015 00:00:15  10/1/2015 00:04:25               336   \n",
       "6          1185  10/1/2015 00:00:22  10/1/2015 00:20:07               531   \n",
       "\n",
       "            start station name  start station latitude  \\\n",
       "0             W 26 St & 10 Ave               40.749718   \n",
       "1              E 39 St & 2 Ave               40.747804   \n",
       "2              8 Ave & W 52 St               40.763707   \n",
       "3  Sullivan St & Washington Sq               40.730477   \n",
       "6       Forsyth St & Broome St               40.718939   \n",
       "\n",
       "   start station longitude  end station id        end station name  \\\n",
       "0               -74.002950             494         W 26 St & 8 Ave   \n",
       "1               -73.973442             438     St Marks Pl & 1 Ave   \n",
       "2               -73.985162             447         8 Ave & W 52 St   \n",
       "3               -73.999061             223         W 13 St & 7 Ave   \n",
       "6               -73.992663            3064  Myrtle Ave & Lewis Ave   \n",
       "\n",
       "   end station latitude  end station longitude  bikeid    usertype  \\\n",
       "0             40.747348             -73.997236   24302  Subscriber   \n",
       "1             40.727791             -73.985649   19904  Subscriber   \n",
       "2             40.763707             -73.985162   17797  Subscriber   \n",
       "3             40.737815             -73.999947   23966  Subscriber   \n",
       "6             40.696820             -73.937569   17110  Subscriber   \n",
       "\n",
       "   birth year  gender   Age  \n",
       "0      1973.0       1  42.0  \n",
       "1      1990.0       1  25.0  \n",
       "2      1984.0       1  31.0  \n",
       "3      1984.0       1  31.0  \n",
       "6      1987.0       1  28.0  "
      ]
     },
     "execution_count": 33,
     "metadata": {},
     "output_type": "execute_result"
    }
   ],
   "source": [
    "df['Age'] = 2015-df['birth year']\n",
    "df.head()"
   ]
  },
  {
   "cell_type": "code",
   "execution_count": 34,
   "metadata": {
    "collapsed": false
   },
   "outputs": [
    {
     "data": {
      "text/html": [
       "<div>\n",
       "<table border=\"1\" class=\"dataframe\">\n",
       "  <thead>\n",
       "    <tr style=\"text-align: right;\">\n",
       "      <th></th>\n",
       "      <th>tripduration</th>\n",
       "      <th>Age</th>\n",
       "    </tr>\n",
       "  </thead>\n",
       "  <tbody>\n",
       "    <tr>\n",
       "      <th>0</th>\n",
       "      <td>171</td>\n",
       "      <td>42.0</td>\n",
       "    </tr>\n",
       "    <tr>\n",
       "      <th>1</th>\n",
       "      <td>593</td>\n",
       "      <td>25.0</td>\n",
       "    </tr>\n",
       "    <tr>\n",
       "      <th>2</th>\n",
       "      <td>233</td>\n",
       "      <td>31.0</td>\n",
       "    </tr>\n",
       "    <tr>\n",
       "      <th>3</th>\n",
       "      <td>250</td>\n",
       "      <td>31.0</td>\n",
       "    </tr>\n",
       "    <tr>\n",
       "      <th>6</th>\n",
       "      <td>1185</td>\n",
       "      <td>28.0</td>\n",
       "    </tr>\n",
       "  </tbody>\n",
       "</table>\n",
       "</div>"
      ],
      "text/plain": [
       "   tripduration   Age\n",
       "0           171  42.0\n",
       "1           593  25.0\n",
       "2           233  31.0\n",
       "3           250  31.0\n",
       "6          1185  28.0"
      ]
     },
     "execution_count": 34,
     "metadata": {},
     "output_type": "execute_result"
    }
   ],
   "source": [
    "data=df.loc[:,[\"tripduration\",\"Age\"]]\n",
    "data.head()"
   ]
  },
  {
   "cell_type": "code",
   "execution_count": 35,
   "metadata": {
    "collapsed": false
   },
   "outputs": [
    {
     "data": {
      "text/plain": [
       "130.0"
      ]
     },
     "execution_count": 35,
     "metadata": {},
     "output_type": "execute_result"
    }
   ],
   "source": [
    "data.loc[:,'trip_duration_minute'] = data.tripduration / 60\n",
    "data.head()\n",
    "agemax=data['Age'].max()\n",
    "agemax\n",
    "#data.describe"
   ]
  },
  {
   "cell_type": "code",
   "execution_count": null,
   "metadata": {
    "collapsed": false
   },
   "outputs": [],
   "source": []
  },
  {
   "cell_type": "code",
   "execution_count": 45,
   "metadata": {
    "collapsed": false
   },
   "outputs": [
    {
     "data": {
      "text/plain": [
       "array([10, 20, 30, 40, 50, 60, 70, 80, 90])"
      ]
     },
     "execution_count": 45,
     "metadata": {},
     "output_type": "execute_result"
    }
   ],
   "source": [
    "#cut age > 100 & <10\n",
    "age_range = np.arange(10,100,10)\n",
    "data['Age_range'] = pd.cut(data['Age'], bins=age_range)\n",
    "age_range\n",
    "#data.head()"
   ]
  },
  {
   "cell_type": "code",
   "execution_count": 46,
   "metadata": {
    "collapsed": false
   },
   "outputs": [
    {
     "data": {
      "text/html": [
       "<div>\n",
       "<table border=\"1\" class=\"dataframe\">\n",
       "  <thead>\n",
       "    <tr style=\"text-align: right;\">\n",
       "      <th></th>\n",
       "      <th>tripduration</th>\n",
       "      <th>Age</th>\n",
       "      <th>trip_duration_minute</th>\n",
       "    </tr>\n",
       "    <tr>\n",
       "      <th>Age_range</th>\n",
       "      <th></th>\n",
       "      <th></th>\n",
       "      <th></th>\n",
       "    </tr>\n",
       "  </thead>\n",
       "  <tbody>\n",
       "    <tr>\n",
       "      <th>(10, 20]</th>\n",
       "      <td>753.487503</td>\n",
       "      <td>18.873541</td>\n",
       "      <td>12.558125</td>\n",
       "    </tr>\n",
       "    <tr>\n",
       "      <th>(20, 30]</th>\n",
       "      <td>852.027522</td>\n",
       "      <td>26.463905</td>\n",
       "      <td>14.200459</td>\n",
       "    </tr>\n",
       "    <tr>\n",
       "      <th>(30, 40]</th>\n",
       "      <td>912.046851</td>\n",
       "      <td>34.927328</td>\n",
       "      <td>15.200781</td>\n",
       "    </tr>\n",
       "    <tr>\n",
       "      <th>(40, 50]</th>\n",
       "      <td>939.060074</td>\n",
       "      <td>45.225743</td>\n",
       "      <td>15.651001</td>\n",
       "    </tr>\n",
       "    <tr>\n",
       "      <th>(50, 60]</th>\n",
       "      <td>981.604419</td>\n",
       "      <td>54.801054</td>\n",
       "      <td>16.360074</td>\n",
       "    </tr>\n",
       "    <tr>\n",
       "      <th>(60, 70]</th>\n",
       "      <td>1048.697145</td>\n",
       "      <td>63.829222</td>\n",
       "      <td>17.478286</td>\n",
       "    </tr>\n",
       "    <tr>\n",
       "      <th>(70, 80]</th>\n",
       "      <td>1048.303737</td>\n",
       "      <td>73.384100</td>\n",
       "      <td>17.471729</td>\n",
       "    </tr>\n",
       "    <tr>\n",
       "      <th>(80, 90]</th>\n",
       "      <td>733.586667</td>\n",
       "      <td>84.253333</td>\n",
       "      <td>12.226444</td>\n",
       "    </tr>\n",
       "  </tbody>\n",
       "</table>\n",
       "</div>"
      ],
      "text/plain": [
       "           tripduration        Age  trip_duration_minute\n",
       "Age_range                                               \n",
       "(10, 20]     753.487503  18.873541             12.558125\n",
       "(20, 30]     852.027522  26.463905             14.200459\n",
       "(30, 40]     912.046851  34.927328             15.200781\n",
       "(40, 50]     939.060074  45.225743             15.651001\n",
       "(50, 60]     981.604419  54.801054             16.360074\n",
       "(60, 70]    1048.697145  63.829222             17.478286\n",
       "(70, 80]    1048.303737  73.384100             17.471729\n",
       "(80, 90]     733.586667  84.253333             12.226444"
      ]
     },
     "execution_count": 46,
     "metadata": {},
     "output_type": "execute_result"
    }
   ],
   "source": [
    "agerange_mean = data.groupby(data.Age_range).mean()\n",
    "agerange_mean"
   ]
  },
  {
   "cell_type": "code",
   "execution_count": 47,
   "metadata": {
    "collapsed": false
   },
   "outputs": [
    {
     "name": "stdout",
     "output_type": "stream",
     "text": [
      "<class 'pandas.core.series.Series'>\n"
     ]
    },
    {
     "data": {
      "text/plain": [
       "Age_range\n",
       "(10, 20]    12.558125\n",
       "(20, 30]    14.200459\n",
       "(30, 40]    15.200781\n",
       "(40, 50]    15.651001\n",
       "(50, 60]    16.360074\n",
       "(60, 70]    17.478286\n",
       "(70, 80]    17.471729\n",
       "(80, 90]    12.226444\n",
       "Name: trip_duration_minute, dtype: float64"
      ]
     },
     "execution_count": 47,
     "metadata": {},
     "output_type": "execute_result"
    }
   ],
   "source": [
    "age_trip=agerange_mean['trip_duration_minute']\n",
    "print (type (age_trip))\n",
    "age_trip"
   ]
  },
  {
   "cell_type": "code",
   "execution_count": 48,
   "metadata": {
    "collapsed": false
   },
   "outputs": [
    {
     "data": {
      "image/png": "[encoded data removed]",
      "text/plain": [
       "<matplotlib.figure.Figure at 0x7f1ac5074b10>"
      ]
     },
     "metadata": {},
     "output_type": "display_data"
    }
   ],
   "source": [
    "# Plot distribution of trip duration against age\n",
    "age_trip.plot(kind='bar',color='r', alpha=0.5, legend=False)\n",
    "plt.xlabel('Age')\n",
    "plt.ylabel('Trip Duration (Min)')\n",
    "plt.title('Figure 1: Distribution of Mean Trip Duration with Age')\n",
    "plt.show()"
   ]
  },
  {
   "cell_type": "code",
   "execution_count": 49,
   "metadata": {
    "collapsed": false
   },
   "outputs": [
    {
     "data": {
      "text/html": [
       "<div>\n",
       "<table border=\"1\" class=\"dataframe\">\n",
       "  <thead>\n",
       "    <tr style=\"text-align: right;\">\n",
       "      <th></th>\n",
       "      <th>tripduration</th>\n",
       "      <th>Age</th>\n",
       "      <th>trip_duration_minute</th>\n",
       "    </tr>\n",
       "    <tr>\n",
       "      <th>Age_range</th>\n",
       "      <th></th>\n",
       "      <th></th>\n",
       "      <th></th>\n",
       "    </tr>\n",
       "  </thead>\n",
       "  <tbody>\n",
       "    <tr>\n",
       "      <th>(10, 20]</th>\n",
       "      <td>14139193</td>\n",
       "      <td>354162.0</td>\n",
       "      <td>2.356532e+05</td>\n",
       "    </tr>\n",
       "    <tr>\n",
       "      <th>(20, 30]</th>\n",
       "      <td>270478693</td>\n",
       "      <td>8401046.0</td>\n",
       "      <td>4.507978e+06</td>\n",
       "    </tr>\n",
       "    <tr>\n",
       "      <th>(30, 40]</th>\n",
       "      <td>300940803</td>\n",
       "      <td>11524691.0</td>\n",
       "      <td>5.015680e+06</td>\n",
       "    </tr>\n",
       "    <tr>\n",
       "      <th>(40, 50]</th>\n",
       "      <td>208308879</td>\n",
       "      <td>10032291.0</td>\n",
       "      <td>3.471815e+06</td>\n",
       "    </tr>\n",
       "    <tr>\n",
       "      <th>(50, 60]</th>\n",
       "      <td>132962245</td>\n",
       "      <td>7423022.0</td>\n",
       "      <td>2.216037e+06</td>\n",
       "    </tr>\n",
       "    <tr>\n",
       "      <th>(60, 70]</th>\n",
       "      <td>38938125</td>\n",
       "      <td>2369979.0</td>\n",
       "      <td>6.489688e+05</td>\n",
       "    </tr>\n",
       "    <tr>\n",
       "      <th>(70, 80]</th>\n",
       "      <td>4852598</td>\n",
       "      <td>339695.0</td>\n",
       "      <td>8.087663e+04</td>\n",
       "    </tr>\n",
       "    <tr>\n",
       "      <th>(80, 90]</th>\n",
       "      <td>110038</td>\n",
       "      <td>12638.0</td>\n",
       "      <td>1.833967e+03</td>\n",
       "    </tr>\n",
       "  </tbody>\n",
       "</table>\n",
       "</div>"
      ],
      "text/plain": [
       "           tripduration         Age  trip_duration_minute\n",
       "Age_range                                                \n",
       "(10, 20]       14139193    354162.0          2.356532e+05\n",
       "(20, 30]      270478693   8401046.0          4.507978e+06\n",
       "(30, 40]      300940803  11524691.0          5.015680e+06\n",
       "(40, 50]      208308879  10032291.0          3.471815e+06\n",
       "(50, 60]      132962245   7423022.0          2.216037e+06\n",
       "(60, 70]       38938125   2369979.0          6.489688e+05\n",
       "(70, 80]        4852598    339695.0          8.087663e+04\n",
       "(80, 90]         110038     12638.0          1.833967e+03"
      ]
     },
     "execution_count": 49,
     "metadata": {},
     "output_type": "execute_result"
    }
   ],
   "source": [
    "agerange_sum = data.groupby(data.Age_range).sum()\n",
    "agerange_sum"
   ]
  },
  {
   "cell_type": "code",
   "execution_count": 50,
   "metadata": {
    "collapsed": false
   },
   "outputs": [
    {
     "data": {
      "text/html": [
       "<div>\n",
       "<table border=\"1\" class=\"dataframe\">\n",
       "  <thead>\n",
       "    <tr style=\"text-align: right;\">\n",
       "      <th></th>\n",
       "      <th>normalized_trip_duration</th>\n",
       "    </tr>\n",
       "    <tr>\n",
       "      <th>Age_range</th>\n",
       "      <th></th>\n",
       "    </tr>\n",
       "  </thead>\n",
       "  <tbody>\n",
       "    <tr>\n",
       "      <th>(10, 20]</th>\n",
       "      <td>0.014566</td>\n",
       "    </tr>\n",
       "    <tr>\n",
       "      <th>(20, 30]</th>\n",
       "      <td>0.278634</td>\n",
       "    </tr>\n",
       "    <tr>\n",
       "      <th>(30, 40]</th>\n",
       "      <td>0.310015</td>\n",
       "    </tr>\n",
       "    <tr>\n",
       "      <th>(40, 50]</th>\n",
       "      <td>0.214590</td>\n",
       "    </tr>\n",
       "    <tr>\n",
       "      <th>(50, 60]</th>\n",
       "      <td>0.136971</td>\n",
       "    </tr>\n",
       "    <tr>\n",
       "      <th>(60, 70]</th>\n",
       "      <td>0.040112</td>\n",
       "    </tr>\n",
       "    <tr>\n",
       "      <th>(70, 80]</th>\n",
       "      <td>0.004999</td>\n",
       "    </tr>\n",
       "    <tr>\n",
       "      <th>(80, 90]</th>\n",
       "      <td>0.000113</td>\n",
       "    </tr>\n",
       "  </tbody>\n",
       "</table>\n",
       "</div>"
      ],
      "text/plain": [
       "           normalized_trip_duration\n",
       "Age_range                          \n",
       "(10, 20]                   0.014566\n",
       "(20, 30]                   0.278634\n",
       "(30, 40]                   0.310015\n",
       "(40, 50]                   0.214590\n",
       "(50, 60]                   0.136971\n",
       "(60, 70]                   0.040112\n",
       "(70, 80]                   0.004999\n",
       "(80, 90]                   0.000113"
      ]
     },
     "execution_count": 50,
     "metadata": {},
     "output_type": "execute_result"
    }
   ],
   "source": [
    "# Normalize the tripduration by divide by total trip duration\n",
    "df_normalized = pd.DataFrame()\n",
    "df_normalized['normalized_trip_duration'] = agerange_sum.tripduration / agerange_sum.tripduration.sum()\n",
    "df_normalized"
   ]
  },
  {
   "cell_type": "code",
   "execution_count": 42,
   "metadata": {
    "collapsed": false
   },
   "outputs": [
    {
     "data": {
      "image/png": "[encoded data removed]",
      "text/plain": [
       "<matplotlib.figure.Figure at 0x7f1ac50c1fd0>"
      ]
     },
     "metadata": {},
     "output_type": "display_data"
    }
   ],
   "source": [
    "df_normalized.plot(kind='bar', color='r', alpha=0.5, legend=False)\n",
    "plt.xlabel('Age')\n",
    "plt.ylabel('Normalized Trip Duration')\n",
    "plt.title('Figure 2: Distribution of Normalized Trip Duration with Age')\n",
    "plt.show()"
   ]
  },
  {
   "cell_type": "code",
   "execution_count": 67,
   "metadata": {
    "collapsed": false
   },
   "outputs": [
    {
     "name": "stdout",
     "output_type": "stream",
     "text": [
      "0.147777597661\n",
      "0.278709630651\n",
      "177758\n",
      "0.182195771656\n"
     ]
    }
   ],
   "source": [
    "# Divide the data into two between age 50\n",
    "below40 = df_normalized[0:4].normalized_trip_duration.sum()\n",
    "above40 = df_normalized[4:8].normalized_trip_duration.sum()\n",
    "# Calculate the standard error of the mean for trip durations\n",
    "sample_std_above = data[data.Age>50].trip_duration_minute.std()\n",
    "n_above = data[data.Age>50].trip_duration_minute.count()\n",
    "error_above = sample_std_above/np.sqrt(n_above)\n",
    "\n",
    "sample_std_below = data[data.Age<=50].trip_duration_minute.std()\n",
    "n_below = data[data.Age<=50].trip_duration_minute.count()\n",
    "error_below = sample_std_below/np.sqrt(n_below)\n",
    "print (error_below)\n",
    "print (error_above)\n",
    "print (n_above)\n",
    "print (above40)"
   ]
  },
  {
   "cell_type": "code",
   "execution_count": 59,
   "metadata": {
    "collapsed": false
   },
   "outputs": [
    {
     "data": {
      "image/png": "[encoded data removed]",
      "text/plain": [
       "<matplotlib.figure.Figure at 0x7f1a55bab150>"
      ]
     },
     "metadata": {},
     "output_type": "display_data"
    }
   ],
   "source": [
    "fig = plt.figure()\n",
    "ax = fig.add_subplot(111)\n",
    "ax.set_xticks([])\n",
    "ax.errorbar(x = [0.2], y = below40, yerr=error_below, fmt='o', label='Above Age 40')\n",
    "ax.errorbar(x = [0.3], y = above40, yerr=error_above, fmt='o',color='r', label='Below Age 40')\n",
    "ax.set_ylim(0,1)\n",
    "ax.set_xlim(0,0.5)\n",
    "ax.set_title('Older Biker vs Younger Biker')\n",
    "ax.set_ylabel('Normalized Trip Duration')\n",
    "plt.legend(fontsize = 10)\n",
    "\n",
    "plt.show()"
   ]
  },
  {
   "cell_type": "code",
   "execution_count": 76,
   "metadata": {
    "collapsed": false
   },
   "outputs": [
    {
     "name": "stdout",
     "output_type": "stream",
     "text": [
      "         tripduration   Age  trip_duration_minute Age_range\n",
      "0                 171  42.0              2.850000  (40, 50]\n",
      "1                 593  25.0              9.883333  (20, 30]\n",
      "2                 233  31.0              3.883333  (30, 40]\n",
      "3                 250  31.0              4.166667  (30, 40]\n",
      "6                1185  28.0             19.750000  (20, 30]\n",
      "7                 618  26.0             10.300000  (20, 30]\n",
      "8                 865  24.0             14.416667  (20, 30]\n",
      "9                 454  20.0              7.566667  (10, 20]\n",
      "10                408  31.0              6.800000  (30, 40]\n",
      "11                286  31.0              4.766667  (30, 40]\n",
      "12                306  32.0              5.100000  (30, 40]\n",
      "13                282  20.0              4.700000  (10, 20]\n",
      "14                218  24.0              3.633333  (20, 30]\n",
      "15               1099  26.0             18.316667  (20, 30]\n",
      "16                374  21.0              6.233333  (20, 30]\n",
      "17                645  41.0             10.750000  (40, 50]\n",
      "18                376  27.0              6.266667  (20, 30]\n",
      "19                388  25.0              6.466667  (20, 30]\n",
      "20              31081  33.0            518.016667  (30, 40]\n",
      "21                706  32.0             11.766667  (30, 40]\n",
      "22                702  28.0             11.700000  (20, 30]\n",
      "23                645  41.0             10.750000  (40, 50]\n",
      "24                138  39.0              2.300000  (30, 40]\n",
      "26                495  35.0              8.250000  (30, 40]\n",
      "27                853  32.0             14.216667  (30, 40]\n",
      "29                278  27.0              4.633333  (20, 30]\n",
      "31                578  37.0              9.633333  (30, 40]\n",
      "32                365  34.0              6.083333  (30, 40]\n",
      "33                980  33.0             16.333333  (30, 40]\n",
      "34                486  28.0              8.100000  (20, 30]\n",
      "...               ...   ...                   ...       ...\n",
      "1212230          1516  32.0             25.266667  (30, 40]\n",
      "1212232           305  23.0              5.083333  (20, 30]\n",
      "1212233           482  26.0              8.033333  (20, 30]\n",
      "1212236          1555  27.0             25.916667  (20, 30]\n",
      "1212237           204  26.0              3.400000  (20, 30]\n",
      "1212238           384  37.0              6.400000  (30, 40]\n",
      "1212239           204  27.0              3.400000  (20, 30]\n",
      "1212240           424  34.0              7.066667  (30, 40]\n",
      "1212241           573  28.0              9.550000  (20, 30]\n",
      "1212244           371  21.0              6.183333  (20, 30]\n",
      "1212245           529  28.0              8.816667  (20, 30]\n",
      "1212246           680  25.0             11.333333  (20, 30]\n",
      "1212247           302  33.0              5.033333  (30, 40]\n",
      "1212249           267  33.0              4.450000  (30, 40]\n",
      "1212250           704  48.0             11.733333  (40, 50]\n",
      "1212251          1127  32.0             18.783333  (30, 40]\n",
      "1212252           288  33.0              4.800000  (30, 40]\n",
      "1212253           474  37.0              7.900000  (30, 40]\n",
      "1212254           292  32.0              4.866667  (30, 40]\n",
      "1212255           470  35.0              7.833333  (30, 40]\n",
      "1212256           320  36.0              5.333333  (30, 40]\n",
      "1212258           513  35.0              8.550000  (30, 40]\n",
      "1212259           883  20.0             14.716667  (10, 20]\n",
      "1212261           194  33.0              3.233333  (30, 40]\n",
      "1212270          1621  39.0             27.016667  (30, 40]\n",
      "1212271           341  44.0              5.683333  (40, 50]\n",
      "1212273           711  33.0             11.850000  (30, 40]\n",
      "1212274           621  25.0             10.350000  (20, 30]\n",
      "1212275           632  35.0             10.533333  (30, 40]\n",
      "1212276           807  48.0             13.450000  (40, 50]\n",
      "\n",
      "[888007 rows x 4 columns]\n"
     ]
    }
   ],
   "source": [
    "treatment1 = data[data.Age<=50]\n",
    "treatment2 = data[data.Age>50]\n",
    "print (treatment1)"
   ]
  },
  {
   "cell_type": "code",
   "execution_count": 77,
   "metadata": {
    "collapsed": false
   },
   "outputs": [
    {
     "name": "stderr",
     "output_type": "stream",
     "text": [
      "/opt/rh/anaconda/root/envs/PUI2016_Python2/lib/python2.7/site-packages/scipy/stats/stats.py:5386: FutureWarning: numpy not_equal will not check object identity in the future. The comparison did not return the same result as suggested by the identity (`is`)) and will change.\n",
      "  obs = np.r_[True, arr[1:] != arr[:-1]]\n"
     ]
    }
   ],
   "source": [
    "from scipy import stats  \n",
    "z_stat, p_val = stats.ranksums(treatment1, treatment2) "
   ]
  },
  {
   "cell_type": "code",
   "execution_count": 79,
   "metadata": {
    "collapsed": false
   },
   "outputs": [
    {
     "name": "stdout",
     "output_type": "stream",
     "text": [
      "0.0\n"
     ]
    }
   ],
   "source": [
    "print (p_val)"
   ]
  },
  {
   "cell_type": "markdown",
   "metadata": {},
   "source": [
    "### If P <= 0.05, we are highly confident that the distributions significantly differ, and can claim that the treatments had a significant impact on the measured value. \n"
   ]
  },
  {
   "cell_type": "markdown",
   "metadata": {
    "collapsed": true
   },
   "source": [
    "### The p_val = 0 So we can claim the two groups are significantly differ which means Null Hypothesis is rejected and old people tend to use bikes shorter distance than younger people do"
   ]
  },
  {
   "cell_type": "code",
   "execution_count": null,
   "metadata": {
    "collapsed": true
   },
   "outputs": [],
   "source": []
  }
 ],
 "metadata": {
  "kernelspec": {
   "display_name": "PUI2016_Python2",
   "language": "python",
   "name": "pui2016_python2"
  },
  "language_info": {
   "codemirror_mode": {
    "name": "ipython",
    "version": 2
   },
   "file_extension": ".py",
   "mimetype": "text/x-python",
   "name": "python",
   "nbconvert_exporter": "python",
   "pygments_lexer": "ipython2",
   "version": "2.7.12"
  }
 },
 "nbformat": 4,
 "nbformat_minor": 0
}
