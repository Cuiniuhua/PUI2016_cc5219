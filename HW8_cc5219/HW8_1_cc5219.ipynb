{
 "cells": [
  {
   "cell_type": "markdown",
   "metadata": {},
   "source": [
    "# Working with Data - Computer Lab for Guest Lecture Julia Lane\n",
    "\n",
    "In this computer lab we will learn more more details and practice data work to enhance the content of the lecture presented by Julia Lane on responsible data use. We will address a research question, think about data and measurement errors, and manipulate data. \n",
    "\n",
    "OUTLINE: \n",
    "1. Define a research question \n",
    "2. Think about what data are available \n",
    "3. Think about possible measurement errors \n",
    "4. Think about the interpretation of your results \n",
    "5. Inform your results by linking datasets "
   ]
  },
  {
   "cell_type": "markdown",
   "metadata": {
    "raw_mimetype": "text/markdown"
   },
   "source": [
    "# 1. Define a reserach question\n",
    "Which Community Districts in NYC show the highest number of complaints?\n",
    "\n",
    "# 2. Think about what data are available\n",
    "Find suitable data by searching the CUSP Data Catalog https://datahub.cusp.nyu.edu/catalog. You can use Urban Profiler to investigate the Metadata associated with each dataset. Using this tool will help you to decide which attributes of the data you need to answer your question so you don't have to load the entire dataset. "
   ]
  },
  {
   "cell_type": "code",
   "execution_count": 1,
   "metadata": {
    "collapsed": false
   },
   "outputs": [],
   "source": [
    "import os\n",
    "import pandas as pd\n",
    "import numpy as np\n",
    "import re\n",
    "PUIdata = os.getenv('PUIDATA')"
   ]
  },
  {
   "cell_type": "code",
   "execution_count": null,
   "metadata": {
    "collapsed": false
   },
   "outputs": [],
   "source": [
    "# Load dataset\n",
    "data = pd.read_csv('/projects/open/NYCOpenData/nycopendata/data/erm2-nwe9/1446832678/erm2-nwe9')"
   ]
  },
  {
   "cell_type": "code",
   "execution_count": null,
   "metadata": {
    "collapsed": false
   },
   "outputs": [],
   "source": [
    "data.columns"
   ]
  },
  {
   "cell_type": "markdown",
   "metadata": {},
   "source": [
    "# 3. Think about possible measurement errors\n",
    "Do you see any problems regarding possible measurement error? Think about who is represented in the data, ommissions, duplications, content error, missing data, etc. "
   ]
  },
  {
   "cell_type": "code",
   "execution_count": null,
   "metadata": {
    "collapsed": false
   },
   "outputs": [],
   "source": [
    "# Check if all Boroughs and Community Districts are represented in the Data \n",
    "data['Community Board'].count()"
   ]
  },
  {
   "cell_type": "code",
   "execution_count": null,
   "metadata": {
    "collapsed": false
   },
   "outputs": [],
   "source": [
    "# How many unique values do we have? \n",
    "# we have 6 unique Boroughs and 77 Community Dsitricts in the data\n",
    "data = data.sort_values(by = 'Community Board')\n"
   ]
  },
  {
   "cell_type": "code",
   "execution_count": null,
   "metadata": {
    "collapsed": false
   },
   "outputs": [],
   "source": [
    "len(data['Borough'].unique())"
   ]
  },
  {
   "cell_type": "code",
   "execution_count": null,
   "metadata": {
    "collapsed": false
   },
   "outputs": [],
   "source": [
    "len(data['Community Board'].unique())"
   ]
  },
  {
   "cell_type": "code",
   "execution_count": null,
   "metadata": {
    "collapsed": false
   },
   "outputs": [],
   "source": [
    "# Why do we have so many? Some of them are unspecified, missing. Some might be invalid entries. \n",
    "# We should have 59 Community Districts.\n",
    "#http://www1.nyc.gov/site/planning/community/community-portal.page"
   ]
  },
  {
   "cell_type": "code",
   "execution_count": null,
   "metadata": {
    "collapsed": false
   },
   "outputs": [],
   "source": [
    "community = np.unique(data['Community Board'].values)[1:60]"
   ]
  },
  {
   "cell_type": "code",
   "execution_count": null,
   "metadata": {
    "collapsed": false
   },
   "outputs": [],
   "source": [
    "# Check for duplicates? Are these plausible?\n",
    "data2 = pd.merge(data, pd.DataFrame({'community':community}), \n",
    "                 left_on='Community Board', right_on='community', how='inner')"
   ]
  },
  {
   "cell_type": "code",
   "execution_count": null,
   "metadata": {
    "collapsed": false
   },
   "outputs": [],
   "source": [
    "data2.head()"
   ]
  },
  {
   "cell_type": "code",
   "execution_count": null,
   "metadata": {
    "collapsed": false
   },
   "outputs": [],
   "source": [
    "data2.duplicated().shape"
   ]
  },
  {
   "cell_type": "code",
   "execution_count": null,
   "metadata": {
    "collapsed": false
   },
   "outputs": [],
   "source": []
  },
  {
   "cell_type": "code",
   "execution_count": null,
   "metadata": {
    "collapsed": false
   },
   "outputs": [],
   "source": [
    "# What about missing values? Can you detect any patterns? \n",
    "data3 = data2[data2.Location.isin([np.nan])==True]\n",
    "# There are 85468 rows with missing 'Location' Value.\n",
    "data3.shape"
   ]
  },
  {
   "cell_type": "code",
   "execution_count": null,
   "metadata": {
    "collapsed": true
   },
   "outputs": [],
   "source": [
    "# Data Editing: Is it possible to replace missing values? Is it possible to use Complaint Type \n",
    "# to fill missings in Resolution Descriptor?\n",
    "data4 = data2[data2['Resolution Description'].isin([np.nan])==True]"
   ]
  },
  {
   "cell_type": "code",
   "execution_count": null,
   "metadata": {
    "collapsed": true
   },
   "outputs": [],
   "source": [
    "data4.shape"
   ]
  },
  {
   "cell_type": "code",
   "execution_count": null,
   "metadata": {
    "collapsed": false
   },
   "outputs": [],
   "source": [
    "# Generate marker for unplausible Community Districts\n",
    "# How do these districts look like? \n",
    "del data2['Resolution Description']\n",
    "# I drop the rows with NaN value \n",
    "data2 = data2.dropna()\n"
   ]
  },
  {
   "cell_type": "code",
   "execution_count": null,
   "metadata": {
    "collapsed": true
   },
   "outputs": [],
   "source": [
    "# Here's the counts of the number of complaints in each community board.\n",
    "data2_CB = data2.groupby(data2['Community Board']).agg(count_nonzero)"
   ]
  },
  {
   "cell_type": "code",
   "execution_count": null,
   "metadata": {
    "collapsed": true
   },
   "outputs": [],
   "source": [
    "# Drop the marked districts"
   ]
  },
  {
   "cell_type": "code",
   "execution_count": null,
   "metadata": {
    "collapsed": true
   },
   "outputs": [],
   "source": [
    "# Produce your result: Generate an indicator which ranks the Community District by complaint numbers \n",
    "# on the Community district level\n",
    "CB_Rank = pd.DataFrame(data2_CB.sort(columns=['Unique Key'], ascending= False).index)\n",
    "CB_Rank['Rank'] = range(1,60,1)\n",
    "# Table below shows 59 community boards and their corresponding rank of the number of complaints.\n",
    "CB_Rank"
   ]
  },
  {
   "cell_type": "code",
   "execution_count": null,
   "metadata": {
    "collapsed": true
   },
   "outputs": [],
   "source": [
    "# Safe reduced data frame (Community District level)"
   ]
  },
  {
   "cell_type": "markdown",
   "metadata": {},
   "source": [
    "# 4. Think about the interpretation of your results?\n",
    "What do you have to keep in mind when interpreting your results? Are they generable? Does the way the data is collected influence your results? To better inform city agancies it might be good to explore in more detail the underlying dempgraphics/infrastructure of a Community District becasue this might influence 311 calls. You can do this by merging external data on the Community District level to your analysis data. "
   ]
  },
  {
   "cell_type": "code",
   "execution_count": null,
   "metadata": {
    "collapsed": false
   },
   "outputs": [],
   "source": [
    "# Population by Community District\n",
    "#df_pop = pd.read_csv(PUIdata + \"/Final_Demographics.csv\")\n",
    "df_pop = pd.read_csv('http://cosmo.nyu.edu/~fb55/PUI2016/data/Final_Demographics.csv')"
   ]
  },
  {
   "cell_type": "code",
   "execution_count": null,
   "metadata": {
    "collapsed": false
   },
   "outputs": [],
   "source": [
    "# Check variables in file\n",
    "df_pop.columns"
   ]
  },
  {
   "cell_type": "code",
   "execution_count": null,
   "metadata": {
    "collapsed": false
   },
   "outputs": [],
   "source": [
    "df_pop.head()"
   ]
  },
  {
   "cell_type": "code",
   "execution_count": null,
   "metadata": {
    "collapsed": false
   },
   "outputs": [],
   "source": [
    "# How many community districts are in file? \n",
    "print len(df_pop['cd_id'].unique())\n",
    "df_pop['cd_id'].unique()"
   ]
  },
  {
   "cell_type": "code",
   "execution_count": null,
   "metadata": {
    "collapsed": true
   },
   "outputs": [],
   "source": [
    "# Manipulate data to get some information on demographics by Community District. \n",
    "# Think about who might be more likely to call 311\n",
    "df_pop_density = df_pop.loc[:,['cd_id','Population Density (per sq. mile)']]\n",
    "df_pop_density = df_pop_density.sort(columns=['Population Density (per sq. mile)'], ascending=False)\n",
    "df_pop_density.columns.values[0] = \"CD_ID\"\n",
    "df_pop_density.set_value(15, 'CD_ID', 'MN11')\n",
    "df_pop_density "
   ]
  },
  {
   "cell_type": "code",
   "execution_count": null,
   "metadata": {
    "collapsed": true
   },
   "outputs": [],
   "source": [
    "# Save data frame"
   ]
  },
  {
   "cell_type": "code",
   "execution_count": null,
   "metadata": {
    "collapsed": false
   },
   "outputs": [],
   "source": [
    "# Infrastructure by Community District\n",
    "df_infr = pd.read_csv(PUIdata + \"/ACS_Computer_Use_and_Internet_2014_1Year_Estimate.csv\")"
   ]
  },
  {
   "cell_type": "code",
   "execution_count": null,
   "metadata": {
    "collapsed": false
   },
   "outputs": [],
   "source": [
    "# Check variables in file\n",
    "df_infr.shape"
   ]
  },
  {
   "cell_type": "code",
   "execution_count": null,
   "metadata": {
    "collapsed": true
   },
   "outputs": [],
   "source": [
    "# How many community districts are in file? \n",
    "(df_infr['Qualifying Name']).unique()"
   ]
  },
  {
   "cell_type": "code",
   "execution_count": null,
   "metadata": {
    "collapsed": true
   },
   "outputs": [],
   "source": [
    "# Manipulate data to get some information on internet/broadband useage by Community District\n",
    "# Aggregate the mobile subscription data\n",
    "df_infr.ix[:,['Qualifying Name','Households: With Mobile Broadband','Households: With Mobile Broadband.1',\n",
    "              'Households: With Mobile Broadband.2', 'Households: With Mobile Broadband.3',\n",
    "             'Households: With Mobile Broadband.4', 'Households: Mobile Broadband Alone or With Dialup']].head()"
   ]
  },
  {
   "cell_type": "code",
   "execution_count": null,
   "metadata": {
    "collapsed": true
   },
   "outputs": [],
   "source": [
    "df_infr['Mobile Subscription'] = df_infr[['Households: With Mobile Broadband',\n",
    "                                              'Households: With Mobile Broadband.1',\n",
    "                                              'Households: With Mobile Broadband.2', \n",
    "                                              'Households: With Mobile Broadband.3',\n",
    "                                              'Households: With Mobile Broadband.4', \n",
    "                                              'Households: Mobile Broadband Alone or With Dialup']].sum(axis=1)"
   ]
  },
  {
   "cell_type": "code",
   "execution_count": null,
   "metadata": {
    "collapsed": true
   },
   "outputs": [],
   "source": [
    "df_infr[['Qualifying Name','Mobile Subscription']]\n",
    "df_infr_mobile = df_infr[['Qualifying Name','Mobile Subscription']]\n",
    "df_infr_mobile = df_infr_mobile.drop_duplicates(subset = \"Qualifying Name\")\n",
    "df_infr_mobile = df_infr_mobile.sort(columns= ['Mobile Subscription'], ascending=False)"
   ]
  },
  {
   "cell_type": "code",
   "execution_count": null,
   "metadata": {
    "collapsed": true
   },
   "outputs": [],
   "source": [
    "# Aggregate internet type by high and low connections\n",
    "df_infr.columns\n",
    "df_infr_internet = df_infr[['Qualifying Name', 'Households: Dial-Up Alone', 'Households: Dsl', 'Households: Cable Modem',\n",
    "        'Households: Fiber-Optic', 'Households: Satellite Internet Service', \n",
    "         'Households: Two or More Fixed Broadband Types, or Other', \n",
    "         'Households: Mobile Broadband Alone or With Dialup']]"
   ]
  },
  {
   "cell_type": "code",
   "execution_count": null,
   "metadata": {
    "collapsed": true
   },
   "outputs": [],
   "source": [
    "# Save data frame "
   ]
  },
  {
   "cell_type": "markdown",
   "metadata": {},
   "source": [
    "# 5. Inform your results by linking datasets\n",
    "Now you want to link the three data frames to produce summary statistics for Community Districts which show a high number of complaints vs. Community Districts which show a lower number of complaints. Please keep in mind that the identifiers used for the linkage (Community Dostrict IDs) should be recored the same way. Use regular expressions to harmonize the identifiers if possible. The identifiers should look like BK01, BK02, etc.\n",
    "https://docs.python.org/2/library/re.html"
   ]
  },
  {
   "cell_type": "code",
   "execution_count": null,
   "metadata": {
    "collapsed": false
   },
   "outputs": [],
   "source": [
    "# Harmonize identifier of dataframe 1\n",
    "for i in xrange(CB_Rank.shape[0]):\n",
    "    s = \"\"\n",
    "    if CB_Rank['Community Board'].values[i][3:] == 'MANHATTAN':\n",
    "        s='{}{}'.format('MN', CB_Rank['Community Board'].values[i][:3])\n",
    "    elif CB_Rank['Community Board'].values[i][3:] == 'BROOKLYN':\n",
    "        s='{}{}'.format('BK', CB_Rank['Community Board'].values[i][:3])\n",
    "    elif CB_Rank['Community Board'].values[i][3:] == 'BRONX':\n",
    "        s='{}{}'.format('BX', CB_Rank['Community Board'].values[i][:3])\n",
    "    elif CB_Rank['Community Board'].values[i][3:] == 'QUEENS':\n",
    "        s='{}{}'.format('QN', CB_Rank['Community Board'].values[i][:3])\n",
    "    elif CB_Rank['Community Board'].values[i][3:] == 'STATEN ISLAND':\n",
    "        s='{}{}'.format('SI', CB_Rank['Community Board'].values[i][:3])\n",
    "    CB_Rank.loc[i,'CD_ID'] = s.strip()\n",
    "    "
   ]
  },
  {
   "cell_type": "code",
   "execution_count": null,
   "metadata": {
    "collapsed": true
   },
   "outputs": [],
   "source": [
    "CB_Rank = CB_Rank.loc[:,['Rank', 'CD_ID']]"
   ]
  },
  {
   "cell_type": "code",
   "execution_count": null,
   "metadata": {
    "collapsed": false
   },
   "outputs": [],
   "source": [
    "# Harmonize identifier of dataframe 2"
   ]
  },
  {
   "cell_type": "code",
   "execution_count": null,
   "metadata": {
    "collapsed": true
   },
   "outputs": [],
   "source": [
    "# Harmonize identifier of dataframe 3"
   ]
  },
  {
   "cell_type": "code",
   "execution_count": null,
   "metadata": {
    "collapsed": true
   },
   "outputs": [],
   "source": [
    "bx0102 = df_infr_mobile[df_infr_mobile['Qualifying Name'] == \\\n",
    "                    'NYC-Bronx Community District 1 & 2--Hunts Point, New York']['Mobile Subscription'].values[0]/2\n",
    "BX01 = {\"Qualifying Name\": \"BX01\", 'Mobile Subscription': bx0102}\n",
    "BX02 = {\"Qualifying Name\": \"BX02\", 'Mobile Subscription': bx0102}\n",
    "\n",
    "bx0306 =df_infr_mobile[df_infr_mobile['Qualifying Name'] == \\\n",
    "                    'NYC-Bronx Community District 3 & 6--Belmont, New York']['Mobile Subscription'].values[0]/2\n",
    "BX03 = {\"Qualifying Name\": \"BX03\", 'Mobile Subscription': bx0306}\n",
    "BX06 = {\"Qualifying Name\": \"BX06\", 'Mobile Subscription': bx0306}\n",
    "\n",
    "mn0102 = df_infr_mobile[df_infr_mobile['Qualifying Name'] == \\\n",
    "                    'NYC-Manhattan Community District 1 & 2--Battery Park City, New York']['Mobile Subscription'].values[0]/2 \n",
    "MN01 = {\"Qualifying Name\": \"MN01\", 'Mobile Subscription': mn0102}\n",
    "MN02 = {\"Qualifying Name\": \"MN02\", 'Mobile Subscription': mn0102}\n",
    "\n",
    "mn0405 = df_infr_mobile[df_infr_mobile['Qualifying Name'] == \\\n",
    "                    'NYC-Manhattan Community District 4 & 5--Chelsea, New York']['Mobile Subscription'].values[0]/2 \n",
    "MN04 = {\"Qualifying Name\": \"MN04\", 'Mobile Subscription': mn0405}\n",
    "MN05 = {\"Qualifying Name\": \"MN05\", 'Mobile Subscription': mn0405}"
   ]
  },
  {
   "cell_type": "code",
   "execution_count": null,
   "metadata": {
    "collapsed": true
   },
   "outputs": [],
   "source": [
    "df_sperate = pd.DataFrame([BX01, BX02, BX03, BX06, MN01, MN02, MN04, MN05])"
   ]
  },
  {
   "cell_type": "code",
   "execution_count": null,
   "metadata": {
    "collapsed": true
   },
   "outputs": [],
   "source": [
    "CD_id = []\n",
    "for i in xrange(df_infr_mobile.shape[0]):\n",
    "    s = \"\"\n",
    "    num = re.search('....(?<=--)', df_infr_mobile['Qualifying Name'].values[i]).group(0)[:-2]\n",
    "    if len(num.strip())==1:\n",
    "        num = '0'+num.strip()\n",
    "    if re.search('(?<=-)\\w+', df_infr_mobile['Qualifying Name'].values[i]).group(0) == 'Manhattan':\n",
    "        s='{}{}'.format('MN',num )\n",
    "    elif re.search('(?<=-)\\w+', df_infr_mobile['Qualifying Name'].values[i]).group(0) == 'Brooklyn':\n",
    "        s='{}{}'.format('BK', num)\n",
    "    elif re.search('(?<=-)\\w+', df_infr_mobile['Qualifying Name'].values[i]).group(0) == 'Bronx':\n",
    "        s='{}{}'.format('BX', num)\n",
    "    elif re.search('(?<=-)\\w+', df_infr_mobile['Qualifying Name'].values[i]).group(0) == 'Queens':\n",
    "        s='{}{}'.format('QN', num)\n",
    "    elif re.search('(?<=-)\\w+', df_infr_mobile['Qualifying Name'].values[i]).group(0) == 'Staten':\n",
    "        s='{}{}'.format('SI', num)\n",
    "    CD_id.append(s)\n",
    "df_infr_mobile['Qualifying Name'] = CD_id"
   ]
  },
  {
   "cell_type": "code",
   "execution_count": null,
   "metadata": {
    "collapsed": true
   },
   "outputs": [],
   "source": [
    "df_infr_mobile_merge = pd.merge(left=df_infr_mobile, right=df_sperate, on=\"Qualifying Name\",how='outer')"
   ]
  },
  {
   "cell_type": "code",
   "execution_count": null,
   "metadata": {
    "collapsed": true
   },
   "outputs": [],
   "source": [
    "for i in xrange(df_infr_mobile_merge.shape[0]):\n",
    "    if np.isnan(df_infr_mobile_merge.loc[i, 'Mobile Subscription_y']):\n",
    "        df_infr_mobile_merge.loc[i, 'Mobile Subscription'] = df_infr_mobile_merge.loc[i, 'Mobile Subscription_x']\n",
    "    else:\n",
    "        df_infr_mobile_merge.loc[i, 'Mobile Subscription'] = df_infr_mobile_merge.loc[i, 'Mobile Subscription_y']"
   ]
  },
  {
   "cell_type": "code",
   "execution_count": null,
   "metadata": {
    "collapsed": true
   },
   "outputs": [],
   "source": [
    "df_infr_mobile_final = df_infr_mobile_merge.loc[:, ['Qualifying Name', 'Mobile Subscription']]\n",
    "df_infr_mobile_final.columns.values[0]='CD_ID'\n",
    "print df_infr_mobile_final.shape\n",
    "df_infr_mobile_final.sort_values(by=['Mobile Subscription'], ascending=False)"
   ]
  },
  {
   "cell_type": "code",
   "execution_count": null,
   "metadata": {
    "collapsed": true
   },
   "outputs": [],
   "source": [
    "df1 = pd.merge(CB_Rank, df_infr_mobile_final, on='CD_ID',how='inner')"
   ]
  },
  {
   "cell_type": "code",
   "execution_count": null,
   "metadata": {
    "collapsed": true
   },
   "outputs": [],
   "source": [
    "df2 = df_pop_density.reset_index()\n",
    "df2 = df2.iloc[:,[1,2]]"
   ]
  },
  {
   "cell_type": "code",
   "execution_count": null,
   "metadata": {
    "collapsed": true
   },
   "outputs": [],
   "source": [
    "df = pd.merge(df1, df2, on='CD_ID', how='inner')"
   ]
  },
  {
   "cell_type": "code",
   "execution_count": null,
   "metadata": {
    "collapsed": false
   },
   "outputs": [],
   "source": [
    "# Link the 3 dataframes"
   ]
  },
  {
   "cell_type": "code",
   "execution_count": null,
   "metadata": {
    "collapsed": true
   },
   "outputs": [],
   "source": [
    "# Are the demographics and infrastructure different in Community Districts that show more complaints than others?\n",
    "pl.plot(df.Rank, df['Population Density (per sq. mile)'],'o-g', label=\"Population Density\")\n",
    "pl.plot(df.Rank, df['Mobile Subscription'],'o-r',label='Mobile Subscription')\n",
    "pl.xlabel(\"Rank\")\n",
    "pl.title( \"Complaint Rank\\n V.S. \\n Mobile Subscription and Population Density\")\n",
    "pl.legend(loc = 'best')"
   ]
  }
 ],
 "metadata": {
  "celltoolbar": "Raw Cell Format",
  "kernelspec": {
   "display_name": "PUI2016_Python2",
   "language": "python",
   "name": "pui2016_python2"
  },
  "language_info": {
   "codemirror_mode": {
    "name": "ipython",
    "version": 2
   },
   "file_extension": ".py",
   "mimetype": "text/x-python",
   "name": "python",
   "nbconvert_exporter": "python",
   "pygments_lexer": "ipython2",
   "version": "2.7.12"
  }
 },
 "nbformat": 4,
 "nbformat_minor": 0
}
