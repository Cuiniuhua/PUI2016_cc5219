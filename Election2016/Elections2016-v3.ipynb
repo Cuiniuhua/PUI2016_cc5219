{
 "cells": [
  {
   "cell_type": "code",
   "execution_count": 1,
   "metadata": {
    "collapsed": false
   },
   "outputs": [
    {
     "name": "stdout",
     "output_type": "stream",
     "text": [
      "Populating the interactive namespace from numpy and matplotlib\n"
     ]
    }
   ],
   "source": [
    "import numpy as np\n",
    "from numpy import random\n",
    "from scipy import stats\n",
    "import matplotlib.pyplot as plt\n",
    "%pylab inline\n",
    "import pandas as pd\n",
    "import statsmodels.formula.api as smf\n",
    "import urllib"
   ]
  },
  {
   "cell_type": "code",
   "execution_count": 2,
   "metadata": {
    "collapsed": false
   },
   "outputs": [],
   "source": [
    "data = pd.read_csv('countytable.csv', index_col=0 )"
   ]
  },
  {
   "cell_type": "code",
   "execution_count": 3,
   "metadata": {
    "collapsed": false,
    "scrolled": true
   },
   "outputs": [
    {
     "data": {
      "text/html": [
       "<div>\n",
       "<table border=\"1\" class=\"dataframe\">\n",
       "  <thead>\n",
       "    <tr style=\"text-align: right;\">\n",
       "      <th></th>\n",
       "      <th>trump</th>\n",
       "      <th>clinton</th>\n",
       "      <th>processed</th>\n",
       "      <th>area_name</th>\n",
       "      <th>state_abbreviation</th>\n",
       "      <th>PST045214</th>\n",
       "      <th>PST040210</th>\n",
       "      <th>PST120214</th>\n",
       "      <th>POP010210</th>\n",
       "      <th>AGE135214</th>\n",
       "      <th>...</th>\n",
       "      <th>SBO015207</th>\n",
       "      <th>MAN450207</th>\n",
       "      <th>WTN220207</th>\n",
       "      <th>RTN130207</th>\n",
       "      <th>RTN131207</th>\n",
       "      <th>AFN120207</th>\n",
       "      <th>BPS030214</th>\n",
       "      <th>LND110210</th>\n",
       "      <th>POP060210</th>\n",
       "      <th>trumpp</th>\n",
       "    </tr>\n",
       "    <tr>\n",
       "      <th>fips</th>\n",
       "      <th></th>\n",
       "      <th></th>\n",
       "      <th></th>\n",
       "      <th></th>\n",
       "      <th></th>\n",
       "      <th></th>\n",
       "      <th></th>\n",
       "      <th></th>\n",
       "      <th></th>\n",
       "      <th></th>\n",
       "      <th></th>\n",
       "      <th></th>\n",
       "      <th></th>\n",
       "      <th></th>\n",
       "      <th></th>\n",
       "      <th></th>\n",
       "      <th></th>\n",
       "      <th></th>\n",
       "      <th></th>\n",
       "      <th></th>\n",
       "      <th></th>\n",
       "    </tr>\n",
       "  </thead>\n",
       "  <tbody>\n",
       "    <tr>\n",
       "      <th>1001</th>\n",
       "      <td>18110</td>\n",
       "      <td>5908</td>\n",
       "      <td>100</td>\n",
       "      <td>Autauga County</td>\n",
       "      <td>AL</td>\n",
       "      <td>55395</td>\n",
       "      <td>54571</td>\n",
       "      <td>1.5</td>\n",
       "      <td>54571</td>\n",
       "      <td>6.0</td>\n",
       "      <td>...</td>\n",
       "      <td>31.7</td>\n",
       "      <td>0</td>\n",
       "      <td>0</td>\n",
       "      <td>598175</td>\n",
       "      <td>12003</td>\n",
       "      <td>88157</td>\n",
       "      <td>131</td>\n",
       "      <td>594.44</td>\n",
       "      <td>91.8</td>\n",
       "      <td>0.754018</td>\n",
       "    </tr>\n",
       "    <tr>\n",
       "      <th>1003</th>\n",
       "      <td>72780</td>\n",
       "      <td>18409</td>\n",
       "      <td>100</td>\n",
       "      <td>Baldwin County</td>\n",
       "      <td>AL</td>\n",
       "      <td>200111</td>\n",
       "      <td>182265</td>\n",
       "      <td>9.8</td>\n",
       "      <td>182265</td>\n",
       "      <td>5.6</td>\n",
       "      <td>...</td>\n",
       "      <td>27.3</td>\n",
       "      <td>1410273</td>\n",
       "      <td>0</td>\n",
       "      <td>2966489</td>\n",
       "      <td>17166</td>\n",
       "      <td>436955</td>\n",
       "      <td>1384</td>\n",
       "      <td>1589.78</td>\n",
       "      <td>114.6</td>\n",
       "      <td>0.798123</td>\n",
       "    </tr>\n",
       "    <tr>\n",
       "      <th>1005</th>\n",
       "      <td>5431</td>\n",
       "      <td>4848</td>\n",
       "      <td>100</td>\n",
       "      <td>Barbour County</td>\n",
       "      <td>AL</td>\n",
       "      <td>26887</td>\n",
       "      <td>27457</td>\n",
       "      <td>-2.1</td>\n",
       "      <td>27457</td>\n",
       "      <td>5.7</td>\n",
       "      <td>...</td>\n",
       "      <td>27.0</td>\n",
       "      <td>0</td>\n",
       "      <td>0</td>\n",
       "      <td>188337</td>\n",
       "      <td>6334</td>\n",
       "      <td>0</td>\n",
       "      <td>8</td>\n",
       "      <td>884.88</td>\n",
       "      <td>31.0</td>\n",
       "      <td>0.528359</td>\n",
       "    </tr>\n",
       "    <tr>\n",
       "      <th>1007</th>\n",
       "      <td>6733</td>\n",
       "      <td>1874</td>\n",
       "      <td>100</td>\n",
       "      <td>Bibb County</td>\n",
       "      <td>AL</td>\n",
       "      <td>22506</td>\n",
       "      <td>22919</td>\n",
       "      <td>-1.8</td>\n",
       "      <td>22915</td>\n",
       "      <td>5.3</td>\n",
       "      <td>...</td>\n",
       "      <td>0.0</td>\n",
       "      <td>0</td>\n",
       "      <td>0</td>\n",
       "      <td>124707</td>\n",
       "      <td>5804</td>\n",
       "      <td>10757</td>\n",
       "      <td>19</td>\n",
       "      <td>622.58</td>\n",
       "      <td>36.8</td>\n",
       "      <td>0.782270</td>\n",
       "    </tr>\n",
       "    <tr>\n",
       "      <th>1009</th>\n",
       "      <td>22808</td>\n",
       "      <td>2150</td>\n",
       "      <td>100</td>\n",
       "      <td>Blount County</td>\n",
       "      <td>AL</td>\n",
       "      <td>57719</td>\n",
       "      <td>57322</td>\n",
       "      <td>0.7</td>\n",
       "      <td>57322</td>\n",
       "      <td>6.1</td>\n",
       "      <td>...</td>\n",
       "      <td>23.2</td>\n",
       "      <td>341544</td>\n",
       "      <td>0</td>\n",
       "      <td>319700</td>\n",
       "      <td>5622</td>\n",
       "      <td>20941</td>\n",
       "      <td>3</td>\n",
       "      <td>644.78</td>\n",
       "      <td>88.9</td>\n",
       "      <td>0.913855</td>\n",
       "    </tr>\n",
       "  </tbody>\n",
       "</table>\n",
       "<p>5 rows × 57 columns</p>\n",
       "</div>"
      ],
      "text/plain": [
       "      trump  clinton  processed       area_name state_abbreviation  PST045214  \\\n",
       "fips                                                                            \n",
       "1001  18110     5908        100  Autauga County                 AL      55395   \n",
       "1003  72780    18409        100  Baldwin County                 AL     200111   \n",
       "1005   5431     4848        100  Barbour County                 AL      26887   \n",
       "1007   6733     1874        100     Bibb County                 AL      22506   \n",
       "1009  22808     2150        100   Blount County                 AL      57719   \n",
       "\n",
       "      PST040210  PST120214  POP010210  AGE135214    ...     SBO015207  \\\n",
       "fips                                                ...                 \n",
       "1001      54571        1.5      54571        6.0    ...          31.7   \n",
       "1003     182265        9.8     182265        5.6    ...          27.3   \n",
       "1005      27457       -2.1      27457        5.7    ...          27.0   \n",
       "1007      22919       -1.8      22915        5.3    ...           0.0   \n",
       "1009      57322        0.7      57322        6.1    ...          23.2   \n",
       "\n",
       "      MAN450207  WTN220207  RTN130207  RTN131207  AFN120207  BPS030214  \\\n",
       "fips                                                                     \n",
       "1001          0          0     598175      12003      88157        131   \n",
       "1003    1410273          0    2966489      17166     436955       1384   \n",
       "1005          0          0     188337       6334          0          8   \n",
       "1007          0          0     124707       5804      10757         19   \n",
       "1009     341544          0     319700       5622      20941          3   \n",
       "\n",
       "      LND110210  POP060210    trumpp  \n",
       "fips                                  \n",
       "1001     594.44       91.8  0.754018  \n",
       "1003    1589.78      114.6  0.798123  \n",
       "1005     884.88       31.0  0.528359  \n",
       "1007     622.58       36.8  0.782270  \n",
       "1009     644.78       88.9  0.913855  \n",
       "\n",
       "[5 rows x 57 columns]"
      ]
     },
     "execution_count": 3,
     "metadata": {},
     "output_type": "execute_result"
    }
   ],
   "source": [
    "data.head()"
   ]
  },
  {
   "cell_type": "code",
   "execution_count": 4,
   "metadata": {
    "collapsed": false
   },
   "outputs": [],
   "source": [
    "data.rename(columns={'PST045214': 'Population'}, inplace=True)"
   ]
  },
  {
   "cell_type": "code",
   "execution_count": 5,
   "metadata": {
    "collapsed": true
   },
   "outputs": [],
   "source": [
    "data.rename(columns={'AGE295214': 'Population18'}, inplace=True)"
   ]
  },
  {
   "cell_type": "code",
   "execution_count": 6,
   "metadata": {
    "collapsed": true
   },
   "outputs": [],
   "source": [
    "data.rename(columns={'AGE775214': 'Population65'}, inplace=True)"
   ]
  },
  {
   "cell_type": "code",
   "execution_count": 7,
   "metadata": {
    "collapsed": true
   },
   "outputs": [],
   "source": [
    "data.rename(columns={'SEX255214': 'Female'}, inplace=True)"
   ]
  },
  {
   "cell_type": "code",
   "execution_count": 8,
   "metadata": {
    "collapsed": true
   },
   "outputs": [],
   "source": [
    "data.rename(columns={'SEX255214': 'Female'}, inplace=True)"
   ]
  },
  {
   "cell_type": "code",
   "execution_count": 9,
   "metadata": {
    "collapsed": true
   },
   "outputs": [],
   "source": [
    "data.rename(columns={'RHI125214': 'White'}, inplace=True)"
   ]
  },
  {
   "cell_type": "code",
   "execution_count": 10,
   "metadata": {
    "collapsed": true
   },
   "outputs": [],
   "source": [
    "data.rename(columns={'RHI225214': 'Black'}, inplace=True)"
   ]
  },
  {
   "cell_type": "code",
   "execution_count": 11,
   "metadata": {
    "collapsed": true
   },
   "outputs": [],
   "source": [
    "data.rename(columns={'RHI425214': 'Asian'}, inplace=True)"
   ]
  },
  {
   "cell_type": "code",
   "execution_count": 12,
   "metadata": {
    "collapsed": true
   },
   "outputs": [],
   "source": [
    "data.rename(columns={'POP645213': 'Foreign'}, inplace=True)"
   ]
  },
  {
   "cell_type": "code",
   "execution_count": 13,
   "metadata": {
    "collapsed": true
   },
   "outputs": [],
   "source": [
    "data.rename(columns={'EDU685213': 'Bachelor'}, inplace=True)"
   ]
  },
  {
   "cell_type": "code",
   "execution_count": 14,
   "metadata": {
    "collapsed": true
   },
   "outputs": [],
   "source": [
    "data.rename(columns={'RHI725214': 'Latino'}, inplace=True)"
   ]
  },
  {
   "cell_type": "code",
   "execution_count": 15,
   "metadata": {
    "collapsed": true
   },
   "outputs": [],
   "source": [
    "data.rename(columns={'RHI625214': 'Mixed'}, inplace=True)"
   ]
  },
  {
   "cell_type": "code",
   "execution_count": 16,
   "metadata": {
    "collapsed": true
   },
   "outputs": [],
   "source": [
    "data.rename(columns={'RHI825214': 'WhiteNH'}, inplace=True)"
   ]
  },
  {
   "cell_type": "code",
   "execution_count": 17,
   "metadata": {
    "collapsed": true
   },
   "outputs": [],
   "source": [
    "data.rename(columns={'POP060210': 'Density'}, inplace=True)"
   ]
  },
  {
   "cell_type": "code",
   "execution_count": 18,
   "metadata": {
    "collapsed": true
   },
   "outputs": [],
   "source": [
    "data.rename(columns={'HSG445213': 'HomeOwners'}, inplace=True)"
   ]
  },
  {
   "cell_type": "code",
   "execution_count": 19,
   "metadata": {
    "collapsed": true
   },
   "outputs": [],
   "source": [
    "data.rename(columns={'INC910213': 'Income'}, inplace=True)"
   ]
  },
  {
   "cell_type": "code",
   "execution_count": 20,
   "metadata": {
    "collapsed": false
   },
   "outputs": [
    {
     "data": {
      "text/plain": [
       "Index([u'trump', u'clinton', u'processed', u'area_name', u'state_abbreviation',\n",
       "       u'Population', u'PST040210', u'PST120214', u'POP010210', u'AGE135214',\n",
       "       u'Population18', u'Population65', u'Female', u'White', u'Black',\n",
       "       u'RHI325214', u'Asian', u'RHI525214', u'Mixed', u'Latino', u'WhiteNH',\n",
       "       u'POP715213', u'Foreign', u'POP815213', u'EDU635213', u'Bachelor',\n",
       "       u'VET605213', u'LFE305213', u'HSG010214', u'HomeOwners', u'HSG096213',\n",
       "       u'HSG495213', u'HSD410213', u'HSD310213', u'Income', u'INC110213',\n",
       "       u'PVY020213', u'BZA010213', u'BZA110213', u'BZA115213', u'NES010213',\n",
       "       u'SBO001207', u'SBO315207', u'SBO115207', u'SBO215207', u'SBO515207',\n",
       "       u'SBO415207', u'SBO015207', u'MAN450207', u'WTN220207', u'RTN130207',\n",
       "       u'RTN131207', u'AFN120207', u'BPS030214', u'LND110210', u'Density',\n",
       "       u'trumpp'],\n",
       "      dtype='object')"
      ]
     },
     "execution_count": 20,
     "metadata": {},
     "output_type": "execute_result"
    }
   ],
   "source": [
    "data.columns"
   ]
  },
  {
   "cell_type": "code",
   "execution_count": 21,
   "metadata": {
    "collapsed": false
   },
   "outputs": [],
   "source": [
    "# data['Bachelor']"
   ]
  },
  {
   "cell_type": "code",
   "execution_count": 22,
   "metadata": {
    "collapsed": false
   },
   "outputs": [
    {
     "data": {
      "text/plain": [
       "array(['AL', 'AZ', 'AR', 'CA', 'CO', 'FL', 'GA', 'HI', 'ID', 'IL', 'IN',\n",
       "       'KS', 'KY', 'LA', 'ME', 'MD', 'MI', 'MN', 'MO', 'MT', 'NE', 'NJ',\n",
       "       'NM', 'NY', 'NC', 'ND', 'OH', 'OK', 'OR', 'SC', 'SD', 'TN', 'TX',\n",
       "       'UT', 'VA', 'WA', 'WV'], dtype=object)"
      ]
     },
     "execution_count": 22,
     "metadata": {},
     "output_type": "execute_result"
    }
   ],
   "source": [
    "data.state_abbreviation.unique()"
   ]
  },
  {
   "cell_type": "code",
   "execution_count": 23,
   "metadata": {
    "collapsed": true
   },
   "outputs": [],
   "source": [
    "#  NH CT RI MA VT C"
   ]
  },
  {
   "cell_type": "code",
   "execution_count": 24,
   "metadata": {
    "collapsed": false
   },
   "outputs": [
    {
     "data": {
      "text/plain": [
       "60099356.065000005"
      ]
     },
     "execution_count": 24,
     "metadata": {},
     "output_type": "execute_result"
    }
   ],
   "source": [
    "sum(data.Population18*data.Population/100)"
   ]
  },
  {
   "cell_type": "code",
   "execution_count": 25,
   "metadata": {
    "collapsed": false
   },
   "outputs": [],
   "source": [
    "data['TElectorate']=data.Population*(1-data.Population18/100)\n",
    "data['TFemale']=data.TElectorate*data.Female/100\n",
    "data['TSeniors']=data.TElectorate*data.Population65/100\n",
    "data['TWhite']=data.TElectorate*data.WhiteNH/100\n",
    "data['TBlack']=data.TElectorate*data.Black/100\n",
    "data['TLatino']=data.TElectorate*data.Latino/100\n",
    "data['TAsian']=data.TElectorate*data.Asian/100\n",
    "data['TIncome']=data.Population*data.Income/100\n",
    "data['TBachelor']=data.Population*data.Bachelor/100\n",
    "data['TArea']=data.LND110210\n",
    "data['TRacialDiversity'] = data.TElectorate*(1-data.WhiteNH/100)\n",
    "#Racial Diversity is defined as the percentage of nonwhite voters\n",
    "data['TForeign'] = data.TElectorate*data.Foreign/100"
   ]
  },
  {
   "cell_type": "code",
   "execution_count": 26,
   "metadata": {
    "collapsed": true
   },
   "outputs": [],
   "source": [
    "data['SElectorate']=data['TElectorate']**0.5\n",
    "data['SFemale']=data.SElectorate*data.Female/100\n",
    "data['SSeniors']=data.SElectorate*data.Population65/100\n",
    "data['SWhite']=data.SElectorate*data.WhiteNH/100\n",
    "data['SBlack']=data.SElectorate*data.Black/100\n",
    "data['SLatino']=data.SElectorate*data.Latino/100\n",
    "data['SAsian']=data.SElectorate*data.Asian/100\n",
    "data['SIncome']=data['TIncome']/data.SElectorate\n",
    "data['SBachelor']=data['TBachelor']/data.SElectorate\n",
    "data['SRacialDiversity'] = data.SElectorate*(1-data.WhiteNH/100)\n",
    "#Squaring Racial Diversity Varaible \n",
    "data['SForeign'] = data.SElectorate*data.Foreign/100"
   ]
  },
  {
   "cell_type": "code",
   "execution_count": 27,
   "metadata": {
    "collapsed": true
   },
   "outputs": [],
   "source": [
    "data['TDensity']=log(data.Density)*data.TElectorate\n",
    "data['TSize']=log(data.Population)*data.TElectorate"
   ]
  },
  {
   "cell_type": "code",
   "execution_count": 28,
   "metadata": {
    "collapsed": true
   },
   "outputs": [],
   "source": [
    "data['SDensity']=log(data.Density)*data.SElectorate\n",
    "data['SSize']=log(data.Population)*data.SElectorate"
   ]
  },
  {
   "cell_type": "code",
   "execution_count": 29,
   "metadata": {
    "collapsed": true
   },
   "outputs": [],
   "source": [
    "data['Strump']=data.trump/data.SElectorate\n",
    "data['Sclinton']=data.clinton/data.SElectorate"
   ]
  },
  {
   "cell_type": "code",
   "execution_count": 30,
   "metadata": {
    "collapsed": true
   },
   "outputs": [],
   "source": [
    "lm0 = smf.ols(formula='Strump ~ SElectorate -1', data = data).fit()"
   ]
  },
  {
   "cell_type": "code",
   "execution_count": 31,
   "metadata": {
    "collapsed": false
   },
   "outputs": [
    {
     "data": {
      "text/plain": [
       "0.8902122532409068"
      ]
     },
     "execution_count": 31,
     "metadata": {},
     "output_type": "execute_result"
    }
   ],
   "source": [
    "lm0.rsquared"
   ]
  },
  {
   "cell_type": "code",
   "execution_count": 94,
   "metadata": {
    "collapsed": false
   },
   "outputs": [],
   "source": [
    "def singleFactorAnalysis(factor):\n",
    "    lmT0 = smf.ols(formula='Strump ~ SElectorate -1', data = data).fit()\n",
    "    lmC0 = smf.ols(formula='Sclinton ~ SElectorate -1', data = data).fit()\n",
    "    lmT = smf.ols(formula='Strump ~ SElectorate + ' + factor +' -1', data = data).fit()\n",
    "    lmC = smf.ols(formula='Sclinton ~ SElectorate + ' + factor +' -1', data = data).fit()\n",
    "    R2T=1-(1-lmT.rsquared)/(1-lmT0.rsquared)\n",
    "    R2C=1-(1-lmC.rsquared)/(1-lmC0.rsquared)\n",
    "    return [R2T, R2C]"
   ]
  },
  {
   "cell_type": "code",
   "execution_count": 33,
   "metadata": {
    "collapsed": false
   },
   "outputs": [
    {
     "data": {
      "text/plain": [
       "[0.22931754177733599, 0.034002251671160888]"
      ]
     },
     "execution_count": 33,
     "metadata": {},
     "output_type": "execute_result"
    }
   ],
   "source": [
    "singleFactorAnalysis('SWhite')"
   ]
  },
  {
   "cell_type": "code",
   "execution_count": 34,
   "metadata": {
    "collapsed": false
   },
   "outputs": [
    {
     "data": {
      "text/plain": [
       "[0.011336077696619817, 0.078504171653229871]"
      ]
     },
     "execution_count": 34,
     "metadata": {},
     "output_type": "execute_result"
    }
   ],
   "source": [
    "singleFactorAnalysis('SBlack')"
   ]
  },
  {
   "cell_type": "code",
   "execution_count": 35,
   "metadata": {
    "collapsed": false
   },
   "outputs": [
    {
     "data": {
      "text/plain": [
       "[0.21472458532444216, 0.081301351016036305]"
      ]
     },
     "execution_count": 35,
     "metadata": {},
     "output_type": "execute_result"
    }
   ],
   "source": [
    "singleFactorAnalysis('SLatino')"
   ]
  },
  {
   "cell_type": "code",
   "execution_count": 39,
   "metadata": {
    "collapsed": false
   },
   "outputs": [
    {
     "data": {
      "text/plain": [
       "[0.13552314515697672, 0.0076372366252546176]"
      ]
     },
     "execution_count": 39,
     "metadata": {},
     "output_type": "execute_result"
    }
   ],
   "source": [
    "singleFactorAnalysis('SSize')"
   ]
  },
  {
   "cell_type": "code",
   "execution_count": 40,
   "metadata": {
    "collapsed": false
   },
   "outputs": [
    {
     "data": {
      "text/plain": [
       "[0.0014275605127226365, 0.052320513253841905]"
      ]
     },
     "execution_count": 40,
     "metadata": {},
     "output_type": "execute_result"
    }
   ],
   "source": [
    "singleFactorAnalysis('SFemale')"
   ]
  },
  {
   "cell_type": "code",
   "execution_count": 41,
   "metadata": {
    "collapsed": false
   },
   "outputs": [
    {
     "data": {
      "text/plain": [
       "[0.091021663849851331, 0.0072777884350281319]"
      ]
     },
     "execution_count": 41,
     "metadata": {},
     "output_type": "execute_result"
    }
   ],
   "source": [
    "singleFactorAnalysis('SSeniors')"
   ]
  },
  {
   "cell_type": "code",
   "execution_count": 36,
   "metadata": {
    "collapsed": false
   },
   "outputs": [
    {
     "data": {
      "text/plain": [
       "[0.011019157485152253, 0.0033128042567523996]"
      ]
     },
     "execution_count": 36,
     "metadata": {},
     "output_type": "execute_result"
    }
   ],
   "source": [
    "singleFactorAnalysis('SIncome')"
   ]
  },
  {
   "cell_type": "code",
   "execution_count": 37,
   "metadata": {
    "collapsed": false
   },
   "outputs": [
    {
     "data": {
      "text/plain": [
       "[0.00044924324338657673, 0.016497196366543787]"
      ]
     },
     "execution_count": 37,
     "metadata": {},
     "output_type": "execute_result"
    }
   ],
   "source": [
    "singleFactorAnalysis('SBachelor')"
   ]
  },
  {
   "cell_type": "code",
   "execution_count": 38,
   "metadata": {
    "collapsed": false
   },
   "outputs": [
    {
     "data": {
      "text/plain": [
       "[0.023504482051504572, 0.00014452966271072398]"
      ]
     },
     "execution_count": 38,
     "metadata": {},
     "output_type": "execute_result"
    }
   ],
   "source": [
    "singleFactorAnalysis('SDensity')"
   ]
  },
  {
   "cell_type": "code",
   "execution_count": 92,
   "metadata": {
    "collapsed": false
   },
   "outputs": [
    {
     "data": {
      "text/plain": [
       "[0.22931754177733599, 0.034002251671160888]"
      ]
     },
     "execution_count": 92,
     "metadata": {},
     "output_type": "execute_result"
    }
   ],
   "source": [
    "singleFactorAnalysis('SRacialDiversity')"
   ]
  },
  {
   "cell_type": "code",
   "execution_count": 93,
   "metadata": {
    "collapsed": false,
    "scrolled": true
   },
   "outputs": [
    {
     "data": {
      "text/plain": [
       "[0.11202994363499064, 0.089443540280229494]"
      ]
     },
     "execution_count": 93,
     "metadata": {},
     "output_type": "execute_result"
    }
   ],
   "source": [
    "singleFactorAnalysis('SForeign')"
   ]
  },
  {
   "cell_type": "code",
   "execution_count": 42,
   "metadata": {
    "collapsed": false
   },
   "outputs": [
    {
     "name": "stdout",
     "output_type": "stream",
     "text": [
      "[0.33247353804066337, 0.28636749512924942]\n"
     ]
    }
   ],
   "source": [
    "# lmT0 = smf.ols(formula='Strump ~ SElectorate -1', data = data).fit()\n",
    "# lmT = smf.ols(formula='Strump ~ SElectorate + SFemale + SWhite + SBlack + SLatino + SIncome + data.SBachelor + data.SSeniors + data.SDensity + data.SSize-1', data = data).fit()\n",
    "# R2T=1-(1-lmT.rsquared)/(1-lm0.rsquared)\n",
    "# lmC0 = smf.ols(formula='Sclinton ~ SElectorate -1', data = data).fit()\n",
    "# lmC = smf.ols(formula='Sclinton ~ SElectorate + SFemale + SWhite + SBlack + SLatino + SIncome + data.SBachelor + data.SSeniors + data.SDensity + data.SSize-1', data = data).fit()\n",
    "# R2C=1-(1-lmC.rsquared)/(1-lmC0.rsquared)\n",
    "# print [R2T, R2C]"
   ]
  },
  {
   "cell_type": "code",
   "execution_count": 99,
   "metadata": {
    "collapsed": false
   },
   "outputs": [
    {
     "name": "stdout",
     "output_type": "stream",
     "text": [
      "[-0.54621717362776279, -0.35751901837303546]\n"
     ]
    }
   ],
   "source": [
    "lmT0 = smf.ols(formula='Strump ~ SElectorate -1', data = data).fit()\n",
    "lmT1 = smf.ols(formula='Strump ~ SElectorate + SIncome + SBachelor + SDensity + SRacialDiversity + SForeign', data=data).fit()\n",
    "R2T=1-(1-lmT1.rsquared)/(1-lm0.rsquared)\n",
    "lmC0 = smf.ols(formula='Sclinton ~ SElectorate -1', data = data).fit()\n",
    "lmC = smf.ols(formula='Sclinton ~ SElectorate + SIncome + SBachelor + SDensity + SRacialDiversity + SForeign', data = data).fit()\n",
    "R2C=1-(1-lmC.rsquared)/(1-lmC0.rsquared)\n",
    "print [R2T, R2C]"
   ]
  },
  {
   "cell_type": "code",
   "execution_count": null,
   "metadata": {
    "collapsed": true
   },
   "outputs": [],
   "source": []
  },
  {
   "cell_type": "code",
   "execution_count": 100,
   "metadata": {
    "collapsed": false
   },
   "outputs": [],
   "source": [
    "def addFactorAnalysis(previos,factor):\n",
    "    lmP = smf.ols(formula='Strump ~ ' + previos +' -1', data = data).fit()\n",
    "    lmX = smf.ols(formula=factor+' ~ ' + previos +' -1', data = data).fit()\n",
    "    XP = lmX.predict()\n",
    "    dataX=data\n",
    "    dataX['X']=data[factor]-XP\n",
    "    lm = smf.ols(formula='Strump ~ ' + previos +' + X -1', data = dataX).fit()\n",
    "    pvalue=lm.pvalues[-1]\n",
    "    est=[lm.conf_int()[0].X, lm.conf_int()[1].X]\n",
    "    XR2=1-(1-lm.rsquared)/(1-lmP.rsquared)\n",
    "    print 'R2 = %.4f, p-value=%e, estimate=[%e %e]'%(XR2,pvalue,est[0],est[1])\n",
    "    return [est,pvalue,XR2]"
   ]
  },
  {
   "cell_type": "code",
   "execution_count": 101,
   "metadata": {
    "collapsed": false
   },
   "outputs": [
    {
     "name": "stdout",
     "output_type": "stream",
     "text": [
      "R2 = 0.0110, p-value=6.446414e-08, estimate=[7.730090e-05 1.649018e-04]\n"
     ]
    }
   ],
   "source": [
    "addFactorAnalysis('SElectorate','SIncome');"
   ]
  },
  {
   "cell_type": "code",
   "execution_count": 103,
   "metadata": {
    "collapsed": false
   },
   "outputs": [
    {
     "name": "stdout",
     "output_type": "stream",
     "text": [
      "R2 = 0.0498, p-value=3.634641e-31, estimate=[-3.793786e-01 -2.709585e-01]\n"
     ]
    }
   ],
   "source": [
    "addFactorAnalysis('SElectorate + SIncome','SBachelor');"
   ]
  },
  {
   "cell_type": "code",
   "execution_count": 106,
   "metadata": {
    "collapsed": false
   },
   "outputs": [
    {
     "name": "stdout",
     "output_type": "stream",
     "text": [
      "R2 = 0.0317, p-value=3.048248e-20, estimate=[-1.519302e-02 -9.898538e-03]\n"
     ]
    },
    {
     "data": {
      "text/plain": [
       "[[-0.015193020006143946, -0.0098985378520845078],\n",
       " 3.0482475587096949e-20,\n",
       " 0.031721821106399317]"
      ]
     },
     "execution_count": 106,
     "metadata": {},
     "output_type": "execute_result"
    }
   ],
   "source": [
    "addFactorAnalysis('SElectorate + SIncome + SBachelor','c)"
   ]
  },
  {
   "cell_type": "code",
   "execution_count": 111,
   "metadata": {
    "collapsed": false,
    "scrolled": true
   },
   "outputs": [
    {
     "name": "stdout",
     "output_type": "stream",
     "text": [
      "R2 = 0.1974, p-value=5.096338e-128, estimate=[-2.419319e-01 -2.073295e-01]\n"
     ]
    },
    {
     "data": {
      "text/plain": [
       "[[-0.24193188253489895, -0.20732947029457238],\n",
       " 5.0963375218419439e-128,\n",
       " 0.19741897292237676]"
      ]
     },
     "execution_count": 111,
     "metadata": {},
     "output_type": "execute_result"
    }
   ],
   "source": [
    "addFactorAnalysis('SElectorate + SIncome + SBachelor + SDensity', 'SRacialDiversity')"
   ]
  },
  {
   "cell_type": "code",
   "execution_count": 110,
   "metadata": {
    "collapsed": false
   },
   "outputs": [
    {
     "name": "stdout",
     "output_type": "stream",
     "text": [
      "R2 = 0.2175, p-value=1.385165e-142, estimate=[-2.200074e-01 -1.902844e-01]\n"
     ]
    },
    {
     "data": {
      "text/plain": [
       "[[-0.22000740636492522, -0.190284416700429],\n",
       " 1.3851653657709554e-142,\n",
       " 0.21749040664879737]"
      ]
     },
     "execution_count": 110,
     "metadata": {},
     "output_type": "execute_result"
    }
   ],
   "source": [
    "addFactorAnalysis('SElectorate + SIncome + SBachelor ', 'SRacialDiversity')"
   ]
  },
  {
   "cell_type": "code",
   "execution_count": 114,
   "metadata": {
    "collapsed": false,
    "scrolled": true
   },
   "outputs": [
    {
     "name": "stdout",
     "output_type": "stream",
     "text": [
      "R2 = 0.0000, p-value=9.796680e-01, estimate=[-5.105907e-02 4.974876e-02]\n"
     ]
    },
    {
     "data": {
      "text/plain": [
       "[[-0.051059070071195721, 0.049748756648825838],\n",
       " 0.97966798680187284,\n",
       " 2.4653375996219751e-07]"
      ]
     },
     "execution_count": 114,
     "metadata": {},
     "output_type": "execute_result"
    }
   ],
   "source": [
    "addFactorAnalysis('SElectorate + SIncome + SBachelor + SRacialDiversity ','SForeign')"
   ]
  },
  {
   "cell_type": "code",
   "execution_count": 119,
   "metadata": {
    "collapsed": false,
    "scrolled": true
   },
   "outputs": [
    {
     "name": "stdout",
     "output_type": "stream",
     "text": [
      "                            OLS Regression Results                            \n",
      "==============================================================================\n",
      "Dep. Variable:            SElectorate   R-squared:                       0.973\n",
      "Model:                            OLS   Adj. R-squared:                  0.973\n",
      "Method:                 Least Squares   F-statistic:                 1.871e+04\n",
      "Date:                Sat, 19 Nov 2016   Prob (F-statistic):               0.00\n",
      "Time:                        15:35:07   Log-Likelihood:                -12862.\n",
      "No. Observations:                2640   AIC:                         2.574e+04\n",
      "Df Residuals:                    2634   BIC:                         2.577e+04\n",
      "Df Model:                           5                                         \n",
      "Covariance Type:            nonrobust                                         \n",
      "====================================================================================\n",
      "                       coef    std err          t      P>|t|      [95.0% Conf. Int.]\n",
      "------------------------------------------------------------------------------------\n",
      "Intercept           50.5030      1.002     50.417      0.000        48.539    52.467\n",
      "SIncome              0.0013   4.98e-05     25.107      0.000         0.001     0.001\n",
      "SBachelor           -0.3658      0.036    -10.229      0.000        -0.436    -0.296\n",
      "SRacialDiversity     0.3462      0.017     20.963      0.000         0.314     0.379\n",
      "SForeign            -0.6608      0.034    -19.244      0.000        -0.728    -0.593\n",
      "SDensity             0.0805      0.002     42.991      0.000         0.077     0.084\n",
      "==============================================================================\n",
      "Omnibus:                      568.098   Durbin-Watson:                   1.570\n",
      "Prob(Omnibus):                  0.000   Jarque-Bera (JB):            18455.499\n",
      "Skew:                           0.255   Prob(JB):                         0.00\n",
      "Kurtosis:                      15.943   Cond. No.                     1.65e+05\n",
      "==============================================================================\n",
      "\n",
      "Warnings:\n",
      "[1] Standard Errors assume that the covariance matrix of the errors is correctly specified.\n",
      "[2] The condition number is large, 1.65e+05. This might indicate that there are\n",
      "strong multicollinearity or other numerical problems.\n"
     ]
    }
   ],
   "source": [
    "lm_ = smf.ols(formula='SElectorate ~ SIncome + SBachelor + SRacialDiversity + SForeign + SDensity', data = data).fit()\n",
    "print lm_.summary()"
   ]
  },
  {
   "cell_type": "code",
   "execution_count": 129,
   "metadata": {
    "collapsed": false,
    "scrolled": true
   },
   "outputs": [
    {
     "data": {
      "text/plain": [
       "64167.636475115396"
      ]
     },
     "execution_count": 129,
     "metadata": {},
     "output_type": "execute_result"
    }
   ],
   "source": [
    "data.SIncome.mean() multiply 10 to the minus 7 #divib"
   ]
  },
  {
   "cell_type": "code",
   "execution_count": 131,
   "metadata": {
    "collapsed": false
   },
   "outputs": [],
   "source": [
    "for s in [u'SIncome',\n",
    "       u'SBachelor', u'SRacialDiversity', u'SForeign', u'TDensity']:\n",
    "    data[s + '_norm'] = data[s] / data[s].mean()"
   ]
  },
  {
   "cell_type": "code",
   "execution_count": 132,
   "metadata": {
    "collapsed": false
   },
   "outputs": [
    {
     "data": {
      "text/html": [
       "<div>\n",
       "<table border=\"1\" class=\"dataframe\">\n",
       "  <thead>\n",
       "    <tr style=\"text-align: right;\">\n",
       "      <th></th>\n",
       "      <th>trump</th>\n",
       "      <th>clinton</th>\n",
       "      <th>processed</th>\n",
       "      <th>area_name</th>\n",
       "      <th>state_abbreviation</th>\n",
       "      <th>Population</th>\n",
       "      <th>PST040210</th>\n",
       "      <th>PST120214</th>\n",
       "      <th>POP010210</th>\n",
       "      <th>AGE135214</th>\n",
       "      <th>...</th>\n",
       "      <th>SDensity</th>\n",
       "      <th>SSize</th>\n",
       "      <th>Strump</th>\n",
       "      <th>Sclinton</th>\n",
       "      <th>X</th>\n",
       "      <th>SIncome_norm</th>\n",
       "      <th>SBachelor_norm</th>\n",
       "      <th>SRacialDiversity_norm</th>\n",
       "      <th>SForeign_norm</th>\n",
       "      <th>TDensity_norm</th>\n",
       "    </tr>\n",
       "    <tr>\n",
       "      <th>fips</th>\n",
       "      <th></th>\n",
       "      <th></th>\n",
       "      <th></th>\n",
       "      <th></th>\n",
       "      <th></th>\n",
       "      <th></th>\n",
       "      <th></th>\n",
       "      <th></th>\n",
       "      <th></th>\n",
       "      <th></th>\n",
       "      <th></th>\n",
       "      <th></th>\n",
       "      <th></th>\n",
       "      <th></th>\n",
       "      <th></th>\n",
       "      <th></th>\n",
       "      <th></th>\n",
       "      <th></th>\n",
       "      <th></th>\n",
       "      <th></th>\n",
       "      <th></th>\n",
       "    </tr>\n",
       "  </thead>\n",
       "  <tbody>\n",
       "    <tr>\n",
       "      <th>1001</th>\n",
       "      <td>18110</td>\n",
       "      <td>5908</td>\n",
       "      <td>100</td>\n",
       "      <td>Autauga County</td>\n",
       "      <td>AL</td>\n",
       "      <td>55395</td>\n",
       "      <td>54571</td>\n",
       "      <td>1.5</td>\n",
       "      <td>54571</td>\n",
       "      <td>6.0</td>\n",
       "      <td>...</td>\n",
       "      <td>919.998807</td>\n",
       "      <td>2223.299555</td>\n",
       "      <td>88.967701</td>\n",
       "      <td>29.023809</td>\n",
       "      <td>-10.064153</td>\n",
       "      <td>1.042057</td>\n",
       "      <td>0.949301</td>\n",
       "      <td>0.882566</td>\n",
       "      <td>0.220220</td>\n",
       "      <td>0.406954</td>\n",
       "    </tr>\n",
       "    <tr>\n",
       "      <th>1003</th>\n",
       "      <td>72780</td>\n",
       "      <td>18409</td>\n",
       "      <td>100</td>\n",
       "      <td>Baldwin County</td>\n",
       "      <td>AL</td>\n",
       "      <td>200111</td>\n",
       "      <td>182265</td>\n",
       "      <td>9.8</td>\n",
       "      <td>182265</td>\n",
       "      <td>5.6</td>\n",
       "      <td>...</td>\n",
       "      <td>1870.838306</td>\n",
       "      <td>4816.382515</td>\n",
       "      <td>184.453445</td>\n",
       "      <td>46.655722</td>\n",
       "      <td>-2.238515</td>\n",
       "      <td>2.115500</td>\n",
       "      <td>2.344761</td>\n",
       "      <td>1.191916</td>\n",
       "      <td>0.960459</td>\n",
       "      <td>1.604106</td>\n",
       "    </tr>\n",
       "    <tr>\n",
       "      <th>1005</th>\n",
       "      <td>5431</td>\n",
       "      <td>4848</td>\n",
       "      <td>100</td>\n",
       "      <td>Barbour County</td>\n",
       "      <td>AL</td>\n",
       "      <td>26887</td>\n",
       "      <td>27457</td>\n",
       "      <td>-2.1</td>\n",
       "      <td>27457</td>\n",
       "      <td>5.7</td>\n",
       "      <td>...</td>\n",
       "      <td>499.842241</td>\n",
       "      <td>1484.597856</td>\n",
       "      <td>37.311742</td>\n",
       "      <td>33.306449</td>\n",
       "      <td>-15.586054</td>\n",
       "      <td>0.484452</td>\n",
       "      <td>0.413129</td>\n",
       "      <td>1.381169</td>\n",
       "      <td>0.285419</td>\n",
       "      <td>0.158103</td>\n",
       "    </tr>\n",
       "    <tr>\n",
       "      <th>1007</th>\n",
       "      <td>6733</td>\n",
       "      <td>1874</td>\n",
       "      <td>100</td>\n",
       "      <td>Bibb County</td>\n",
       "      <td>AL</td>\n",
       "      <td>22506</td>\n",
       "      <td>22919</td>\n",
       "      <td>-1.8</td>\n",
       "      <td>22915</td>\n",
       "      <td>5.3</td>\n",
       "      <td>...</td>\n",
       "      <td>480.759576</td>\n",
       "      <td>1336.278702</td>\n",
       "      <td>50.494713</td>\n",
       "      <td>14.054224</td>\n",
       "      <td>-2.440897</td>\n",
       "      <td>0.458397</td>\n",
       "      <td>0.340874</td>\n",
       "      <td>0.604191</td>\n",
       "      <td>0.108192</td>\n",
       "      <td>0.139304</td>\n",
       "    </tr>\n",
       "    <tr>\n",
       "      <th>1009</th>\n",
       "      <td>22808</td>\n",
       "      <td>2150</td>\n",
       "      <td>100</td>\n",
       "      <td>Blount County</td>\n",
       "      <td>AL</td>\n",
       "      <td>57719</td>\n",
       "      <td>57322</td>\n",
       "      <td>0.7</td>\n",
       "      <td>57322</td>\n",
       "      <td>6.1</td>\n",
       "      <td>...</td>\n",
       "      <td>942.348872</td>\n",
       "      <td>2302.231692</td>\n",
       "      <td>108.612829</td>\n",
       "      <td>10.238407</td>\n",
       "      <td>9.521413</td>\n",
       "      <td>0.887965</td>\n",
       "      <td>0.555100</td>\n",
       "      <td>0.455237</td>\n",
       "      <td>0.610556</td>\n",
       "      <td>0.430021</td>\n",
       "    </tr>\n",
       "    <tr>\n",
       "      <th>1011</th>\n",
       "      <td>1139</td>\n",
       "      <td>3530</td>\n",
       "      <td>100</td>\n",
       "      <td>Bullock County</td>\n",
       "      <td>AL</td>\n",
       "      <td>10764</td>\n",
       "      <td>10915</td>\n",
       "      <td>-1.4</td>\n",
       "      <td>10914</td>\n",
       "      <td>6.3</td>\n",
       "      <td>...</td>\n",
       "      <td>263.268094</td>\n",
       "      <td>853.948138</td>\n",
       "      <td>12.382992</td>\n",
       "      <td>38.377492</td>\n",
       "      <td>-17.148813</td>\n",
       "      <td>0.339724</td>\n",
       "      <td>0.244151</td>\n",
       "      <td>1.273230</td>\n",
       "      <td>0.335848</td>\n",
       "      <td>0.052622</td>\n",
       "    </tr>\n",
       "    <tr>\n",
       "      <th>1013</th>\n",
       "      <td>4891</td>\n",
       "      <td>3716</td>\n",
       "      <td>100</td>\n",
       "      <td>Butler County</td>\n",
       "      <td>AL</td>\n",
       "      <td>20296</td>\n",
       "      <td>20946</td>\n",
       "      <td>-3.1</td>\n",
       "      <td>20947</td>\n",
       "      <td>6.1</td>\n",
       "      <td>...</td>\n",
       "      <td>410.409697</td>\n",
       "      <td>1235.048046</td>\n",
       "      <td>39.277674</td>\n",
       "      <td>29.841716</td>\n",
       "      <td>-13.449463</td>\n",
       "      <td>0.442045</td>\n",
       "      <td>0.380855</td>\n",
       "      <td>1.037758</td>\n",
       "      <td>0.067359</td>\n",
       "      <td>0.111056</td>\n",
       "    </tr>\n",
       "    <tr>\n",
       "      <th>1015</th>\n",
       "      <td>32803</td>\n",
       "      <td>13197</td>\n",
       "      <td>100</td>\n",
       "      <td>Calhoun County</td>\n",
       "      <td>AL</td>\n",
       "      <td>115916</td>\n",
       "      <td>118586</td>\n",
       "      <td>-2.3</td>\n",
       "      <td>118572</td>\n",
       "      <td>5.7</td>\n",
       "      <td>...</td>\n",
       "      <td>1584.580310</td>\n",
       "      <td>3501.734170</td>\n",
       "      <td>109.232550</td>\n",
       "      <td>43.945431</td>\n",
       "      <td>-8.937998</td>\n",
       "      <td>1.252891</td>\n",
       "      <td>1.037244</td>\n",
       "      <td>1.446113</td>\n",
       "      <td>0.487331</td>\n",
       "      <td>1.034064</td>\n",
       "    </tr>\n",
       "    <tr>\n",
       "      <th>1017</th>\n",
       "      <td>7803</td>\n",
       "      <td>5763</td>\n",
       "      <td>100</td>\n",
       "      <td>Chambers County</td>\n",
       "      <td>AL</td>\n",
       "      <td>34076</td>\n",
       "      <td>34170</td>\n",
       "      <td>-0.3</td>\n",
       "      <td>34215</td>\n",
       "      <td>5.9</td>\n",
       "      <td>...</td>\n",
       "      <td>662.819614</td>\n",
       "      <td>1707.985404</td>\n",
       "      <td>47.678878</td>\n",
       "      <td>35.213812</td>\n",
       "      <td>-15.979142</td>\n",
       "      <td>0.625967</td>\n",
       "      <td>0.410080</td>\n",
       "      <td>1.256292</td>\n",
       "      <td>0.121725</td>\n",
       "      <td>0.235723</td>\n",
       "    </tr>\n",
       "    <tr>\n",
       "      <th>1019</th>\n",
       "      <td>8809</td>\n",
       "      <td>1524</td>\n",
       "      <td>100</td>\n",
       "      <td>Cherokee County</td>\n",
       "      <td>AL</td>\n",
       "      <td>26037</td>\n",
       "      <td>25986</td>\n",
       "      <td>0.2</td>\n",
       "      <td>25989</td>\n",
       "      <td>4.8</td>\n",
       "      <td>...</td>\n",
       "      <td>553.973594</td>\n",
       "      <td>1463.715015</td>\n",
       "      <td>61.189176</td>\n",
       "      <td>10.586026</td>\n",
       "      <td>3.183110</td>\n",
       "      <td>0.620922</td>\n",
       "      <td>0.386387</td>\n",
       "      <td>0.214883</td>\n",
       "      <td>0.068140</td>\n",
       "      <td>0.173306</td>\n",
       "    </tr>\n",
       "    <tr>\n",
       "      <th>1021</th>\n",
       "      <td>15068</td>\n",
       "      <td>2909</td>\n",
       "      <td>100</td>\n",
       "      <td>Chilton County</td>\n",
       "      <td>AL</td>\n",
       "      <td>43931</td>\n",
       "      <td>43631</td>\n",
       "      <td>0.7</td>\n",
       "      <td>43643</td>\n",
       "      <td>6.4</td>\n",
       "      <td>...</td>\n",
       "      <td>756.047712</td>\n",
       "      <td>1950.801620</td>\n",
       "      <td>82.572506</td>\n",
       "      <td>15.941294</td>\n",
       "      <td>4.490057</td>\n",
       "      <td>0.776652</td>\n",
       "      <td>0.518339</td>\n",
       "      <td>0.638789</td>\n",
       "      <td>0.641615</td>\n",
       "      <td>0.299806</td>\n",
       "    </tr>\n",
       "    <tr>\n",
       "      <th>1023</th>\n",
       "      <td>4102</td>\n",
       "      <td>3109</td>\n",
       "      <td>100</td>\n",
       "      <td>Choctaw County</td>\n",
       "      <td>AL</td>\n",
       "      <td>13323</td>\n",
       "      <td>13858</td>\n",
       "      <td>-3.9</td>\n",
       "      <td>13859</td>\n",
       "      <td>4.9</td>\n",
       "      <td>...</td>\n",
       "      <td>279.889726</td>\n",
       "      <td>976.807543</td>\n",
       "      <td>39.882685</td>\n",
       "      <td>30.228003</td>\n",
       "      <td>-11.556338</td>\n",
       "      <td>0.410263</td>\n",
       "      <td>0.255121</td>\n",
       "      <td>0.802319</td>\n",
       "      <td>0.020863</td>\n",
       "      <td>0.062556</td>\n",
       "    </tr>\n",
       "    <tr>\n",
       "      <th>1025</th>\n",
       "      <td>7109</td>\n",
       "      <td>5712</td>\n",
       "      <td>100</td>\n",
       "      <td>Clarke County</td>\n",
       "      <td>AL</td>\n",
       "      <td>24945</td>\n",
       "      <td>25840</td>\n",
       "      <td>-3.5</td>\n",
       "      <td>25833</td>\n",
       "      <td>5.6</td>\n",
       "      <td>...</td>\n",
       "      <td>422.376728</td>\n",
       "      <td>1406.801297</td>\n",
       "      <td>51.161855</td>\n",
       "      <td>41.107964</td>\n",
       "      <td>-16.676356</td>\n",
       "      <td>0.530980</td>\n",
       "      <td>0.335593</td>\n",
       "      <td>1.157994</td>\n",
       "      <td>0.028186</td>\n",
       "      <td>0.127536</td>\n",
       "    </tr>\n",
       "    <tr>\n",
       "      <th>1027</th>\n",
       "      <td>5230</td>\n",
       "      <td>1234</td>\n",
       "      <td>100</td>\n",
       "      <td>Clay County</td>\n",
       "      <td>AL</td>\n",
       "      <td>13552</td>\n",
       "      <td>13932</td>\n",
       "      <td>-2.7</td>\n",
       "      <td>13932</td>\n",
       "      <td>5.3</td>\n",
       "      <td>...</td>\n",
       "      <td>323.643005</td>\n",
       "      <td>980.699798</td>\n",
       "      <td>50.739007</td>\n",
       "      <td>11.971689</td>\n",
       "      <td>0.494409</td>\n",
       "      <td>0.383027</td>\n",
       "      <td>0.201885</td>\n",
       "      <td>0.371815</td>\n",
       "      <td>0.153332</td>\n",
       "      <td>0.072493</td>\n",
       "    </tr>\n",
       "    <tr>\n",
       "      <th>1029</th>\n",
       "      <td>5738</td>\n",
       "      <td>684</td>\n",
       "      <td>100</td>\n",
       "      <td>Cleburne County</td>\n",
       "      <td>AL</td>\n",
       "      <td>15080</td>\n",
       "      <td>14972</td>\n",
       "      <td>0.7</td>\n",
       "      <td>14972</td>\n",
       "      <td>5.7</td>\n",
       "      <td>...</td>\n",
       "      <td>353.255755</td>\n",
       "      <td>1034.723217</td>\n",
       "      <td>53.353411</td>\n",
       "      <td>6.360009</td>\n",
       "      <td>4.603983</td>\n",
       "      <td>0.417544</td>\n",
       "      <td>0.210629</td>\n",
       "      <td>0.147150</td>\n",
       "      <td>0.109079</td>\n",
       "      <td>0.082558</td>\n",
       "    </tr>\n",
       "    <tr>\n",
       "      <th>1031</th>\n",
       "      <td>15825</td>\n",
       "      <td>4194</td>\n",
       "      <td>100</td>\n",
       "      <td>Coffee County</td>\n",
       "      <td>AL</td>\n",
       "      <td>50909</td>\n",
       "      <td>49948</td>\n",
       "      <td>1.9</td>\n",
       "      <td>49948</td>\n",
       "      <td>6.1</td>\n",
       "      <td>...</td>\n",
       "      <td>847.210121</td>\n",
       "      <td>2135.996242</td>\n",
       "      <td>80.294198</td>\n",
       "      <td>21.279865</td>\n",
       "      <td>-4.467473</td>\n",
       "      <td>0.941160</td>\n",
       "      <td>0.970042</td>\n",
       "      <td>1.005108</td>\n",
       "      <td>0.679643</td>\n",
       "      <td>0.362846</td>\n",
       "    </tr>\n",
       "    <tr>\n",
       "      <th>1033</th>\n",
       "      <td>16718</td>\n",
       "      <td>7296</td>\n",
       "      <td>100</td>\n",
       "      <td>Colbert County</td>\n",
       "      <td>AL</td>\n",
       "      <td>54543</td>\n",
       "      <td>54428</td>\n",
       "      <td>0.2</td>\n",
       "      <td>54428</td>\n",
       "      <td>5.7</td>\n",
       "      <td>...</td>\n",
       "      <td>934.010102</td>\n",
       "      <td>2253.956539</td>\n",
       "      <td>80.897282</td>\n",
       "      <td>35.304855</td>\n",
       "      <td>-2.796434</td>\n",
       "      <td>0.887285</td>\n",
       "      <td>0.779713</td>\n",
       "      <td>0.778498</td>\n",
       "      <td>0.279468</td>\n",
       "      <td>0.419444</td>\n",
       "    </tr>\n",
       "    <tr>\n",
       "      <th>1035</th>\n",
       "      <td>3413</td>\n",
       "      <td>3069</td>\n",
       "      <td>100</td>\n",
       "      <td>Conecuh County</td>\n",
       "      <td>AL</td>\n",
       "      <td>12670</td>\n",
       "      <td>13228</td>\n",
       "      <td>-4.2</td>\n",
       "      <td>13228</td>\n",
       "      <td>5.5</td>\n",
       "      <td>...</td>\n",
       "      <td>274.158092</td>\n",
       "      <td>942.742618</td>\n",
       "      <td>34.200835</td>\n",
       "      <td>30.753695</td>\n",
       "      <td>-10.728970</td>\n",
       "      <td>0.308763</td>\n",
       "      <td>0.186480</td>\n",
       "      <td>0.867121</td>\n",
       "      <td>0.040486</td>\n",
       "      <td>0.059453</td>\n",
       "    </tr>\n",
       "    <tr>\n",
       "      <th>1037</th>\n",
       "      <td>3376</td>\n",
       "      <td>1780</td>\n",
       "      <td>100</td>\n",
       "      <td>Coosa County</td>\n",
       "      <td>AL</td>\n",
       "      <td>10886</td>\n",
       "      <td>11758</td>\n",
       "      <td>-7.4</td>\n",
       "      <td>11539</td>\n",
       "      <td>4.8</td>\n",
       "      <td>...</td>\n",
       "      <td>270.998049</td>\n",
       "      <td>876.608074</td>\n",
       "      <td>35.797875</td>\n",
       "      <td>18.874472</td>\n",
       "      <td>-4.961391</td>\n",
       "      <td>0.332671</td>\n",
       "      <td>0.188809</td>\n",
       "      <td>0.589874</td>\n",
       "      <td>0.114781</td>\n",
       "      <td>0.055537</td>\n",
       "    </tr>\n",
       "    <tr>\n",
       "      <th>1039</th>\n",
       "      <td>13222</td>\n",
       "      <td>2379</td>\n",
       "      <td>100</td>\n",
       "      <td>Covington County</td>\n",
       "      <td>AL</td>\n",
       "      <td>37914</td>\n",
       "      <td>37765</td>\n",
       "      <td>0.4</td>\n",
       "      <td>37765</td>\n",
       "      <td>5.9</td>\n",
       "      <td>...</td>\n",
       "      <td>618.695350</td>\n",
       "      <td>1811.906810</td>\n",
       "      <td>76.935826</td>\n",
       "      <td>13.842863</td>\n",
       "      <td>0.331195</td>\n",
       "      <td>0.701057</td>\n",
       "      <td>0.522868</td>\n",
       "      <td>0.516091</td>\n",
       "      <td>0.162685</td>\n",
       "      <td>0.231056</td>\n",
       "    </tr>\n",
       "    <tr>\n",
       "      <th>1041</th>\n",
       "      <td>4511</td>\n",
       "      <td>1663</td>\n",
       "      <td>100</td>\n",
       "      <td>Crenshaw County</td>\n",
       "      <td>AL</td>\n",
       "      <td>13977</td>\n",
       "      <td>13906</td>\n",
       "      <td>0.5</td>\n",
       "      <td>13906</td>\n",
       "      <td>6.1</td>\n",
       "      <td>...</td>\n",
       "      <td>325.005980</td>\n",
       "      <td>992.156825</td>\n",
       "      <td>43.398638</td>\n",
       "      <td>15.999099</td>\n",
       "      <td>-4.506775</td>\n",
       "      <td>0.447256</td>\n",
       "      <td>0.285032</td>\n",
       "      <td>0.543020</td>\n",
       "      <td>0.161650</td>\n",
       "      <td>0.073411</td>\n",
       "    </tr>\n",
       "    <tr>\n",
       "      <th>1043</th>\n",
       "      <td>32734</td>\n",
       "      <td>3730</td>\n",
       "      <td>100</td>\n",
       "      <td>Cullman County</td>\n",
       "      <td>AL</td>\n",
       "      <td>81289</td>\n",
       "      <td>80410</td>\n",
       "      <td>1.1</td>\n",
       "      <td>80406</td>\n",
       "      <td>5.9</td>\n",
       "      <td>...</td>\n",
       "      <td>1178.428794</td>\n",
       "      <td>2837.701656</td>\n",
       "      <td>130.416439</td>\n",
       "      <td>14.860797</td>\n",
       "      <td>12.737564</td>\n",
       "      <td>1.047795</td>\n",
       "      <td>0.800018</td>\n",
       "      <td>0.352343</td>\n",
       "      <td>0.509142</td>\n",
       "      <td>0.642749</td>\n",
       "    </tr>\n",
       "    <tr>\n",
       "      <th>1045</th>\n",
       "      <td>13798</td>\n",
       "      <td>4408</td>\n",
       "      <td>100</td>\n",
       "      <td>Dale County</td>\n",
       "      <td>AL</td>\n",
       "      <td>49484</td>\n",
       "      <td>50251</td>\n",
       "      <td>-1.5</td>\n",
       "      <td>50251</td>\n",
       "      <td>6.3</td>\n",
       "      <td>...</td>\n",
       "      <td>874.063738</td>\n",
       "      <td>2101.749022</td>\n",
       "      <td>70.963833</td>\n",
       "      <td>22.670574</td>\n",
       "      <td>-7.417827</td>\n",
       "      <td>0.899722</td>\n",
       "      <td>0.722117</td>\n",
       "      <td>1.029596</td>\n",
       "      <td>0.486443</td>\n",
       "      <td>0.369312</td>\n",
       "    </tr>\n",
       "    <tr>\n",
       "      <th>1047</th>\n",
       "      <td>5784</td>\n",
       "      <td>12826</td>\n",
       "      <td>100</td>\n",
       "      <td>Dallas County</td>\n",
       "      <td>AL</td>\n",
       "      <td>41711</td>\n",
       "      <td>43820</td>\n",
       "      <td>-4.8</td>\n",
       "      <td>43820</td>\n",
       "      <td>6.7</td>\n",
       "      <td>...</td>\n",
       "      <td>671.602010</td>\n",
       "      <td>1879.132141</td>\n",
       "      <td>32.745542</td>\n",
       "      <td>72.613126</td>\n",
       "      <td>-36.165491</td>\n",
       "      <td>0.634632</td>\n",
       "      <td>0.559675</td>\n",
       "      <td>2.244158</td>\n",
       "      <td>0.095547</td>\n",
       "      <td>0.257786</td>\n",
       "    </tr>\n",
       "    <tr>\n",
       "      <th>1049</th>\n",
       "      <td>21779</td>\n",
       "      <td>3682</td>\n",
       "      <td>100</td>\n",
       "      <td>DeKalb County</td>\n",
       "      <td>AL</td>\n",
       "      <td>71065</td>\n",
       "      <td>71115</td>\n",
       "      <td>-0.1</td>\n",
       "      <td>71109</td>\n",
       "      <td>6.2</td>\n",
       "      <td>...</td>\n",
       "      <td>1044.748842</td>\n",
       "      <td>2584.229238</td>\n",
       "      <td>94.148318</td>\n",
       "      <td>15.916897</td>\n",
       "      <td>14.017464</td>\n",
       "      <td>0.868895</td>\n",
       "      <td>0.548640</td>\n",
       "      <td>0.797441</td>\n",
       "      <td>1.173107</td>\n",
       "      <td>0.525181</td>\n",
       "    </tr>\n",
       "    <tr>\n",
       "      <th>1051</th>\n",
       "      <td>27619</td>\n",
       "      <td>8436</td>\n",
       "      <td>100</td>\n",
       "      <td>Elmore County</td>\n",
       "      <td>AL</td>\n",
       "      <td>80977</td>\n",
       "      <td>79296</td>\n",
       "      <td>2.1</td>\n",
       "      <td>79303</td>\n",
       "      <td>5.9</td>\n",
       "      <td>...</td>\n",
       "      <td>1211.963190</td>\n",
       "      <td>2822.139322</td>\n",
       "      <td>110.606779</td>\n",
       "      <td>33.783945</td>\n",
       "      <td>-11.199481</td>\n",
       "      <td>1.205638</td>\n",
       "      <td>1.136653</td>\n",
       "      <td>1.166953</td>\n",
       "      <td>0.354566</td>\n",
       "      <td>0.657639</td>\n",
       "    </tr>\n",
       "    <tr>\n",
       "      <th>1053</th>\n",
       "      <td>10282</td>\n",
       "      <td>4698</td>\n",
       "      <td>100</td>\n",
       "      <td>Escambia County</td>\n",
       "      <td>AL</td>\n",
       "      <td>37733</td>\n",
       "      <td>38319</td>\n",
       "      <td>-1.5</td>\n",
       "      <td>38319</td>\n",
       "      <td>6.1</td>\n",
       "      <td>...</td>\n",
       "      <td>634.983570</td>\n",
       "      <td>1807.915499</td>\n",
       "      <td>59.933499</td>\n",
       "      <td>27.384514</td>\n",
       "      <td>-12.904964</td>\n",
       "      <td>0.566934</td>\n",
       "      <td>0.429509</td>\n",
       "      <td>1.201090</td>\n",
       "      <td>0.069600</td>\n",
       "      <td>0.236724</td>\n",
       "    </tr>\n",
       "    <tr>\n",
       "      <th>1055</th>\n",
       "      <td>32132</td>\n",
       "      <td>10350</td>\n",
       "      <td>100</td>\n",
       "      <td>Etowah County</td>\n",
       "      <td>AL</td>\n",
       "      <td>103531</td>\n",
       "      <td>104427</td>\n",
       "      <td>-0.9</td>\n",
       "      <td>104430</td>\n",
       "      <td>5.7</td>\n",
       "      <td>...</td>\n",
       "      <td>1497.773321</td>\n",
       "      <td>3279.417098</td>\n",
       "      <td>113.144598</td>\n",
       "      <td>36.444871</td>\n",
       "      <td>-2.095294</td>\n",
       "      <td>1.147857</td>\n",
       "      <td>0.900536</td>\n",
       "      <td>1.090006</td>\n",
       "      <td>0.422452</td>\n",
       "      <td>0.924319</td>\n",
       "    </tr>\n",
       "    <tr>\n",
       "      <th>1057</th>\n",
       "      <td>6705</td>\n",
       "      <td>1358</td>\n",
       "      <td>100</td>\n",
       "      <td>Fayette County</td>\n",
       "      <td>AL</td>\n",
       "      <td>16874</td>\n",
       "      <td>17241</td>\n",
       "      <td>-2.1</td>\n",
       "      <td>17241</td>\n",
       "      <td>5.4</td>\n",
       "      <td>...</td>\n",
       "      <td>380.948951</td>\n",
       "      <td>1118.820053</td>\n",
       "      <td>58.332270</td>\n",
       "      <td>11.814351</td>\n",
       "      <td>1.246123</td>\n",
       "      <td>0.423100</td>\n",
       "      <td>0.323426</td>\n",
       "      <td>0.306374</td>\n",
       "      <td>0.046633</td>\n",
       "      <td>0.095154</td>\n",
       "    </tr>\n",
       "    <tr>\n",
       "      <th>1059</th>\n",
       "      <td>9466</td>\n",
       "      <td>2197</td>\n",
       "      <td>100</td>\n",
       "      <td>Franklin County</td>\n",
       "      <td>AL</td>\n",
       "      <td>31601</td>\n",
       "      <td>31709</td>\n",
       "      <td>-0.3</td>\n",
       "      <td>31704</td>\n",
       "      <td>6.6</td>\n",
       "      <td>...</td>\n",
       "      <td>605.061825</td>\n",
       "      <td>1602.498682</td>\n",
       "      <td>61.202357</td>\n",
       "      <td>14.204688</td>\n",
       "      <td>8.707667</td>\n",
       "      <td>0.601412</td>\n",
       "      <td>0.375118</td>\n",
       "      <td>0.604634</td>\n",
       "      <td>0.878474</td>\n",
       "      <td>0.203362</td>\n",
       "    </tr>\n",
       "    <tr>\n",
       "      <th>...</th>\n",
       "      <td>...</td>\n",
       "      <td>...</td>\n",
       "      <td>...</td>\n",
       "      <td>...</td>\n",
       "      <td>...</td>\n",
       "      <td>...</td>\n",
       "      <td>...</td>\n",
       "      <td>...</td>\n",
       "      <td>...</td>\n",
       "      <td>...</td>\n",
       "      <td>...</td>\n",
       "      <td>...</td>\n",
       "      <td>...</td>\n",
       "      <td>...</td>\n",
       "      <td>...</td>\n",
       "      <td>...</td>\n",
       "      <td>...</td>\n",
       "      <td>...</td>\n",
       "      <td>...</td>\n",
       "      <td>...</td>\n",
       "      <td>...</td>\n",
       "    </tr>\n",
       "    <tr>\n",
       "      <th>54051</th>\n",
       "      <td>9565</td>\n",
       "      <td>2894</td>\n",
       "      <td>100</td>\n",
       "      <td>Marshall County</td>\n",
       "      <td>WV</td>\n",
       "      <td>32416</td>\n",
       "      <td>33107</td>\n",
       "      <td>-2.1</td>\n",
       "      <td>33107</td>\n",
       "      <td>5.3</td>\n",
       "      <td>...</td>\n",
       "      <td>754.118253</td>\n",
       "      <td>1671.546472</td>\n",
       "      <td>59.433578</td>\n",
       "      <td>17.982308</td>\n",
       "      <td>5.256579</td>\n",
       "      <td>0.763685</td>\n",
       "      <td>0.477384</td>\n",
       "      <td>0.094371</td>\n",
       "      <td>0.087055</td>\n",
       "      <td>0.263733</td>\n",
       "    </tr>\n",
       "    <tr>\n",
       "      <th>54053</th>\n",
       "      <td>7597</td>\n",
       "      <td>2069</td>\n",
       "      <td>100</td>\n",
       "      <td>Mason County</td>\n",
       "      <td>WV</td>\n",
       "      <td>27016</td>\n",
       "      <td>27326</td>\n",
       "      <td>-1.1</td>\n",
       "      <td>27324</td>\n",
       "      <td>5.3</td>\n",
       "      <td>...</td>\n",
       "      <td>605.432345</td>\n",
       "      <td>1488.853402</td>\n",
       "      <td>52.067712</td>\n",
       "      <td>14.180347</td>\n",
       "      <td>6.518722</td>\n",
       "      <td>0.595062</td>\n",
       "      <td>0.309044</td>\n",
       "      <td>0.082965</td>\n",
       "      <td>0.039463</td>\n",
       "      <td>0.191960</td>\n",
       "    </tr>\n",
       "    <tr>\n",
       "      <th>54055</th>\n",
       "      <td>17362</td>\n",
       "      <td>4689</td>\n",
       "      <td>100</td>\n",
       "      <td>Mercer County</td>\n",
       "      <td>WV</td>\n",
       "      <td>61785</td>\n",
       "      <td>62266</td>\n",
       "      <td>-0.8</td>\n",
       "      <td>62264</td>\n",
       "      <td>6.4</td>\n",
       "      <td>...</td>\n",
       "      <td>1104.928922</td>\n",
       "      <td>2437.172838</td>\n",
       "      <td>78.585909</td>\n",
       "      <td>21.223899</td>\n",
       "      <td>6.888954</td>\n",
       "      <td>0.888690</td>\n",
       "      <td>0.826179</td>\n",
       "      <td>0.376875</td>\n",
       "      <td>0.194200</td>\n",
       "      <td>0.530470</td>\n",
       "    </tr>\n",
       "    <tr>\n",
       "      <th>54057</th>\n",
       "      <td>8957</td>\n",
       "      <td>2019</td>\n",
       "      <td>100</td>\n",
       "      <td>Mineral County</td>\n",
       "      <td>WV</td>\n",
       "      <td>27578</td>\n",
       "      <td>28212</td>\n",
       "      <td>-2.2</td>\n",
       "      <td>28212</td>\n",
       "      <td>5.3</td>\n",
       "      <td>...</td>\n",
       "      <td>661.795397</td>\n",
       "      <td>1518.728277</td>\n",
       "      <td>60.302622</td>\n",
       "      <td>13.592832</td>\n",
       "      <td>5.703585</td>\n",
       "      <td>0.572562</td>\n",
       "      <td>0.409057</td>\n",
       "      <td>0.153083</td>\n",
       "      <td>0.020087</td>\n",
       "      <td>0.213610</td>\n",
       "    </tr>\n",
       "    <tr>\n",
       "      <th>54059</th>\n",
       "      <td>7876</td>\n",
       "      <td>1365</td>\n",
       "      <td>100</td>\n",
       "      <td>Mingo County</td>\n",
       "      <td>WV</td>\n",
       "      <td>25716</td>\n",
       "      <td>26834</td>\n",
       "      <td>-4.2</td>\n",
       "      <td>26839</td>\n",
       "      <td>6.4</td>\n",
       "      <td>...</td>\n",
       "      <td>587.303277</td>\n",
       "      <td>1437.291137</td>\n",
       "      <td>55.646169</td>\n",
       "      <td>9.644111</td>\n",
       "      <td>5.973993</td>\n",
       "      <td>0.583544</td>\n",
       "      <td>0.324481</td>\n",
       "      <td>0.103116</td>\n",
       "      <td>0.057421</td>\n",
       "      <td>0.180636</td>\n",
       "    </tr>\n",
       "    <tr>\n",
       "      <th>54061</th>\n",
       "      <td>18278</td>\n",
       "      <td>14568</td>\n",
       "      <td>100</td>\n",
       "      <td>Monongalia County</td>\n",
       "      <td>WV</td>\n",
       "      <td>103463</td>\n",
       "      <td>96189</td>\n",
       "      <td>7.6</td>\n",
       "      <td>96189</td>\n",
       "      <td>5.0</td>\n",
       "      <td>...</td>\n",
       "      <td>1647.249112</td>\n",
       "      <td>3404.083380</td>\n",
       "      <td>62.000686</td>\n",
       "      <td>49.416019</td>\n",
       "      <td>12.233204</td>\n",
       "      <td>1.413612</td>\n",
       "      <td>2.231778</td>\n",
       "      <td>0.576230</td>\n",
       "      <td>0.897007</td>\n",
       "      <td>1.055269</td>\n",
       "    </tr>\n",
       "    <tr>\n",
       "      <th>54063</th>\n",
       "      <td>4337</td>\n",
       "      <td>1089</td>\n",
       "      <td>100</td>\n",
       "      <td>Monroe County</td>\n",
       "      <td>WV</td>\n",
       "      <td>13582</td>\n",
       "      <td>13500</td>\n",
       "      <td>0.6</td>\n",
       "      <td>13502</td>\n",
       "      <td>5.4</td>\n",
       "      <td>...</td>\n",
       "      <td>347.581245</td>\n",
       "      <td>986.387107</td>\n",
       "      <td>41.842663</td>\n",
       "      <td>10.506493</td>\n",
       "      <td>4.700425</td>\n",
       "      <td>0.414424</td>\n",
       "      <td>0.299631</td>\n",
       "      <td>0.062621</td>\n",
       "      <td>0.021025</td>\n",
       "      <td>0.078289</td>\n",
       "    </tr>\n",
       "    <tr>\n",
       "      <th>54065</th>\n",
       "      <td>5718</td>\n",
       "      <td>1568</td>\n",
       "      <td>100</td>\n",
       "      <td>Morgan County</td>\n",
       "      <td>WV</td>\n",
       "      <td>17453</td>\n",
       "      <td>17541</td>\n",
       "      <td>-0.5</td>\n",
       "      <td>17541</td>\n",
       "      <td>4.1</td>\n",
       "      <td>...</td>\n",
       "      <td>515.854084</td>\n",
       "      <td>1161.316526</td>\n",
       "      <td>48.091309</td>\n",
       "      <td>13.187683</td>\n",
       "      <td>5.600985</td>\n",
       "      <td>0.510405</td>\n",
       "      <td>0.387100</td>\n",
       "      <td>0.084510</td>\n",
       "      <td>0.112553</td>\n",
       "      <td>0.133283</td>\n",
       "    </tr>\n",
       "    <tr>\n",
       "      <th>54067</th>\n",
       "      <td>7169</td>\n",
       "      <td>1821</td>\n",
       "      <td>100</td>\n",
       "      <td>Nicholas County</td>\n",
       "      <td>WV</td>\n",
       "      <td>25827</td>\n",
       "      <td>26233</td>\n",
       "      <td>-1.5</td>\n",
       "      <td>26233</td>\n",
       "      <td>5.8</td>\n",
       "      <td>...</td>\n",
       "      <td>529.716322</td>\n",
       "      <td>1452.974676</td>\n",
       "      <td>50.125534</td>\n",
       "      <td>12.732403</td>\n",
       "      <td>6.316328</td>\n",
       "      <td>0.653153</td>\n",
       "      <td>0.424978</td>\n",
       "      <td>0.076242</td>\n",
       "      <td>0.135388</td>\n",
       "      <td>0.164632</td>\n",
       "    </tr>\n",
       "    <tr>\n",
       "      <th>54069</th>\n",
       "      <td>11077</td>\n",
       "      <td>5452</td>\n",
       "      <td>100</td>\n",
       "      <td>Ohio County</td>\n",
       "      <td>WV</td>\n",
       "      <td>43328</td>\n",
       "      <td>44443</td>\n",
       "      <td>-2.5</td>\n",
       "      <td>44443</td>\n",
       "      <td>5.5</td>\n",
       "      <td>...</td>\n",
       "      <td>1130.173850</td>\n",
       "      <td>1997.657900</td>\n",
       "      <td>59.201424</td>\n",
       "      <td>29.138410</td>\n",
       "      <td>3.321055</td>\n",
       "      <td>0.943159</td>\n",
       "      <td>1.124721</td>\n",
       "      <td>0.252682</td>\n",
       "      <td>0.189772</td>\n",
       "      <td>0.459523</td>\n",
       "    </tr>\n",
       "    <tr>\n",
       "      <th>54071</th>\n",
       "      <td>2388</td>\n",
       "      <td>726</td>\n",
       "      <td>100</td>\n",
       "      <td>Pendleton County</td>\n",
       "      <td>WV</td>\n",
       "      <td>7371</td>\n",
       "      <td>7695</td>\n",
       "      <td>-4.2</td>\n",
       "      <td>7695</td>\n",
       "      <td>4.6</td>\n",
       "      <td>...</td>\n",
       "      <td>187.355005</td>\n",
       "      <td>693.183300</td>\n",
       "      <td>30.678577</td>\n",
       "      <td>9.326904</td>\n",
       "      <td>2.835212</td>\n",
       "      <td>0.313640</td>\n",
       "      <td>0.205468</td>\n",
       "      <td>0.071924</td>\n",
       "      <td>0.010526</td>\n",
       "      <td>0.031691</td>\n",
       "    </tr>\n",
       "    <tr>\n",
       "      <th>54073</th>\n",
       "      <td>2342</td>\n",
       "      <td>620</td>\n",
       "      <td>100</td>\n",
       "      <td>Pleasants County</td>\n",
       "      <td>WV</td>\n",
       "      <td>7634</td>\n",
       "      <td>7605</td>\n",
       "      <td>0.4</td>\n",
       "      <td>7605</td>\n",
       "      <td>4.6</td>\n",
       "      <td>...</td>\n",
       "      <td>319.178878</td>\n",
       "      <td>701.292117</td>\n",
       "      <td>29.856802</td>\n",
       "      <td>7.904021</td>\n",
       "      <td>3.165206</td>\n",
       "      <td>0.323234</td>\n",
       "      <td>0.170558</td>\n",
       "      <td>0.052966</td>\n",
       "      <td>0.015912</td>\n",
       "      <td>0.054406</td>\n",
       "    </tr>\n",
       "    <tr>\n",
       "      <th>54075</th>\n",
       "      <td>2474</td>\n",
       "      <td>924</td>\n",
       "      <td>100</td>\n",
       "      <td>Pocahontas County</td>\n",
       "      <td>WV</td>\n",
       "      <td>8662</td>\n",
       "      <td>8722</td>\n",
       "      <td>-0.7</td>\n",
       "      <td>8719</td>\n",
       "      <td>4.9</td>\n",
       "      <td>...</td>\n",
       "      <td>188.628270</td>\n",
       "      <td>766.917068</td>\n",
       "      <td>29.248297</td>\n",
       "      <td>10.923778</td>\n",
       "      <td>3.913053</td>\n",
       "      <td>0.325131</td>\n",
       "      <td>0.280308</td>\n",
       "      <td>0.063128</td>\n",
       "      <td>0.017158</td>\n",
       "      <td>0.034672</td>\n",
       "    </tr>\n",
       "    <tr>\n",
       "      <th>54077</th>\n",
       "      <td>9501</td>\n",
       "      <td>2462</td>\n",
       "      <td>100</td>\n",
       "      <td>Preston County</td>\n",
       "      <td>WV</td>\n",
       "      <td>33788</td>\n",
       "      <td>33520</td>\n",
       "      <td>0.8</td>\n",
       "      <td>33520</td>\n",
       "      <td>4.9</td>\n",
       "      <td>...</td>\n",
       "      <td>651.501486</td>\n",
       "      <td>1721.921082</td>\n",
       "      <td>57.537542</td>\n",
       "      <td>14.909739</td>\n",
       "      <td>8.131971</td>\n",
       "      <td>0.684223</td>\n",
       "      <td>0.430317</td>\n",
       "      <td>0.102697</td>\n",
       "      <td>0.122818</td>\n",
       "      <td>0.233779</td>\n",
       "    </tr>\n",
       "    <tr>\n",
       "      <th>54079</th>\n",
       "      <td>17455</td>\n",
       "      <td>5784</td>\n",
       "      <td>100</td>\n",
       "      <td>Putnam County</td>\n",
       "      <td>WV</td>\n",
       "      <td>56770</td>\n",
       "      <td>55510</td>\n",
       "      <td>2.3</td>\n",
       "      <td>55486</td>\n",
       "      <td>5.4</td>\n",
       "      <td>...</td>\n",
       "      <td>1062.440142</td>\n",
       "      <td>2290.194480</td>\n",
       "      <td>83.432108</td>\n",
       "      <td>27.646595</td>\n",
       "      <td>2.691821</td>\n",
       "      <td>1.182243</td>\n",
       "      <td>1.086968</td>\n",
       "      <td>0.163573</td>\n",
       "      <td>0.183900</td>\n",
       "      <td>0.483017</td>\n",
       "    </tr>\n",
       "    <tr>\n",
       "      <th>54081</th>\n",
       "      <td>21835</td>\n",
       "      <td>6362</td>\n",
       "      <td>100</td>\n",
       "      <td>Raleigh County</td>\n",
       "      <td>WV</td>\n",
       "      <td>78241</td>\n",
       "      <td>78862</td>\n",
       "      <td>-0.8</td>\n",
       "      <td>78859</td>\n",
       "      <td>6.2</td>\n",
       "      <td>...</td>\n",
       "      <td>1209.191127</td>\n",
       "      <td>2797.755536</td>\n",
       "      <td>87.937252</td>\n",
       "      <td>25.622020</td>\n",
       "      <td>4.221960</td>\n",
       "      <td>1.072336</td>\n",
       "      <td>0.894079</td>\n",
       "      <td>0.547108</td>\n",
       "      <td>0.285417</td>\n",
       "      <td>0.652449</td>\n",
       "    </tr>\n",
       "    <tr>\n",
       "      <th>54083</th>\n",
       "      <td>7583</td>\n",
       "      <td>2724</td>\n",
       "      <td>100</td>\n",
       "      <td>Randolph County</td>\n",
       "      <td>WV</td>\n",
       "      <td>29429</td>\n",
       "      <td>29405</td>\n",
       "      <td>0.1</td>\n",
       "      <td>29405</td>\n",
       "      <td>5.3</td>\n",
       "      <td>...</td>\n",
       "      <td>515.480043</td>\n",
       "      <td>1586.710368</td>\n",
       "      <td>49.175369</td>\n",
       "      <td>17.665001</td>\n",
       "      <td>7.618641</td>\n",
       "      <td>0.582789</td>\n",
       "      <td>0.608399</td>\n",
       "      <td>0.106864</td>\n",
       "      <td>0.031280</td>\n",
       "      <td>0.172734</td>\n",
       "    </tr>\n",
       "    <tr>\n",
       "      <th>54085</th>\n",
       "      <td>3376</td>\n",
       "      <td>490</td>\n",
       "      <td>100</td>\n",
       "      <td>Ritchie County</td>\n",
       "      <td>WV</td>\n",
       "      <td>10011</td>\n",
       "      <td>10449</td>\n",
       "      <td>-4.2</td>\n",
       "      <td>10449</td>\n",
       "      <td>4.7</td>\n",
       "      <td>...</td>\n",
       "      <td>280.462233</td>\n",
       "      <td>822.802131</td>\n",
       "      <td>37.795017</td>\n",
       "      <td>5.485651</td>\n",
       "      <td>5.408627</td>\n",
       "      <td>0.311646</td>\n",
       "      <td>0.198284</td>\n",
       "      <td>0.036506</td>\n",
       "      <td>0.012080</td>\n",
       "      <td>0.054439</td>\n",
       "    </tr>\n",
       "    <tr>\n",
       "      <th>54087</th>\n",
       "      <td>3772</td>\n",
       "      <td>1220</td>\n",
       "      <td>100</td>\n",
       "      <td>Roane County</td>\n",
       "      <td>WV</td>\n",
       "      <td>14664</td>\n",
       "      <td>14926</td>\n",
       "      <td>-1.8</td>\n",
       "      <td>14926</td>\n",
       "      <td>5.7</td>\n",
       "      <td>...</td>\n",
       "      <td>367.148364</td>\n",
       "      <td>1026.627785</td>\n",
       "      <td>35.246820</td>\n",
       "      <td>11.400085</td>\n",
       "      <td>6.410185</td>\n",
       "      <td>0.370304</td>\n",
       "      <td>0.235565</td>\n",
       "      <td>0.055147</td>\n",
       "      <td>0.021708</td>\n",
       "      <td>0.085382</td>\n",
       "    </tr>\n",
       "    <tr>\n",
       "      <th>54089</th>\n",
       "      <td>3444</td>\n",
       "      <td>1186</td>\n",
       "      <td>100</td>\n",
       "      <td>Summers County</td>\n",
       "      <td>WV</td>\n",
       "      <td>13417</td>\n",
       "      <td>13927</td>\n",
       "      <td>-3.7</td>\n",
       "      <td>13927</td>\n",
       "      <td>4.1</td>\n",
       "      <td>...</td>\n",
       "      <td>385.287251</td>\n",
       "      <td>1002.360857</td>\n",
       "      <td>32.655638</td>\n",
       "      <td>11.245524</td>\n",
       "      <td>4.290566</td>\n",
       "      <td>0.345289</td>\n",
       "      <td>0.269667</td>\n",
       "      <td>0.164915</td>\n",
       "      <td>0.014262</td>\n",
       "      <td>0.088300</td>\n",
       "    </tr>\n",
       "    <tr>\n",
       "      <th>54091</th>\n",
       "      <td>4701</td>\n",
       "      <td>1483</td>\n",
       "      <td>100</td>\n",
       "      <td>Taylor County</td>\n",
       "      <td>WV</td>\n",
       "      <td>17069</td>\n",
       "      <td>16892</td>\n",
       "      <td>1.0</td>\n",
       "      <td>16895</td>\n",
       "      <td>5.4</td>\n",
       "      <td>...</td>\n",
       "      <td>533.863603</td>\n",
       "      <td>1135.194567</td>\n",
       "      <td>40.355492</td>\n",
       "      <td>12.730737</td>\n",
       "      <td>4.691308</td>\n",
       "      <td>0.476068</td>\n",
       "      <td>0.379075</td>\n",
       "      <td>0.076588</td>\n",
       "      <td>0.007877</td>\n",
       "      <td>0.135142</td>\n",
       "    </tr>\n",
       "    <tr>\n",
       "      <th>54093</th>\n",
       "      <td>2557</td>\n",
       "      <td>750</td>\n",
       "      <td>100</td>\n",
       "      <td>Tucker County</td>\n",
       "      <td>WV</td>\n",
       "      <td>6927</td>\n",
       "      <td>7141</td>\n",
       "      <td>-3.0</td>\n",
       "      <td>7141</td>\n",
       "      <td>4.1</td>\n",
       "      <td>...</td>\n",
       "      <td>214.698563</td>\n",
       "      <td>670.129023</td>\n",
       "      <td>33.742781</td>\n",
       "      <td>9.897179</td>\n",
       "      <td>3.610285</td>\n",
       "      <td>0.300952</td>\n",
       "      <td>0.234957</td>\n",
       "      <td>0.033664</td>\n",
       "      <td>0.005124</td>\n",
       "      <td>0.035355</td>\n",
       "    </tr>\n",
       "    <tr>\n",
       "      <th>54095</th>\n",
       "      <td>2967</td>\n",
       "      <td>505</td>\n",
       "      <td>100</td>\n",
       "      <td>Tyler County</td>\n",
       "      <td>WV</td>\n",
       "      <td>9098</td>\n",
       "      <td>9211</td>\n",
       "      <td>-1.2</td>\n",
       "      <td>9208</td>\n",
       "      <td>4.6</td>\n",
       "      <td>...</td>\n",
       "      <td>305.294384</td>\n",
       "      <td>777.215790</td>\n",
       "      <td>34.799355</td>\n",
       "      <td>5.923045</td>\n",
       "      <td>4.144623</td>\n",
       "      <td>0.344301</td>\n",
       "      <td>0.167417</td>\n",
       "      <td>0.028785</td>\n",
       "      <td>0.011530</td>\n",
       "      <td>0.056564</td>\n",
       "    </tr>\n",
       "    <tr>\n",
       "      <th>54097</th>\n",
       "      <td>6971</td>\n",
       "      <td>1763</td>\n",
       "      <td>100</td>\n",
       "      <td>Upshur County</td>\n",
       "      <td>WV</td>\n",
       "      <td>24731</td>\n",
       "      <td>24254</td>\n",
       "      <td>2.0</td>\n",
       "      <td>24254</td>\n",
       "      <td>5.6</td>\n",
       "      <td>...</td>\n",
       "      <td>592.101450</td>\n",
       "      <td>1417.528742</td>\n",
       "      <td>49.746667</td>\n",
       "      <td>12.581176</td>\n",
       "      <td>7.366034</td>\n",
       "      <td>0.536271</td>\n",
       "      <td>0.453633</td>\n",
       "      <td>0.092131</td>\n",
       "      <td>0.066325</td>\n",
       "      <td>0.180301</td>\n",
       "    </tr>\n",
       "    <tr>\n",
       "      <th>54099</th>\n",
       "      <td>11077</td>\n",
       "      <td>3334</td>\n",
       "      <td>100</td>\n",
       "      <td>Wayne County</td>\n",
       "      <td>WV</td>\n",
       "      <td>41122</td>\n",
       "      <td>42481</td>\n",
       "      <td>-3.2</td>\n",
       "      <td>42481</td>\n",
       "      <td>4.9</td>\n",
       "      <td>...</td>\n",
       "      <td>797.597927</td>\n",
       "      <td>1912.495794</td>\n",
       "      <td>61.534961</td>\n",
       "      <td>18.521040</td>\n",
       "      <td>9.472258</td>\n",
       "      <td>0.694106</td>\n",
       "      <td>0.438475</td>\n",
       "      <td>0.083166</td>\n",
       "      <td>0.048687</td>\n",
       "      <td>0.312001</td>\n",
       "    </tr>\n",
       "    <tr>\n",
       "      <th>54101</th>\n",
       "      <td>2284</td>\n",
       "      <td>554</td>\n",
       "      <td>100</td>\n",
       "      <td>Webster County</td>\n",
       "      <td>WV</td>\n",
       "      <td>8834</td>\n",
       "      <td>9154</td>\n",
       "      <td>-3.5</td>\n",
       "      <td>9154</td>\n",
       "      <td>5.6</td>\n",
       "      <td>...</td>\n",
       "      <td>235.816336</td>\n",
       "      <td>764.337289</td>\n",
       "      <td>27.151957</td>\n",
       "      <td>6.585895</td>\n",
       "      <td>5.170852</td>\n",
       "      <td>0.293560</td>\n",
       "      <td>0.150742</td>\n",
       "      <td>0.037369</td>\n",
       "      <td>0.022751</td>\n",
       "      <td>0.043106</td>\n",
       "    </tr>\n",
       "    <tr>\n",
       "      <th>54103</th>\n",
       "      <td>4461</td>\n",
       "      <td>1348</td>\n",
       "      <td>100</td>\n",
       "      <td>Wetzel County</td>\n",
       "      <td>WV</td>\n",
       "      <td>15988</td>\n",
       "      <td>16580</td>\n",
       "      <td>-3.6</td>\n",
       "      <td>16583</td>\n",
       "      <td>5.3</td>\n",
       "      <td>...</td>\n",
       "      <td>433.462872</td>\n",
       "      <td>1094.025862</td>\n",
       "      <td>39.469513</td>\n",
       "      <td>11.926676</td>\n",
       "      <td>5.300129</td>\n",
       "      <td>0.477338</td>\n",
       "      <td>0.240822</td>\n",
       "      <td>0.050209</td>\n",
       "      <td>0.053496</td>\n",
       "      <td>0.106462</td>\n",
       "    </tr>\n",
       "    <tr>\n",
       "      <th>54105</th>\n",
       "      <td>1903</td>\n",
       "      <td>383</td>\n",
       "      <td>100</td>\n",
       "      <td>Wirt County</td>\n",
       "      <td>WV</td>\n",
       "      <td>5845</td>\n",
       "      <td>5717</td>\n",
       "      <td>2.2</td>\n",
       "      <td>5717</td>\n",
       "      <td>5.4</td>\n",
       "      <td>...</td>\n",
       "      <td>217.634810</td>\n",
       "      <td>589.375758</td>\n",
       "      <td>28.004833</td>\n",
       "      <td>5.636285</td>\n",
       "      <td>2.793403</td>\n",
       "      <td>0.292923</td>\n",
       "      <td>0.156487</td>\n",
       "      <td>0.032602</td>\n",
       "      <td>0.018379</td>\n",
       "      <td>0.032137</td>\n",
       "    </tr>\n",
       "    <tr>\n",
       "      <th>54107</th>\n",
       "      <td>25168</td>\n",
       "      <td>8327</td>\n",
       "      <td>100</td>\n",
       "      <td>Wood County</td>\n",
       "      <td>WV</td>\n",
       "      <td>86237</td>\n",
       "      <td>86956</td>\n",
       "      <td>-0.8</td>\n",
       "      <td>86956</td>\n",
       "      <td>5.4</td>\n",
       "      <td>...</td>\n",
       "      <td>1426.765237</td>\n",
       "      <td>2964.484646</td>\n",
       "      <td>96.485796</td>\n",
       "      <td>31.922967</td>\n",
       "      <td>7.437866</td>\n",
       "      <td>1.238691</td>\n",
       "      <td>1.015311</td>\n",
       "      <td>0.208578</td>\n",
       "      <td>0.141100</td>\n",
       "      <td>0.808741</td>\n",
       "    </tr>\n",
       "    <tr>\n",
       "      <th>54109</th>\n",
       "      <td>6527</td>\n",
       "      <td>1061</td>\n",
       "      <td>100</td>\n",
       "      <td>Wyoming County</td>\n",
       "      <td>WV</td>\n",
       "      <td>22598</td>\n",
       "      <td>23801</td>\n",
       "      <td>-5.1</td>\n",
       "      <td>23796</td>\n",
       "      <td>5.3</td>\n",
       "      <td>...</td>\n",
       "      <td>514.816172</td>\n",
       "      <td>1336.156631</td>\n",
       "      <td>48.974199</td>\n",
       "      <td>7.961027</td>\n",
       "      <td>7.248086</td>\n",
       "      <td>0.485604</td>\n",
       "      <td>0.246216</td>\n",
       "      <td>0.061573</td>\n",
       "      <td>0.009012</td>\n",
       "      <td>0.149097</td>\n",
       "    </tr>\n",
       "  </tbody>\n",
       "</table>\n",
       "<p>2640 rows × 92 columns</p>\n",
       "</div>"
      ],
      "text/plain": [
       "       trump  clinton  processed          area_name state_abbreviation  \\\n",
       "fips                                                                     \n",
       "1001   18110     5908        100     Autauga County                 AL   \n",
       "1003   72780    18409        100     Baldwin County                 AL   \n",
       "1005    5431     4848        100     Barbour County                 AL   \n",
       "1007    6733     1874        100        Bibb County                 AL   \n",
       "1009   22808     2150        100      Blount County                 AL   \n",
       "1011    1139     3530        100     Bullock County                 AL   \n",
       "1013    4891     3716        100      Butler County                 AL   \n",
       "1015   32803    13197        100     Calhoun County                 AL   \n",
       "1017    7803     5763        100    Chambers County                 AL   \n",
       "1019    8809     1524        100    Cherokee County                 AL   \n",
       "1021   15068     2909        100     Chilton County                 AL   \n",
       "1023    4102     3109        100     Choctaw County                 AL   \n",
       "1025    7109     5712        100      Clarke County                 AL   \n",
       "1027    5230     1234        100        Clay County                 AL   \n",
       "1029    5738      684        100    Cleburne County                 AL   \n",
       "1031   15825     4194        100      Coffee County                 AL   \n",
       "1033   16718     7296        100     Colbert County                 AL   \n",
       "1035    3413     3069        100     Conecuh County                 AL   \n",
       "1037    3376     1780        100       Coosa County                 AL   \n",
       "1039   13222     2379        100   Covington County                 AL   \n",
       "1041    4511     1663        100    Crenshaw County                 AL   \n",
       "1043   32734     3730        100     Cullman County                 AL   \n",
       "1045   13798     4408        100        Dale County                 AL   \n",
       "1047    5784    12826        100      Dallas County                 AL   \n",
       "1049   21779     3682        100      DeKalb County                 AL   \n",
       "1051   27619     8436        100      Elmore County                 AL   \n",
       "1053   10282     4698        100    Escambia County                 AL   \n",
       "1055   32132    10350        100      Etowah County                 AL   \n",
       "1057    6705     1358        100     Fayette County                 AL   \n",
       "1059    9466     2197        100    Franklin County                 AL   \n",
       "...      ...      ...        ...                ...                ...   \n",
       "54051   9565     2894        100    Marshall County                 WV   \n",
       "54053   7597     2069        100       Mason County                 WV   \n",
       "54055  17362     4689        100      Mercer County                 WV   \n",
       "54057   8957     2019        100     Mineral County                 WV   \n",
       "54059   7876     1365        100       Mingo County                 WV   \n",
       "54061  18278    14568        100  Monongalia County                 WV   \n",
       "54063   4337     1089        100      Monroe County                 WV   \n",
       "54065   5718     1568        100      Morgan County                 WV   \n",
       "54067   7169     1821        100    Nicholas County                 WV   \n",
       "54069  11077     5452        100        Ohio County                 WV   \n",
       "54071   2388      726        100   Pendleton County                 WV   \n",
       "54073   2342      620        100   Pleasants County                 WV   \n",
       "54075   2474      924        100  Pocahontas County                 WV   \n",
       "54077   9501     2462        100     Preston County                 WV   \n",
       "54079  17455     5784        100      Putnam County                 WV   \n",
       "54081  21835     6362        100     Raleigh County                 WV   \n",
       "54083   7583     2724        100    Randolph County                 WV   \n",
       "54085   3376      490        100     Ritchie County                 WV   \n",
       "54087   3772     1220        100       Roane County                 WV   \n",
       "54089   3444     1186        100     Summers County                 WV   \n",
       "54091   4701     1483        100      Taylor County                 WV   \n",
       "54093   2557      750        100      Tucker County                 WV   \n",
       "54095   2967      505        100       Tyler County                 WV   \n",
       "54097   6971     1763        100      Upshur County                 WV   \n",
       "54099  11077     3334        100       Wayne County                 WV   \n",
       "54101   2284      554        100     Webster County                 WV   \n",
       "54103   4461     1348        100      Wetzel County                 WV   \n",
       "54105   1903      383        100        Wirt County                 WV   \n",
       "54107  25168     8327        100        Wood County                 WV   \n",
       "54109   6527     1061        100     Wyoming County                 WV   \n",
       "\n",
       "       Population  PST040210  PST120214  POP010210  AGE135214      ...        \\\n",
       "fips                                                               ...         \n",
       "1001        55395      54571        1.5      54571        6.0      ...         \n",
       "1003       200111     182265        9.8     182265        5.6      ...         \n",
       "1005        26887      27457       -2.1      27457        5.7      ...         \n",
       "1007        22506      22919       -1.8      22915        5.3      ...         \n",
       "1009        57719      57322        0.7      57322        6.1      ...         \n",
       "1011        10764      10915       -1.4      10914        6.3      ...         \n",
       "1013        20296      20946       -3.1      20947        6.1      ...         \n",
       "1015       115916     118586       -2.3     118572        5.7      ...         \n",
       "1017        34076      34170       -0.3      34215        5.9      ...         \n",
       "1019        26037      25986        0.2      25989        4.8      ...         \n",
       "1021        43931      43631        0.7      43643        6.4      ...         \n",
       "1023        13323      13858       -3.9      13859        4.9      ...         \n",
       "1025        24945      25840       -3.5      25833        5.6      ...         \n",
       "1027        13552      13932       -2.7      13932        5.3      ...         \n",
       "1029        15080      14972        0.7      14972        5.7      ...         \n",
       "1031        50909      49948        1.9      49948        6.1      ...         \n",
       "1033        54543      54428        0.2      54428        5.7      ...         \n",
       "1035        12670      13228       -4.2      13228        5.5      ...         \n",
       "1037        10886      11758       -7.4      11539        4.8      ...         \n",
       "1039        37914      37765        0.4      37765        5.9      ...         \n",
       "1041        13977      13906        0.5      13906        6.1      ...         \n",
       "1043        81289      80410        1.1      80406        5.9      ...         \n",
       "1045        49484      50251       -1.5      50251        6.3      ...         \n",
       "1047        41711      43820       -4.8      43820        6.7      ...         \n",
       "1049        71065      71115       -0.1      71109        6.2      ...         \n",
       "1051        80977      79296        2.1      79303        5.9      ...         \n",
       "1053        37733      38319       -1.5      38319        6.1      ...         \n",
       "1055       103531     104427       -0.9     104430        5.7      ...         \n",
       "1057        16874      17241       -2.1      17241        5.4      ...         \n",
       "1059        31601      31709       -0.3      31704        6.6      ...         \n",
       "...           ...        ...        ...        ...        ...      ...         \n",
       "54051       32416      33107       -2.1      33107        5.3      ...         \n",
       "54053       27016      27326       -1.1      27324        5.3      ...         \n",
       "54055       61785      62266       -0.8      62264        6.4      ...         \n",
       "54057       27578      28212       -2.2      28212        5.3      ...         \n",
       "54059       25716      26834       -4.2      26839        6.4      ...         \n",
       "54061      103463      96189        7.6      96189        5.0      ...         \n",
       "54063       13582      13500        0.6      13502        5.4      ...         \n",
       "54065       17453      17541       -0.5      17541        4.1      ...         \n",
       "54067       25827      26233       -1.5      26233        5.8      ...         \n",
       "54069       43328      44443       -2.5      44443        5.5      ...         \n",
       "54071        7371       7695       -4.2       7695        4.6      ...         \n",
       "54073        7634       7605        0.4       7605        4.6      ...         \n",
       "54075        8662       8722       -0.7       8719        4.9      ...         \n",
       "54077       33788      33520        0.8      33520        4.9      ...         \n",
       "54079       56770      55510        2.3      55486        5.4      ...         \n",
       "54081       78241      78862       -0.8      78859        6.2      ...         \n",
       "54083       29429      29405        0.1      29405        5.3      ...         \n",
       "54085       10011      10449       -4.2      10449        4.7      ...         \n",
       "54087       14664      14926       -1.8      14926        5.7      ...         \n",
       "54089       13417      13927       -3.7      13927        4.1      ...         \n",
       "54091       17069      16892        1.0      16895        5.4      ...         \n",
       "54093        6927       7141       -3.0       7141        4.1      ...         \n",
       "54095        9098       9211       -1.2       9208        4.6      ...         \n",
       "54097       24731      24254        2.0      24254        5.6      ...         \n",
       "54099       41122      42481       -3.2      42481        4.9      ...         \n",
       "54101        8834       9154       -3.5       9154        5.6      ...         \n",
       "54103       15988      16580       -3.6      16583        5.3      ...         \n",
       "54105        5845       5717        2.2       5717        5.4      ...         \n",
       "54107       86237      86956       -0.8      86956        5.4      ...         \n",
       "54109       22598      23801       -5.1      23796        5.3      ...         \n",
       "\n",
       "          SDensity        SSize      Strump   Sclinton          X  \\\n",
       "fips                                                                \n",
       "1001    919.998807  2223.299555   88.967701  29.023809 -10.064153   \n",
       "1003   1870.838306  4816.382515  184.453445  46.655722  -2.238515   \n",
       "1005    499.842241  1484.597856   37.311742  33.306449 -15.586054   \n",
       "1007    480.759576  1336.278702   50.494713  14.054224  -2.440897   \n",
       "1009    942.348872  2302.231692  108.612829  10.238407   9.521413   \n",
       "1011    263.268094   853.948138   12.382992  38.377492 -17.148813   \n",
       "1013    410.409697  1235.048046   39.277674  29.841716 -13.449463   \n",
       "1015   1584.580310  3501.734170  109.232550  43.945431  -8.937998   \n",
       "1017    662.819614  1707.985404   47.678878  35.213812 -15.979142   \n",
       "1019    553.973594  1463.715015   61.189176  10.586026   3.183110   \n",
       "1021    756.047712  1950.801620   82.572506  15.941294   4.490057   \n",
       "1023    279.889726   976.807543   39.882685  30.228003 -11.556338   \n",
       "1025    422.376728  1406.801297   51.161855  41.107964 -16.676356   \n",
       "1027    323.643005   980.699798   50.739007  11.971689   0.494409   \n",
       "1029    353.255755  1034.723217   53.353411   6.360009   4.603983   \n",
       "1031    847.210121  2135.996242   80.294198  21.279865  -4.467473   \n",
       "1033    934.010102  2253.956539   80.897282  35.304855  -2.796434   \n",
       "1035    274.158092   942.742618   34.200835  30.753695 -10.728970   \n",
       "1037    270.998049   876.608074   35.797875  18.874472  -4.961391   \n",
       "1039    618.695350  1811.906810   76.935826  13.842863   0.331195   \n",
       "1041    325.005980   992.156825   43.398638  15.999099  -4.506775   \n",
       "1043   1178.428794  2837.701656  130.416439  14.860797  12.737564   \n",
       "1045    874.063738  2101.749022   70.963833  22.670574  -7.417827   \n",
       "1047    671.602010  1879.132141   32.745542  72.613126 -36.165491   \n",
       "1049   1044.748842  2584.229238   94.148318  15.916897  14.017464   \n",
       "1051   1211.963190  2822.139322  110.606779  33.783945 -11.199481   \n",
       "1053    634.983570  1807.915499   59.933499  27.384514 -12.904964   \n",
       "1055   1497.773321  3279.417098  113.144598  36.444871  -2.095294   \n",
       "1057    380.948951  1118.820053   58.332270  11.814351   1.246123   \n",
       "1059    605.061825  1602.498682   61.202357  14.204688   8.707667   \n",
       "...            ...          ...         ...        ...        ...   \n",
       "54051   754.118253  1671.546472   59.433578  17.982308   5.256579   \n",
       "54053   605.432345  1488.853402   52.067712  14.180347   6.518722   \n",
       "54055  1104.928922  2437.172838   78.585909  21.223899   6.888954   \n",
       "54057   661.795397  1518.728277   60.302622  13.592832   5.703585   \n",
       "54059   587.303277  1437.291137   55.646169   9.644111   5.973993   \n",
       "54061  1647.249112  3404.083380   62.000686  49.416019  12.233204   \n",
       "54063   347.581245   986.387107   41.842663  10.506493   4.700425   \n",
       "54065   515.854084  1161.316526   48.091309  13.187683   5.600985   \n",
       "54067   529.716322  1452.974676   50.125534  12.732403   6.316328   \n",
       "54069  1130.173850  1997.657900   59.201424  29.138410   3.321055   \n",
       "54071   187.355005   693.183300   30.678577   9.326904   2.835212   \n",
       "54073   319.178878   701.292117   29.856802   7.904021   3.165206   \n",
       "54075   188.628270   766.917068   29.248297  10.923778   3.913053   \n",
       "54077   651.501486  1721.921082   57.537542  14.909739   8.131971   \n",
       "54079  1062.440142  2290.194480   83.432108  27.646595   2.691821   \n",
       "54081  1209.191127  2797.755536   87.937252  25.622020   4.221960   \n",
       "54083   515.480043  1586.710368   49.175369  17.665001   7.618641   \n",
       "54085   280.462233   822.802131   37.795017   5.485651   5.408627   \n",
       "54087   367.148364  1026.627785   35.246820  11.400085   6.410185   \n",
       "54089   385.287251  1002.360857   32.655638  11.245524   4.290566   \n",
       "54091   533.863603  1135.194567   40.355492  12.730737   4.691308   \n",
       "54093   214.698563   670.129023   33.742781   9.897179   3.610285   \n",
       "54095   305.294384   777.215790   34.799355   5.923045   4.144623   \n",
       "54097   592.101450  1417.528742   49.746667  12.581176   7.366034   \n",
       "54099   797.597927  1912.495794   61.534961  18.521040   9.472258   \n",
       "54101   235.816336   764.337289   27.151957   6.585895   5.170852   \n",
       "54103   433.462872  1094.025862   39.469513  11.926676   5.300129   \n",
       "54105   217.634810   589.375758   28.004833   5.636285   2.793403   \n",
       "54107  1426.765237  2964.484646   96.485796  31.922967   7.437866   \n",
       "54109   514.816172  1336.156631   48.974199   7.961027   7.248086   \n",
       "\n",
       "       SIncome_norm  SBachelor_norm  SRacialDiversity_norm  SForeign_norm  \\\n",
       "fips                                                                        \n",
       "1001       1.042057        0.949301               0.882566       0.220220   \n",
       "1003       2.115500        2.344761               1.191916       0.960459   \n",
       "1005       0.484452        0.413129               1.381169       0.285419   \n",
       "1007       0.458397        0.340874               0.604191       0.108192   \n",
       "1009       0.887965        0.555100               0.455237       0.610556   \n",
       "1011       0.339724        0.244151               1.273230       0.335848   \n",
       "1013       0.442045        0.380855               1.037758       0.067359   \n",
       "1015       1.252891        1.037244               1.446113       0.487331   \n",
       "1017       0.625967        0.410080               1.256292       0.121725   \n",
       "1019       0.620922        0.386387               0.214883       0.068140   \n",
       "1021       0.776652        0.518339               0.638789       0.641615   \n",
       "1023       0.410263        0.255121               0.802319       0.020863   \n",
       "1025       0.530980        0.335593               1.157994       0.028186   \n",
       "1027       0.383027        0.201885               0.371815       0.153332   \n",
       "1029       0.417544        0.210629               0.147150       0.109079   \n",
       "1031       0.941160        0.970042               1.005108       0.679643   \n",
       "1033       0.887285        0.779713               0.778498       0.279468   \n",
       "1035       0.308763        0.186480               0.867121       0.040486   \n",
       "1037       0.332671        0.188809               0.589874       0.114781   \n",
       "1039       0.701057        0.522868               0.516091       0.162685   \n",
       "1041       0.447256        0.285032               0.543020       0.161650   \n",
       "1043       1.047795        0.800018               0.352343       0.509142   \n",
       "1045       0.899722        0.722117               1.029596       0.486443   \n",
       "1047       0.634632        0.559675               2.244158       0.095547   \n",
       "1049       0.868895        0.548640               0.797441       1.173107   \n",
       "1051       1.205638        1.136653               1.166953       0.354566   \n",
       "1053       0.566934        0.429509               1.201090       0.069600   \n",
       "1055       1.147857        0.900536               1.090006       0.422452   \n",
       "1057       0.423100        0.323426               0.306374       0.046633   \n",
       "1059       0.601412        0.375118               0.604634       0.878474   \n",
       "...             ...             ...                    ...            ...   \n",
       "54051      0.763685        0.477384               0.094371       0.087055   \n",
       "54053      0.595062        0.309044               0.082965       0.039463   \n",
       "54055      0.888690        0.826179               0.376875       0.194200   \n",
       "54057      0.572562        0.409057               0.153083       0.020087   \n",
       "54059      0.583544        0.324481               0.103116       0.057421   \n",
       "54061      1.413612        2.231778               0.576230       0.897007   \n",
       "54063      0.414424        0.299631               0.062621       0.021025   \n",
       "54065      0.510405        0.387100               0.084510       0.112553   \n",
       "54067      0.653153        0.424978               0.076242       0.135388   \n",
       "54069      0.943159        1.124721               0.252682       0.189772   \n",
       "54071      0.313640        0.205468               0.071924       0.010526   \n",
       "54073      0.323234        0.170558               0.052966       0.015912   \n",
       "54075      0.325131        0.280308               0.063128       0.017158   \n",
       "54077      0.684223        0.430317               0.102697       0.122818   \n",
       "54079      1.182243        1.086968               0.163573       0.183900   \n",
       "54081      1.072336        0.894079               0.547108       0.285417   \n",
       "54083      0.582789        0.608399               0.106864       0.031280   \n",
       "54085      0.311646        0.198284               0.036506       0.012080   \n",
       "54087      0.370304        0.235565               0.055147       0.021708   \n",
       "54089      0.345289        0.269667               0.164915       0.014262   \n",
       "54091      0.476068        0.379075               0.076588       0.007877   \n",
       "54093      0.300952        0.234957               0.033664       0.005124   \n",
       "54095      0.344301        0.167417               0.028785       0.011530   \n",
       "54097      0.536271        0.453633               0.092131       0.066325   \n",
       "54099      0.694106        0.438475               0.083166       0.048687   \n",
       "54101      0.293560        0.150742               0.037369       0.022751   \n",
       "54103      0.477338        0.240822               0.050209       0.053496   \n",
       "54105      0.292923        0.156487               0.032602       0.018379   \n",
       "54107      1.238691        1.015311               0.208578       0.141100   \n",
       "54109      0.485604        0.246216               0.061573       0.009012   \n",
       "\n",
       "       TDensity_norm  \n",
       "fips                  \n",
       "1001        0.406954  \n",
       "1003        1.604106  \n",
       "1005        0.158103  \n",
       "1007        0.139304  \n",
       "1009        0.430021  \n",
       "1011        0.052622  \n",
       "1013        0.111056  \n",
       "1015        1.034064  \n",
       "1017        0.235723  \n",
       "1019        0.173306  \n",
       "1021        0.299806  \n",
       "1023        0.062556  \n",
       "1025        0.127536  \n",
       "1027        0.072493  \n",
       "1029        0.082558  \n",
       "1031        0.362846  \n",
       "1033        0.419444  \n",
       "1035        0.059453  \n",
       "1037        0.055537  \n",
       "1039        0.231056  \n",
       "1041        0.073411  \n",
       "1043        0.642749  \n",
       "1045        0.369312  \n",
       "1047        0.257786  \n",
       "1049        0.525181  \n",
       "1051        0.657639  \n",
       "1053        0.236724  \n",
       "1055        0.924319  \n",
       "1057        0.095154  \n",
       "1059        0.203362  \n",
       "...              ...  \n",
       "54051       0.263733  \n",
       "54053       0.191960  \n",
       "54055       0.530470  \n",
       "54057       0.213610  \n",
       "54059       0.180636  \n",
       "54061       1.055269  \n",
       "54063       0.078289  \n",
       "54065       0.133283  \n",
       "54067       0.164632  \n",
       "54069       0.459523  \n",
       "54071       0.031691  \n",
       "54073       0.054406  \n",
       "54075       0.034672  \n",
       "54077       0.233779  \n",
       "54079       0.483017  \n",
       "54081       0.652449  \n",
       "54083       0.172734  \n",
       "54085       0.054439  \n",
       "54087       0.085382  \n",
       "54089       0.088300  \n",
       "54091       0.135142  \n",
       "54093       0.035355  \n",
       "54095       0.056564  \n",
       "54097       0.180301  \n",
       "54099       0.312001  \n",
       "54101       0.043106  \n",
       "54103       0.106462  \n",
       "54105       0.032137  \n",
       "54107       0.808741  \n",
       "54109       0.149097  \n",
       "\n",
       "[2640 rows x 92 columns]"
      ]
     },
     "execution_count": 132,
     "metadata": {},
     "output_type": "execute_result"
    }
   ],
   "source": [
    "data"
   ]
  },
  {
   "cell_type": "code",
   "execution_count": 134,
   "metadata": {
    "collapsed": false,
    "scrolled": true
   },
   "outputs": [
    {
     "name": "stdout",
     "output_type": "stream",
     "text": [
      "                            OLS Regression Results                            \n",
      "==============================================================================\n",
      "Dep. Variable:                 trumpp   R-squared:                       0.079\n",
      "Model:                            OLS   Adj. R-squared:                  0.078\n",
      "Method:                 Least Squares   F-statistic:                     45.37\n",
      "Date:                Sat, 19 Nov 2016   Prob (F-statistic):           4.57e-45\n",
      "Time:                        15:50:44   Log-Likelihood:                 716.66\n",
      "No. Observations:                2640   AIC:                            -1421.\n",
      "Df Residuals:                    2634   BIC:                            -1386.\n",
      "Df Model:                           5                                         \n",
      "Covariance Type:            nonrobust                                         \n",
      "=========================================================================================\n",
      "                            coef    std err          t      P>|t|      [95.0% Conf. Int.]\n",
      "-----------------------------------------------------------------------------------------\n",
      "Intercept                 0.6853      0.006    115.706      0.000         0.674     0.697\n",
      "SBachelor_norm           -0.0292      0.013     -2.332      0.020        -0.054    -0.005\n",
      "SIncome_norm              0.0026      0.016      0.163      0.870        -0.029     0.034\n",
      "SRacialDiversity_norm    -0.0516      0.005    -10.476      0.000        -0.061    -0.042\n",
      "SForeign_norm             0.0241      0.003      7.365      0.000         0.018     0.030\n",
      "TDensity_norm             0.0088      0.002      4.620      0.000         0.005     0.012\n",
      "==============================================================================\n",
      "Omnibus:                      296.961   Durbin-Watson:                   0.946\n",
      "Prob(Omnibus):                  0.000   Jarque-Bera (JB):              406.015\n",
      "Skew:                          -0.958   Prob(JB):                     6.84e-89\n",
      "Kurtosis:                       3.137   Cond. No.                         33.5\n",
      "==============================================================================\n",
      "\n",
      "Warnings:\n",
      "[1] Standard Errors assume that the covariance matrix of the errors is correctly specified.\n"
     ]
    }
   ],
   "source": [
    "lm_ = smf.ols(formula='trumpp ~ SBachelor_norm + SIncome_norm + SRacialDiversity_norm ' +\n",
    "              '+ SForeign_norm + TDensity_norm', data = data).fit()\n",
    "print lm_.summary()"
   ]
  },
  {
   "cell_type": "code",
   "execution_count": null,
   "metadata": {
    "collapsed": true
   },
   "outputs": [],
   "source": []
  },
  {
   "cell_type": "markdown",
   "metadata": {},
   "source": [
    "*** step 3"
   ]
  },
  {
   "cell_type": "code",
   "execution_count": 46,
   "metadata": {
    "collapsed": false
   },
   "outputs": [
    {
     "name": "stdout",
     "output_type": "stream",
     "text": [
      "R2 = 0.0201, p-value=2.632620e-13, estimate=[1.053654e-04 1.820423e-04]\n"
     ]
    }
   ],
   "source": [
    "addFactorAnalysis('SElectorate + SWhite + SLatino','SIncome'); #!!!!"
   ]
  },
  {
   "cell_type": "code",
   "execution_count": 47,
   "metadata": {
    "collapsed": false
   },
   "outputs": [
    {
     "name": "stdout",
     "output_type": "stream",
     "text": [
      "R2 = 0.0016, p-value=3.729325e-02, estimate=[1.581952e-03 5.213206e-02]\n"
     ]
    }
   ],
   "source": [
    "addFactorAnalysis('SElectorate + SWhite + SLatino','SBachelor');"
   ]
  },
  {
   "cell_type": "code",
   "execution_count": 48,
   "metadata": {
    "collapsed": false
   },
   "outputs": [
    {
     "name": "stdout",
     "output_type": "stream",
     "text": [
      "R2 = 0.0003, p-value=4.024792e-01, estimate=[-6.174282e-02 2.479084e-02]\n"
     ]
    }
   ],
   "source": [
    "addFactorAnalysis('SElectorate + SWhite + SLatino','SBlack');"
   ]
  },
  {
   "cell_type": "code",
   "execution_count": 49,
   "metadata": {
    "collapsed": false
   },
   "outputs": [
    {
     "name": "stdout",
     "output_type": "stream",
     "text": [
      "R2 = 0.0049, p-value=3.261596e-04, estimate=[2.237080e-01 7.594876e-01]\n"
     ]
    }
   ],
   "source": [
    "addFactorAnalysis('SElectorate + SWhite + SLatino','SFemale');"
   ]
  },
  {
   "cell_type": "code",
   "execution_count": 50,
   "metadata": {
    "collapsed": false
   },
   "outputs": [
    {
     "name": "stdout",
     "output_type": "stream",
     "text": [
      "R2 = 0.0070, p-value=1.781980e-05, estimate=[2.843296e-03 7.613341e-03]\n"
     ]
    }
   ],
   "source": [
    "addFactorAnalysis('SElectorate + SWhite + SLatino','SDensity');"
   ]
  },
  {
   "cell_type": "code",
   "execution_count": 51,
   "metadata": {
    "collapsed": false
   },
   "outputs": [
    {
     "name": "stdout",
     "output_type": "stream",
     "text": [
      "R2 = 0.0063, p-value=4.646210e-05, estimate=[-7.845629e-03 -2.751867e-03]\n"
     ]
    }
   ],
   "source": [
    "addFactorAnalysis('SElectorate + SWhite + SLatino','SSize');"
   ]
  },
  {
   "cell_type": "code",
   "execution_count": null,
   "metadata": {
    "collapsed": true
   },
   "outputs": [],
   "source": []
  },
  {
   "cell_type": "code",
   "execution_count": null,
   "metadata": {
    "collapsed": true
   },
   "outputs": [],
   "source": []
  },
  {
   "cell_type": "code",
   "execution_count": null,
   "metadata": {
    "collapsed": true
   },
   "outputs": [],
   "source": []
  },
  {
   "cell_type": "code",
   "execution_count": null,
   "metadata": {
    "collapsed": true
   },
   "outputs": [],
   "source": []
  },
  {
   "cell_type": "markdown",
   "metadata": {},
   "source": [
    "***step 4 *****"
   ]
  },
  {
   "cell_type": "code",
   "execution_count": 52,
   "metadata": {
    "collapsed": false
   },
   "outputs": [
    {
     "name": "stdout",
     "output_type": "stream",
     "text": [
      "R2 = 0.0266, p-value=3.385761e-17, estimate=[-2.603984e-01 -1.626870e-01]\n"
     ]
    }
   ],
   "source": [
    "addFactorAnalysis('SElectorate + SWhite + SLatino + SIncome','SBachelor'); #!!!!"
   ]
  },
  {
   "cell_type": "code",
   "execution_count": 53,
   "metadata": {
    "collapsed": false
   },
   "outputs": [
    {
     "name": "stdout",
     "output_type": "stream",
     "text": [
      "R2 = 0.0282, p-value=3.817421e-18, estimate=[-1.546747e-02 -9.802783e-03]\n"
     ]
    }
   ],
   "source": [
    "addFactorAnalysis('SElectorate + SWhite + SLatino + SIncome ', 'SSize');"
   ]
  },
  {
   "cell_type": "code",
   "execution_count": 54,
   "metadata": {
    "collapsed": false
   },
   "outputs": [
    {
     "name": "stdout",
     "output_type": "stream",
     "text": [
      "R2 = 0.0148, p-value=3.695754e-10, estimate=[-2.129300e-01 -1.117267e-01]\n"
     ]
    }
   ],
   "source": [
    "addFactorAnalysis('SElectorate + SWhite + SLatino + SIncome + SSize', 'SBachelor');"
   ]
  },
  {
   "cell_type": "code",
   "execution_count": 55,
   "metadata": {
    "collapsed": false
   },
   "outputs": [
    {
     "name": "stdout",
     "output_type": "stream",
     "text": [
      "R2 = 0.0203, p-value=1.916950e-13, estimate=[2.498316e-01 4.301947e-01]\n"
     ]
    }
   ],
   "source": [
    "addFactorAnalysis('SElectorate + SWhite + SLatino + SIncome + SSize', 'SSeniors');"
   ]
  },
  {
   "cell_type": "code",
   "execution_count": 56,
   "metadata": {
    "collapsed": false
   },
   "outputs": [
    {
     "name": "stdout",
     "output_type": "stream",
     "text": [
      "R2 = 0.0114, p-value=4.017374e-08, estimate=[4.884500e-01 1.028733e+00]\n"
     ]
    }
   ],
   "source": [
    "addFactorAnalysis('SElectorate + SWhite + SLatino + SIncome + SSize', 'SFemale');"
   ]
  },
  {
   "cell_type": "code",
   "execution_count": 57,
   "metadata": {
    "collapsed": false
   },
   "outputs": [
    {
     "name": "stdout",
     "output_type": "stream",
     "text": [
      "R2 = 0.0216, p-value=3.523742e-14, estimate=[-1.462950e-02 -8.641034e-03]\n"
     ]
    }
   ],
   "source": [
    "addFactorAnalysis('SElectorate + SWhite + SLatino + SIncome + SFemale + SBachelor + SSeniors', 'SSize');"
   ]
  },
  {
   "cell_type": "code",
   "execution_count": 58,
   "metadata": {
    "collapsed": true
   },
   "outputs": [],
   "source": [
    "def addFactorAnalysisC(previos,factor):\n",
    "    lmP = smf.ols(formula='Sclinton ~ ' + previos +' -1', data = data).fit()\n",
    "    lmX = smf.ols(formula=factor+' ~ ' + previos +' -1', data = data).fit()\n",
    "    XP = lmX.predict()\n",
    "    dataX=data\n",
    "    dataX['X']=data[factor]-XP\n",
    "    lm = smf.ols(formula='Sclinton ~ ' + previos +' + X -1', data = dataX).fit()\n",
    "    pvalue=lm.pvalues[-1]\n",
    "    est=[lm.conf_int()[0].X, lm.conf_int()[1].X]\n",
    "    XR2=1-(1-lm.rsquared)/(1-lmP.rsquared)\n",
    "    print 'R2 = %.4f, p-value=%e, estimate=[%e %e]'%(XR2,pvalue,est[0],est[1])\n",
    "    return [est,pvalue,XR2]"
   ]
  },
  {
   "cell_type": "code",
   "execution_count": 59,
   "metadata": {
    "collapsed": false
   },
   "outputs": [
    {
     "name": "stdout",
     "output_type": "stream",
     "text": [
      "R2 = 0.0076, p-value=6.900844e-06, estimate=[-7.662697e-03 -3.015620e-03]\n"
     ]
    }
   ],
   "source": [
    "addFactorAnalysisC('SElectorate ', 'SSize');"
   ]
  },
  {
   "cell_type": "code",
   "execution_count": 60,
   "metadata": {
    "collapsed": false
   },
   "outputs": [
    {
     "name": "stdout",
     "output_type": "stream",
     "text": [
      "R2 = 0.0029, p-value=5.803521e-03, estimate=[-8.290389e-03 -1.404742e-03]\n"
     ]
    }
   ],
   "source": [
    "addFactorAnalysisC('SElectorate + SWhite + SLatino + SIncome + SFemale + SBachelor + SSeniors', 'SSize');"
   ]
  },
  {
   "cell_type": "code",
   "execution_count": 61,
   "metadata": {
    "collapsed": false
   },
   "outputs": [
    {
     "data": {
      "text/plain": [
       "[<matplotlib.lines.Line2D at 0x7f6a2dc7a250>]"
      ]
     },
     "execution_count": 61,
     "metadata": {},
     "output_type": "execute_result"
    },
    {
     "data": {
      "image/png": "[encoded data removed]",
      "text/plain": [
       "<matplotlib.figure.Figure at 0x7f6a2dd50050>"
      ]
     },
     "metadata": {},
     "output_type": "display_data"
    }
   ],
   "source": [
    "plot(data.SSize/data.SElectorate,data.Sclinton/data.SElectorate,'.')"
   ]
  },
  {
   "cell_type": "code",
   "execution_count": 62,
   "metadata": {
    "collapsed": false
   },
   "outputs": [
    {
     "data": {
      "text/plain": [
       "[<matplotlib.lines.Line2D at 0x7f6a2dc23c50>]"
      ]
     },
     "execution_count": 62,
     "metadata": {},
     "output_type": "execute_result"
    },
    {
     "data": {
      "image/png": "[encoded data removed]",
      "text/plain": [
       "<matplotlib.figure.Figure at 0x7f6a2dd30790>"
      ]
     },
     "metadata": {},
     "output_type": "display_data"
    }
   ],
   "source": [
    "plot(data.SSize/data.SElectorate,data.Strump/data.SElectorate,'.')"
   ]
  },
  {
   "cell_type": "code",
   "execution_count": 63,
   "metadata": {
    "collapsed": true
   },
   "outputs": [],
   "source": [
    "lmTrump = smf.ols(formula='Strump ~ SElectorate + SWhite + SLatino + SIncome + SFemale + SBachelor + SSeniors', data = data).fit()\n",
    "resTrump = data.Strump - lmTrump.predict()"
   ]
  },
  {
   "cell_type": "code",
   "execution_count": 64,
   "metadata": {
    "collapsed": true
   },
   "outputs": [],
   "source": [
    "lmClinton = smf.ols(formula='Sclinton ~ SElectorate + SWhite + SLatino + SIncome + SFemale + SBachelor + SSeniors', data = data).fit()\n",
    "resClinton = data.Sclinton - lmClinton.predict()"
   ]
  },
  {
   "cell_type": "code",
   "execution_count": 67,
   "metadata": {
    "collapsed": false
   },
   "outputs": [
    {
     "ename": "AttributeError",
     "evalue": "'DataFrame' object has no attribute 'resTrump'",
     "output_type": "error",
     "traceback": [
      "\u001b[1;31m---------------------------------------------------------------------------\u001b[0m",
      "\u001b[1;31mAttributeError\u001b[0m                            Traceback (most recent call last)",
      "\u001b[1;32m<ipython-input-67-0d8236f3e79a>\u001b[0m in \u001b[0;36m<module>\u001b[1;34m()\u001b[0m\n\u001b[1;32m----> 1\u001b[1;33m \u001b[0mplot\u001b[0m\u001b[1;33m(\u001b[0m\u001b[0mdata\u001b[0m\u001b[1;33m.\u001b[0m\u001b[0mSSize\u001b[0m\u001b[1;33m/\u001b[0m\u001b[0mdata\u001b[0m\u001b[1;33m.\u001b[0m\u001b[0mSElectorate\u001b[0m\u001b[1;33m,\u001b[0m\u001b[0mdata\u001b[0m\u001b[1;33m.\u001b[0m\u001b[0mresTrump\u001b[0m\u001b[1;33m/\u001b[0m\u001b[0mdata\u001b[0m\u001b[1;33m.\u001b[0m\u001b[0mSElectorate\u001b[0m\u001b[1;33m,\u001b[0m\u001b[1;34m'.'\u001b[0m\u001b[1;33m)\u001b[0m\u001b[1;33m\u001b[0m\u001b[0m\n\u001b[0m",
      "\u001b[1;32m/opt/rh/anaconda/root/lib/python2.7/site-packages/pandas/core/generic.pyc\u001b[0m in \u001b[0;36m__getattr__\u001b[1;34m(self, name)\u001b[0m\n\u001b[0;32m   2670\u001b[0m             \u001b[1;32mif\u001b[0m \u001b[0mname\u001b[0m \u001b[1;32min\u001b[0m \u001b[0mself\u001b[0m\u001b[1;33m.\u001b[0m\u001b[0m_info_axis\u001b[0m\u001b[1;33m:\u001b[0m\u001b[1;33m\u001b[0m\u001b[0m\n\u001b[0;32m   2671\u001b[0m                 \u001b[1;32mreturn\u001b[0m \u001b[0mself\u001b[0m\u001b[1;33m[\u001b[0m\u001b[0mname\u001b[0m\u001b[1;33m]\u001b[0m\u001b[1;33m\u001b[0m\u001b[0m\n\u001b[1;32m-> 2672\u001b[1;33m             \u001b[1;32mreturn\u001b[0m \u001b[0mobject\u001b[0m\u001b[1;33m.\u001b[0m\u001b[0m__getattribute__\u001b[0m\u001b[1;33m(\u001b[0m\u001b[0mself\u001b[0m\u001b[1;33m,\u001b[0m \u001b[0mname\u001b[0m\u001b[1;33m)\u001b[0m\u001b[1;33m\u001b[0m\u001b[0m\n\u001b[0m\u001b[0;32m   2673\u001b[0m \u001b[1;33m\u001b[0m\u001b[0m\n\u001b[0;32m   2674\u001b[0m     \u001b[1;32mdef\u001b[0m \u001b[0m__setattr__\u001b[0m\u001b[1;33m(\u001b[0m\u001b[0mself\u001b[0m\u001b[1;33m,\u001b[0m \u001b[0mname\u001b[0m\u001b[1;33m,\u001b[0m \u001b[0mvalue\u001b[0m\u001b[1;33m)\u001b[0m\u001b[1;33m:\u001b[0m\u001b[1;33m\u001b[0m\u001b[0m\n",
      "\u001b[1;31mAttributeError\u001b[0m: 'DataFrame' object has no attribute 'resTrump'"
     ]
    }
   ],
   "source": [
    "plot(data.SSize/data.SElectorate,data.resTrump/data.SElectorate,'.')"
   ]
  },
  {
   "cell_type": "code",
   "execution_count": 68,
   "metadata": {
    "collapsed": false
   },
   "outputs": [
    {
     "data": {
      "text/plain": [
       "[<matplotlib.lines.Line2D at 0x7f6a2d8c7ad0>]"
      ]
     },
     "execution_count": 68,
     "metadata": {},
     "output_type": "execute_result"
    },
    {
     "data": {
      "image/png": "[encoded data removed]",
      "text/plain": [
       "<matplotlib.figure.Figure at 0x7f6a2d95bd90>"
      ]
     },
     "metadata": {},
     "output_type": "display_data"
    }
   ],
   "source": [
    "plot(data.SSize/data.SElectorate,resClinton/data.SElectorate,'.')"
   ]
  },
  {
   "cell_type": "code",
   "execution_count": 69,
   "metadata": {
    "collapsed": false
   },
   "outputs": [
    {
     "data": {
      "text/plain": [
       "[<matplotlib.lines.Line2D at 0x7f6a2d82d790>]"
      ]
     },
     "execution_count": 69,
     "metadata": {},
     "output_type": "execute_result"
    },
    {
     "data": {
      "image/png": "[encoded data removed]",
      "text/plain": [
       "<matplotlib.figure.Figure at 0x7f6a2d86b150>"
      ]
     },
     "metadata": {},
     "output_type": "display_data"
    }
   ],
   "source": [
    "plot(data.SDensity/data.SElectorate,resTrump/data.SElectorate,'.')"
   ]
  },
  {
   "cell_type": "code",
   "execution_count": 70,
   "metadata": {
    "collapsed": false
   },
   "outputs": [
    {
     "data": {
      "text/plain": [
       "[<matplotlib.lines.Line2D at 0x7f6a2d76e950>]"
      ]
     },
     "execution_count": 70,
     "metadata": {},
     "output_type": "execute_result"
    },
    {
     "data": {
      "image/png": "[encoded data removed]",
      "text/plain": [
       "<matplotlib.figure.Figure at 0x7f6a2dd0e910>"
      ]
     },
     "metadata": {},
     "output_type": "display_data"
    }
   ],
   "source": [
    "plot(data.SDensity/data.SElectorate,resClinton/data.SElectorate,'.')"
   ]
  },
  {
   "cell_type": "code",
   "execution_count": null,
   "metadata": {
    "collapsed": true
   },
   "outputs": [],
   "source": []
  },
  {
   "cell_type": "code",
   "execution_count": 71,
   "metadata": {
    "collapsed": false
   },
   "outputs": [
    {
     "data": {
      "text/plain": [
       "[<matplotlib.lines.Line2D at 0x7f6a2d71f610>]"
      ]
     },
     "execution_count": 71,
     "metadata": {},
     "output_type": "execute_result"
    },
    {
     "data": {
      "image/png": "[encoded data removed]",
      "text/plain": [
       "<matplotlib.figure.Figure at 0x7f6a2d845f10>"
      ]
     },
     "metadata": {},
     "output_type": "display_data"
    }
   ],
   "source": [
    "plot(data.TSize,data.trump/data.TElectorate,'.')"
   ]
  },
  {
   "cell_type": "code",
   "execution_count": 72,
   "metadata": {
    "collapsed": false
   },
   "outputs": [
    {
     "data": {
      "text/plain": [
       "0.6807789237537512"
      ]
     },
     "execution_count": 72,
     "metadata": {},
     "output_type": "execute_result"
    }
   ],
   "source": [
    "ind=(data.Population<1e4)&(data.Population>1e3)\n",
    "1.0*sum(data.trump[ind])/(sum(data.trump[ind])+sum(data.clinton[ind]))"
   ]
  },
  {
   "cell_type": "code",
   "execution_count": 73,
   "metadata": {
    "collapsed": false
   },
   "outputs": [
    {
     "data": {
      "text/plain": [
       "0.7988649066987703"
      ]
     },
     "execution_count": 73,
     "metadata": {},
     "output_type": "execute_result"
    }
   ],
   "source": [
    "ind=(data.Population<1e3)&(data.Population>1e1)\n",
    "1.0*sum(data.trump[ind])/(sum(data.trump[ind])+sum(data.clinton[ind]))"
   ]
  },
  {
   "cell_type": "code",
   "execution_count": 74,
   "metadata": {
    "collapsed": false
   },
   "outputs": [
    {
     "data": {
      "text/plain": [
       "0.6234965717197312"
      ]
     },
     "execution_count": 74,
     "metadata": {},
     "output_type": "execute_result"
    }
   ],
   "source": [
    "ind=(data.Population<1e5)&(data.Population>1e4)\n",
    "1.0*sum(data.trump[ind])/(sum(data.trump[ind])+sum(data.clinton[ind]))"
   ]
  },
  {
   "cell_type": "code",
   "execution_count": 75,
   "metadata": {
    "collapsed": false
   },
   "outputs": [
    {
     "data": {
      "text/plain": [
       "0.5492493444489315"
      ]
     },
     "execution_count": 75,
     "metadata": {},
     "output_type": "execute_result"
    }
   ],
   "source": [
    "ind=(data.Population<1e7)&(data.Population>1e5)\n",
    "1.0*sum(data.trump[ind])/(sum(data.trump[ind])+sum(data.clinton[ind]))"
   ]
  },
  {
   "cell_type": "code",
   "execution_count": 76,
   "metadata": {
    "collapsed": false
   },
   "outputs": [
    {
     "data": {
      "text/plain": [
       "0.6141529737655815"
      ]
     },
     "execution_count": 76,
     "metadata": {},
     "output_type": "execute_result"
    }
   ],
   "source": [
    "ind=(data.Density<1e2)&(data.Population>1e1)\n",
    "1.0*sum(data.trump[ind])/(sum(data.trump[ind])+sum(data.clinton[ind]))"
   ]
  },
  {
   "cell_type": "code",
   "execution_count": 77,
   "metadata": {
    "collapsed": false
   },
   "outputs": [
    {
     "data": {
      "text/plain": [
       "0.5833182847324875"
      ]
     },
     "execution_count": 77,
     "metadata": {},
     "output_type": "execute_result"
    }
   ],
   "source": [
    "ind=(data.Density<1e3)&(data.Population>1e2)\n",
    "1.0*sum(data.trump[ind])/(sum(data.trump[ind])+sum(data.clinton[ind]))"
   ]
  },
  {
   "cell_type": "code",
   "execution_count": 78,
   "metadata": {
    "collapsed": false
   },
   "outputs": [
    {
     "data": {
      "text/plain": [
       "0.5391731233985939"
      ]
     },
     "execution_count": 78,
     "metadata": {},
     "output_type": "execute_result"
    }
   ],
   "source": [
    "ind=(data.Density<1e4)&(data.Density>1e3)\n",
    "1.0*sum(data.trump[ind])/(sum(data.trump[ind])+sum(data.clinton[ind]))"
   ]
  },
  {
   "cell_type": "code",
   "execution_count": 79,
   "metadata": {
    "collapsed": false
   },
   "outputs": [
    {
     "data": {
      "text/plain": [
       "0.19143366636014067"
      ]
     },
     "execution_count": 79,
     "metadata": {},
     "output_type": "execute_result"
    }
   ],
   "source": [
    "ind=(data.Density<1e2)&(data.Density>1e1)\n",
    "1.0*(0*sum(data.trump[ind])+1*sum(data.clinton[ind]))/sum(data.TElectorate[ind])"
   ]
  },
  {
   "cell_type": "code",
   "execution_count": 80,
   "metadata": {
    "collapsed": false
   },
   "outputs": [
    {
     "data": {
      "text/plain": [
       "0.21322817740492561"
      ]
     },
     "execution_count": 80,
     "metadata": {},
     "output_type": "execute_result"
    }
   ],
   "source": [
    "ind=(data.Density<1e3)&(data.Density>1e2)\n",
    "1.0*(0*sum(data.trump[ind])+1*sum(data.clinton[ind]))/sum(data.TElectorate[ind])"
   ]
  },
  {
   "cell_type": "code",
   "execution_count": 81,
   "metadata": {
    "collapsed": false
   },
   "outputs": [
    {
     "data": {
      "text/plain": [
       "0.21518141193793397"
      ]
     },
     "execution_count": 81,
     "metadata": {},
     "output_type": "execute_result"
    }
   ],
   "source": [
    "ind=(data.Density<1e4)&(data.Density>1e3)\n",
    "1.0*(0*sum(data.trump[ind])+1*sum(data.clinton[ind]))/sum(data.TElectorate[ind])"
   ]
  },
  {
   "cell_type": "code",
   "execution_count": 82,
   "metadata": {
    "collapsed": false
   },
   "outputs": [
    {
     "data": {
      "text/plain": [
       "0.16025357987793537"
      ]
     },
     "execution_count": 82,
     "metadata": {},
     "output_type": "execute_result"
    }
   ],
   "source": [
    "ind=(data.Density<1e3)&(data.Density>1e2)\n",
    "1.0*(sum(data.TLatino[ind]))/sum(data.TElectorate[ind])"
   ]
  },
  {
   "cell_type": "code",
   "execution_count": 83,
   "metadata": {
    "collapsed": false
   },
   "outputs": [
    {
     "data": {
      "text/plain": [
       "0.11485779576686381"
      ]
     },
     "execution_count": 83,
     "metadata": {},
     "output_type": "execute_result"
    }
   ],
   "source": [
    "ind=(data.Density<1e2)&(data.Density>1e1)\n",
    "1.0*sum(data.TLatino[ind])/sum(data.TElectorate[ind])"
   ]
  },
  {
   "cell_type": "code",
   "execution_count": 84,
   "metadata": {
    "collapsed": false
   },
   "outputs": [
    {
     "data": {
      "text/plain": [
       "0.178366768569926"
      ]
     },
     "execution_count": 84,
     "metadata": {},
     "output_type": "execute_result"
    }
   ],
   "source": [
    "ind=(data.Density<1e4)&(data.Population>1e3)\n",
    "1.0*sum(data.TLatino[ind])/sum(data.TElectorate[ind])"
   ]
  },
  {
   "cell_type": "code",
   "execution_count": 85,
   "metadata": {
    "collapsed": false
   },
   "outputs": [
    {
     "name": "stdout",
     "output_type": "stream",
     "text": [
      "R2 = 0.1351, p-value=3.097192e-85, estimate=[-8.793852e-05 -7.244508e-05]\n"
     ]
    }
   ],
   "source": [
    "addFactorAnalysis('TElectorate','TDensity');"
   ]
  },
  {
   "cell_type": "code",
   "execution_count": 86,
   "metadata": {
    "collapsed": false
   },
   "outputs": [
    {
     "data": {
      "text/plain": [
       "3.6732543252525551"
      ]
     },
     "execution_count": 86,
     "metadata": {},
     "output_type": "execute_result"
    }
   ],
   "source": [
    "ind=(data.Density<1e2)&(data.Population>1e1)\n",
    "1.0*sum(data.TDensity[ind])/sum(data.TElectorate[ind])"
   ]
  },
  {
   "cell_type": "code",
   "execution_count": 87,
   "metadata": {
    "collapsed": false
   },
   "outputs": [
    {
     "data": {
      "text/plain": [
       "[0.069083116054926896, 0.059871395032437102]"
      ]
     },
     "execution_count": 87,
     "metadata": {},
     "output_type": "execute_result"
    }
   ],
   "source": [
    "singleFactorAnalysis('TDensity')"
   ]
  },
  {
   "cell_type": "code",
   "execution_count": 88,
   "metadata": {
    "collapsed": false
   },
   "outputs": [
    {
     "name": "stdout",
     "output_type": "stream",
     "text": [
      "                            OLS Regression Results                            \n",
      "==============================================================================\n",
      "Dep. Variable:                 trumpp   R-squared:                       0.042\n",
      "Model:                            OLS   Adj. R-squared:                  0.041\n",
      "Method:                 Least Squares   F-statistic:                     114.5\n",
      "Date:                Sat, 19 Nov 2016   Prob (F-statistic):           3.47e-26\n",
      "Time:                        14:50:26   Log-Likelihood:                 663.69\n",
      "No. Observations:                2640   AIC:                            -1323.\n",
      "Df Residuals:                    2638   BIC:                            -1312.\n",
      "Df Model:                           1                                         \n",
      "Covariance Type:            nonrobust                                         \n",
      "================================================================================\n",
      "                   coef    std err          t      P>|t|      [95.0% Conf. Int.]\n",
      "--------------------------------------------------------------------------------\n",
      "Intercept        0.7262      0.009     82.084      0.000         0.709     0.744\n",
      "log(Density)    -0.0229      0.002    -10.700      0.000        -0.027    -0.019\n",
      "==============================================================================\n",
      "Omnibus:                      275.096   Durbin-Watson:                   0.998\n",
      "Prob(Omnibus):                  0.000   Jarque-Bera (JB):              368.089\n",
      "Skew:                          -0.913   Prob(JB):                     1.18e-80\n",
      "Kurtosis:                       2.894   Cond. No.                         10.5\n",
      "==============================================================================\n",
      "\n",
      "Warnings:\n",
      "[1] Standard Errors assume that the covariance matrix of the errors is correctly specified.\n"
     ]
    }
   ],
   "source": [
    "lm_ = smf.ols(formula='trumpp ~ log(Density)', data = data).fit()\n",
    "print lm_.summary()"
   ]
  },
  {
   "cell_type": "code",
   "execution_count": 89,
   "metadata": {
    "collapsed": false
   },
   "outputs": [
    {
     "name": "stdout",
     "output_type": "stream",
     "text": [
      "                            OLS Regression Results                            \n",
      "==============================================================================\n",
      "Dep. Variable:                  trump   R-squared:                       0.911\n",
      "Model:                            OLS   Adj. R-squared:                  0.911\n",
      "Method:                 Least Squares   F-statistic:                 2.692e+04\n",
      "Date:                Sat, 19 Nov 2016   Prob (F-statistic):               0.00\n",
      "Time:                        14:50:26   Log-Likelihood:                -29685.\n",
      "No. Observations:                2640   AIC:                         5.937e+04\n",
      "Df Residuals:                    2638   BIC:                         5.939e+04\n",
      "Df Model:                           1                                         \n",
      "Covariance Type:            nonrobust                                         \n",
      "==============================================================================\n",
      "                 coef    std err          t      P>|t|      [95.0% Conf. Int.]\n",
      "------------------------------------------------------------------------------\n",
      "Intercept   6504.6446    370.460     17.558      0.000      5778.223  7231.066\n",
      "TDensity       0.0309      0.000    164.075      0.000         0.031     0.031\n",
      "==============================================================================\n",
      "Omnibus:                     3058.759   Durbin-Watson:                   1.888\n",
      "Prob(Omnibus):                  0.000   Jarque-Bera (JB):          3068236.336\n",
      "Skew:                           5.090   Prob(JB):                         0.00\n",
      "Kurtosis:                     169.702   Cond. No.                     2.02e+06\n",
      "==============================================================================\n",
      "\n",
      "Warnings:\n",
      "[1] Standard Errors assume that the covariance matrix of the errors is correctly specified.\n",
      "[2] The condition number is large, 2.02e+06. This might indicate that there are\n",
      "strong multicollinearity or other numerical problems.\n"
     ]
    }
   ],
   "source": [
    "lm_ = smf.ols(formula='trump ~ TDensity', data = data).fit()\n",
    "print lm_.summary()"
   ]
  },
  {
   "cell_type": "code",
   "execution_count": 90,
   "metadata": {
    "collapsed": false,
    "scrolled": true
   },
   "outputs": [
    {
     "ename": "KeyError",
     "evalue": "''",
     "output_type": "error",
     "traceback": [
      "\u001b[1;31m---------------------------------------------------------------------------\u001b[0m",
      "\u001b[1;31mKeyError\u001b[0m                                  Traceback (most recent call last)",
      "\u001b[1;32m<ipython-input-90-e14c4f96c9ba>\u001b[0m in \u001b[0;36m<module>\u001b[1;34m()\u001b[0m\n\u001b[1;32m----> 1\u001b[1;33m \u001b[0mdata\u001b[0m\u001b[1;33m.\u001b[0m\u001b[0mplot\u001b[0m\u001b[1;33m(\u001b[0m\u001b[0mx\u001b[0m\u001b[1;33m=\u001b[0m\u001b[1;34m''\u001b[0m\u001b[1;33m,\u001b[0m \u001b[0my\u001b[0m \u001b[1;33m=\u001b[0m \u001b[1;34m'trumpp'\u001b[0m\u001b[1;33m,\u001b[0m \u001b[0mkind\u001b[0m\u001b[1;33m=\u001b[0m\u001b[1;34m'scatter'\u001b[0m\u001b[1;33m)\u001b[0m\u001b[1;33m\u001b[0m\u001b[0m\n\u001b[0m",
      "\u001b[1;32m/opt/rh/anaconda/root/lib/python2.7/site-packages/pandas/tools/plotting.pyc\u001b[0m in \u001b[0;36m__call__\u001b[1;34m(self, x, y, kind, ax, subplots, sharex, sharey, layout, figsize, use_index, title, grid, legend, style, logx, logy, loglog, xticks, yticks, xlim, ylim, rot, fontsize, colormap, table, yerr, xerr, secondary_y, sort_columns, **kwds)\u001b[0m\n\u001b[0;32m   3738\u001b[0m                           \u001b[0mfontsize\u001b[0m\u001b[1;33m=\u001b[0m\u001b[0mfontsize\u001b[0m\u001b[1;33m,\u001b[0m \u001b[0mcolormap\u001b[0m\u001b[1;33m=\u001b[0m\u001b[0mcolormap\u001b[0m\u001b[1;33m,\u001b[0m \u001b[0mtable\u001b[0m\u001b[1;33m=\u001b[0m\u001b[0mtable\u001b[0m\u001b[1;33m,\u001b[0m\u001b[1;33m\u001b[0m\u001b[0m\n\u001b[0;32m   3739\u001b[0m                           \u001b[0myerr\u001b[0m\u001b[1;33m=\u001b[0m\u001b[0myerr\u001b[0m\u001b[1;33m,\u001b[0m \u001b[0mxerr\u001b[0m\u001b[1;33m=\u001b[0m\u001b[0mxerr\u001b[0m\u001b[1;33m,\u001b[0m \u001b[0msecondary_y\u001b[0m\u001b[1;33m=\u001b[0m\u001b[0msecondary_y\u001b[0m\u001b[1;33m,\u001b[0m\u001b[1;33m\u001b[0m\u001b[0m\n\u001b[1;32m-> 3740\u001b[1;33m                           sort_columns=sort_columns, **kwds)\n\u001b[0m\u001b[0;32m   3741\u001b[0m     \u001b[0m__call__\u001b[0m\u001b[1;33m.\u001b[0m\u001b[0m__doc__\u001b[0m \u001b[1;33m=\u001b[0m \u001b[0mplot_frame\u001b[0m\u001b[1;33m.\u001b[0m\u001b[0m__doc__\u001b[0m\u001b[1;33m\u001b[0m\u001b[0m\n\u001b[0;32m   3742\u001b[0m \u001b[1;33m\u001b[0m\u001b[0m\n",
      "\u001b[1;32m/opt/rh/anaconda/root/lib/python2.7/site-packages/pandas/tools/plotting.pyc\u001b[0m in \u001b[0;36mplot_frame\u001b[1;34m(data, x, y, kind, ax, subplots, sharex, sharey, layout, figsize, use_index, title, grid, legend, style, logx, logy, loglog, xticks, yticks, xlim, ylim, rot, fontsize, colormap, table, yerr, xerr, secondary_y, sort_columns, **kwds)\u001b[0m\n\u001b[0;32m   2612\u001b[0m                  \u001b[0myerr\u001b[0m\u001b[1;33m=\u001b[0m\u001b[0myerr\u001b[0m\u001b[1;33m,\u001b[0m \u001b[0mxerr\u001b[0m\u001b[1;33m=\u001b[0m\u001b[0mxerr\u001b[0m\u001b[1;33m,\u001b[0m\u001b[1;33m\u001b[0m\u001b[0m\n\u001b[0;32m   2613\u001b[0m                  \u001b[0msecondary_y\u001b[0m\u001b[1;33m=\u001b[0m\u001b[0msecondary_y\u001b[0m\u001b[1;33m,\u001b[0m \u001b[0msort_columns\u001b[0m\u001b[1;33m=\u001b[0m\u001b[0msort_columns\u001b[0m\u001b[1;33m,\u001b[0m\u001b[1;33m\u001b[0m\u001b[0m\n\u001b[1;32m-> 2614\u001b[1;33m                  **kwds)\n\u001b[0m\u001b[0;32m   2615\u001b[0m \u001b[1;33m\u001b[0m\u001b[0m\n\u001b[0;32m   2616\u001b[0m \u001b[1;33m\u001b[0m\u001b[0m\n",
      "\u001b[1;32m/opt/rh/anaconda/root/lib/python2.7/site-packages/pandas/tools/plotting.pyc\u001b[0m in \u001b[0;36m_plot\u001b[1;34m(data, x, y, subplots, ax, kind, **kwds)\u001b[0m\n\u001b[0;32m   2439\u001b[0m         \u001b[0mplot_obj\u001b[0m \u001b[1;33m=\u001b[0m \u001b[0mklass\u001b[0m\u001b[1;33m(\u001b[0m\u001b[0mdata\u001b[0m\u001b[1;33m,\u001b[0m \u001b[0msubplots\u001b[0m\u001b[1;33m=\u001b[0m\u001b[0msubplots\u001b[0m\u001b[1;33m,\u001b[0m \u001b[0max\u001b[0m\u001b[1;33m=\u001b[0m\u001b[0max\u001b[0m\u001b[1;33m,\u001b[0m \u001b[0mkind\u001b[0m\u001b[1;33m=\u001b[0m\u001b[0mkind\u001b[0m\u001b[1;33m,\u001b[0m \u001b[1;33m**\u001b[0m\u001b[0mkwds\u001b[0m\u001b[1;33m)\u001b[0m\u001b[1;33m\u001b[0m\u001b[0m\n\u001b[0;32m   2440\u001b[0m \u001b[1;33m\u001b[0m\u001b[0m\n\u001b[1;32m-> 2441\u001b[1;33m     \u001b[0mplot_obj\u001b[0m\u001b[1;33m.\u001b[0m\u001b[0mgenerate\u001b[0m\u001b[1;33m(\u001b[0m\u001b[1;33m)\u001b[0m\u001b[1;33m\u001b[0m\u001b[0m\n\u001b[0m\u001b[0;32m   2442\u001b[0m     \u001b[0mplot_obj\u001b[0m\u001b[1;33m.\u001b[0m\u001b[0mdraw\u001b[0m\u001b[1;33m(\u001b[0m\u001b[1;33m)\u001b[0m\u001b[1;33m\u001b[0m\u001b[0m\n\u001b[0;32m   2443\u001b[0m     \u001b[1;32mreturn\u001b[0m \u001b[0mplot_obj\u001b[0m\u001b[1;33m.\u001b[0m\u001b[0mresult\u001b[0m\u001b[1;33m\u001b[0m\u001b[0m\n",
      "\u001b[1;32m/opt/rh/anaconda/root/lib/python2.7/site-packages/pandas/tools/plotting.pyc\u001b[0m in \u001b[0;36mgenerate\u001b[1;34m(self)\u001b[0m\n\u001b[0;32m   1026\u001b[0m         \u001b[0mself\u001b[0m\u001b[1;33m.\u001b[0m\u001b[0m_compute_plot_data\u001b[0m\u001b[1;33m(\u001b[0m\u001b[1;33m)\u001b[0m\u001b[1;33m\u001b[0m\u001b[0m\n\u001b[0;32m   1027\u001b[0m         \u001b[0mself\u001b[0m\u001b[1;33m.\u001b[0m\u001b[0m_setup_subplots\u001b[0m\u001b[1;33m(\u001b[0m\u001b[1;33m)\u001b[0m\u001b[1;33m\u001b[0m\u001b[0m\n\u001b[1;32m-> 1028\u001b[1;33m         \u001b[0mself\u001b[0m\u001b[1;33m.\u001b[0m\u001b[0m_make_plot\u001b[0m\u001b[1;33m(\u001b[0m\u001b[1;33m)\u001b[0m\u001b[1;33m\u001b[0m\u001b[0m\n\u001b[0m\u001b[0;32m   1029\u001b[0m         \u001b[0mself\u001b[0m\u001b[1;33m.\u001b[0m\u001b[0m_add_table\u001b[0m\u001b[1;33m(\u001b[0m\u001b[1;33m)\u001b[0m\u001b[1;33m\u001b[0m\u001b[0m\n\u001b[0;32m   1030\u001b[0m         \u001b[0mself\u001b[0m\u001b[1;33m.\u001b[0m\u001b[0m_make_legend\u001b[0m\u001b[1;33m(\u001b[0m\u001b[1;33m)\u001b[0m\u001b[1;33m\u001b[0m\u001b[0m\n",
      "\u001b[1;32m/opt/rh/anaconda/root/lib/python2.7/site-packages/pandas/tools/plotting.pyc\u001b[0m in \u001b[0;36m_make_plot\u001b[1;34m(self)\u001b[0m\n\u001b[0;32m   1598\u001b[0m         \u001b[1;32melse\u001b[0m\u001b[1;33m:\u001b[0m\u001b[1;33m\u001b[0m\u001b[0m\n\u001b[0;32m   1599\u001b[0m             \u001b[0mlabel\u001b[0m \u001b[1;33m=\u001b[0m \u001b[0mNone\u001b[0m\u001b[1;33m\u001b[0m\u001b[0m\n\u001b[1;32m-> 1600\u001b[1;33m         scatter = ax.scatter(data[x].values, data[y].values, c=c_values,\n\u001b[0m\u001b[0;32m   1601\u001b[0m                              label=label, cmap=cmap, **self.kwds)\n\u001b[0;32m   1602\u001b[0m         \u001b[1;32mif\u001b[0m \u001b[0mcb\u001b[0m\u001b[1;33m:\u001b[0m\u001b[1;33m\u001b[0m\u001b[0m\n",
      "\u001b[1;32m/opt/rh/anaconda/root/lib/python2.7/site-packages/pandas/core/frame.pyc\u001b[0m in \u001b[0;36m__getitem__\u001b[1;34m(self, key)\u001b[0m\n\u001b[0;32m   1995\u001b[0m             \u001b[1;32mreturn\u001b[0m \u001b[0mself\u001b[0m\u001b[1;33m.\u001b[0m\u001b[0m_getitem_multilevel\u001b[0m\u001b[1;33m(\u001b[0m\u001b[0mkey\u001b[0m\u001b[1;33m)\u001b[0m\u001b[1;33m\u001b[0m\u001b[0m\n\u001b[0;32m   1996\u001b[0m         \u001b[1;32melse\u001b[0m\u001b[1;33m:\u001b[0m\u001b[1;33m\u001b[0m\u001b[0m\n\u001b[1;32m-> 1997\u001b[1;33m             \u001b[1;32mreturn\u001b[0m \u001b[0mself\u001b[0m\u001b[1;33m.\u001b[0m\u001b[0m_getitem_column\u001b[0m\u001b[1;33m(\u001b[0m\u001b[0mkey\u001b[0m\u001b[1;33m)\u001b[0m\u001b[1;33m\u001b[0m\u001b[0m\n\u001b[0m\u001b[0;32m   1998\u001b[0m \u001b[1;33m\u001b[0m\u001b[0m\n\u001b[0;32m   1999\u001b[0m     \u001b[1;32mdef\u001b[0m \u001b[0m_getitem_column\u001b[0m\u001b[1;33m(\u001b[0m\u001b[0mself\u001b[0m\u001b[1;33m,\u001b[0m \u001b[0mkey\u001b[0m\u001b[1;33m)\u001b[0m\u001b[1;33m:\u001b[0m\u001b[1;33m\u001b[0m\u001b[0m\n",
      "\u001b[1;32m/opt/rh/anaconda/root/lib/python2.7/site-packages/pandas/core/frame.pyc\u001b[0m in \u001b[0;36m_getitem_column\u001b[1;34m(self, key)\u001b[0m\n\u001b[0;32m   2002\u001b[0m         \u001b[1;31m# get column\u001b[0m\u001b[1;33m\u001b[0m\u001b[1;33m\u001b[0m\u001b[0m\n\u001b[0;32m   2003\u001b[0m         \u001b[1;32mif\u001b[0m \u001b[0mself\u001b[0m\u001b[1;33m.\u001b[0m\u001b[0mcolumns\u001b[0m\u001b[1;33m.\u001b[0m\u001b[0mis_unique\u001b[0m\u001b[1;33m:\u001b[0m\u001b[1;33m\u001b[0m\u001b[0m\n\u001b[1;32m-> 2004\u001b[1;33m             \u001b[1;32mreturn\u001b[0m \u001b[0mself\u001b[0m\u001b[1;33m.\u001b[0m\u001b[0m_get_item_cache\u001b[0m\u001b[1;33m(\u001b[0m\u001b[0mkey\u001b[0m\u001b[1;33m)\u001b[0m\u001b[1;33m\u001b[0m\u001b[0m\n\u001b[0m\u001b[0;32m   2005\u001b[0m \u001b[1;33m\u001b[0m\u001b[0m\n\u001b[0;32m   2006\u001b[0m         \u001b[1;31m# duplicate columns & possible reduce dimensionality\u001b[0m\u001b[1;33m\u001b[0m\u001b[1;33m\u001b[0m\u001b[0m\n",
      "\u001b[1;32m/opt/rh/anaconda/root/lib/python2.7/site-packages/pandas/core/generic.pyc\u001b[0m in \u001b[0;36m_get_item_cache\u001b[1;34m(self, item)\u001b[0m\n\u001b[0;32m   1348\u001b[0m         \u001b[0mres\u001b[0m \u001b[1;33m=\u001b[0m \u001b[0mcache\u001b[0m\u001b[1;33m.\u001b[0m\u001b[0mget\u001b[0m\u001b[1;33m(\u001b[0m\u001b[0mitem\u001b[0m\u001b[1;33m)\u001b[0m\u001b[1;33m\u001b[0m\u001b[0m\n\u001b[0;32m   1349\u001b[0m         \u001b[1;32mif\u001b[0m \u001b[0mres\u001b[0m \u001b[1;32mis\u001b[0m \u001b[0mNone\u001b[0m\u001b[1;33m:\u001b[0m\u001b[1;33m\u001b[0m\u001b[0m\n\u001b[1;32m-> 1350\u001b[1;33m             \u001b[0mvalues\u001b[0m \u001b[1;33m=\u001b[0m \u001b[0mself\u001b[0m\u001b[1;33m.\u001b[0m\u001b[0m_data\u001b[0m\u001b[1;33m.\u001b[0m\u001b[0mget\u001b[0m\u001b[1;33m(\u001b[0m\u001b[0mitem\u001b[0m\u001b[1;33m)\u001b[0m\u001b[1;33m\u001b[0m\u001b[0m\n\u001b[0m\u001b[0;32m   1351\u001b[0m             \u001b[0mres\u001b[0m \u001b[1;33m=\u001b[0m \u001b[0mself\u001b[0m\u001b[1;33m.\u001b[0m\u001b[0m_box_item_values\u001b[0m\u001b[1;33m(\u001b[0m\u001b[0mitem\u001b[0m\u001b[1;33m,\u001b[0m \u001b[0mvalues\u001b[0m\u001b[1;33m)\u001b[0m\u001b[1;33m\u001b[0m\u001b[0m\n\u001b[0;32m   1352\u001b[0m             \u001b[0mcache\u001b[0m\u001b[1;33m[\u001b[0m\u001b[0mitem\u001b[0m\u001b[1;33m]\u001b[0m \u001b[1;33m=\u001b[0m \u001b[0mres\u001b[0m\u001b[1;33m\u001b[0m\u001b[0m\n",
      "\u001b[1;32m/opt/rh/anaconda/root/lib/python2.7/site-packages/pandas/core/internals.pyc\u001b[0m in \u001b[0;36mget\u001b[1;34m(self, item, fastpath)\u001b[0m\n\u001b[0;32m   3288\u001b[0m \u001b[1;33m\u001b[0m\u001b[0m\n\u001b[0;32m   3289\u001b[0m             \u001b[1;32mif\u001b[0m \u001b[1;32mnot\u001b[0m \u001b[0misnull\u001b[0m\u001b[1;33m(\u001b[0m\u001b[0mitem\u001b[0m\u001b[1;33m)\u001b[0m\u001b[1;33m:\u001b[0m\u001b[1;33m\u001b[0m\u001b[0m\n\u001b[1;32m-> 3290\u001b[1;33m                 \u001b[0mloc\u001b[0m \u001b[1;33m=\u001b[0m \u001b[0mself\u001b[0m\u001b[1;33m.\u001b[0m\u001b[0mitems\u001b[0m\u001b[1;33m.\u001b[0m\u001b[0mget_loc\u001b[0m\u001b[1;33m(\u001b[0m\u001b[0mitem\u001b[0m\u001b[1;33m)\u001b[0m\u001b[1;33m\u001b[0m\u001b[0m\n\u001b[0m\u001b[0;32m   3291\u001b[0m             \u001b[1;32melse\u001b[0m\u001b[1;33m:\u001b[0m\u001b[1;33m\u001b[0m\u001b[0m\n\u001b[0;32m   3292\u001b[0m                 \u001b[0mindexer\u001b[0m \u001b[1;33m=\u001b[0m \u001b[0mnp\u001b[0m\u001b[1;33m.\u001b[0m\u001b[0marange\u001b[0m\u001b[1;33m(\u001b[0m\u001b[0mlen\u001b[0m\u001b[1;33m(\u001b[0m\u001b[0mself\u001b[0m\u001b[1;33m.\u001b[0m\u001b[0mitems\u001b[0m\u001b[1;33m)\u001b[0m\u001b[1;33m)\u001b[0m\u001b[1;33m[\u001b[0m\u001b[0misnull\u001b[0m\u001b[1;33m(\u001b[0m\u001b[0mself\u001b[0m\u001b[1;33m.\u001b[0m\u001b[0mitems\u001b[0m\u001b[1;33m)\u001b[0m\u001b[1;33m]\u001b[0m\u001b[1;33m\u001b[0m\u001b[0m\n",
      "\u001b[1;32m/opt/rh/anaconda/root/lib/python2.7/site-packages/pandas/indexes/base.pyc\u001b[0m in \u001b[0;36mget_loc\u001b[1;34m(self, key, method, tolerance)\u001b[0m\n\u001b[0;32m   1945\u001b[0m                 \u001b[1;32mreturn\u001b[0m \u001b[0mself\u001b[0m\u001b[1;33m.\u001b[0m\u001b[0m_engine\u001b[0m\u001b[1;33m.\u001b[0m\u001b[0mget_loc\u001b[0m\u001b[1;33m(\u001b[0m\u001b[0mkey\u001b[0m\u001b[1;33m)\u001b[0m\u001b[1;33m\u001b[0m\u001b[0m\n\u001b[0;32m   1946\u001b[0m             \u001b[1;32mexcept\u001b[0m \u001b[0mKeyError\u001b[0m\u001b[1;33m:\u001b[0m\u001b[1;33m\u001b[0m\u001b[0m\n\u001b[1;32m-> 1947\u001b[1;33m                 \u001b[1;32mreturn\u001b[0m \u001b[0mself\u001b[0m\u001b[1;33m.\u001b[0m\u001b[0m_engine\u001b[0m\u001b[1;33m.\u001b[0m\u001b[0mget_loc\u001b[0m\u001b[1;33m(\u001b[0m\u001b[0mself\u001b[0m\u001b[1;33m.\u001b[0m\u001b[0m_maybe_cast_indexer\u001b[0m\u001b[1;33m(\u001b[0m\u001b[0mkey\u001b[0m\u001b[1;33m)\u001b[0m\u001b[1;33m)\u001b[0m\u001b[1;33m\u001b[0m\u001b[0m\n\u001b[0m\u001b[0;32m   1948\u001b[0m \u001b[1;33m\u001b[0m\u001b[0m\n\u001b[0;32m   1949\u001b[0m         \u001b[0mindexer\u001b[0m \u001b[1;33m=\u001b[0m \u001b[0mself\u001b[0m\u001b[1;33m.\u001b[0m\u001b[0mget_indexer\u001b[0m\u001b[1;33m(\u001b[0m\u001b[1;33m[\u001b[0m\u001b[0mkey\u001b[0m\u001b[1;33m]\u001b[0m\u001b[1;33m,\u001b[0m \u001b[0mmethod\u001b[0m\u001b[1;33m=\u001b[0m\u001b[0mmethod\u001b[0m\u001b[1;33m,\u001b[0m \u001b[0mtolerance\u001b[0m\u001b[1;33m=\u001b[0m\u001b[0mtolerance\u001b[0m\u001b[1;33m)\u001b[0m\u001b[1;33m\u001b[0m\u001b[0m\n",
      "\u001b[1;32mpandas/index.pyx\u001b[0m in \u001b[0;36mpandas.index.IndexEngine.get_loc (pandas/index.c:4154)\u001b[1;34m()\u001b[0m\n",
      "\u001b[1;32mpandas/index.pyx\u001b[0m in \u001b[0;36mpandas.index.IndexEngine.get_loc (pandas/index.c:4018)\u001b[1;34m()\u001b[0m\n",
      "\u001b[1;32mpandas/hashtable.pyx\u001b[0m in \u001b[0;36mpandas.hashtable.PyObjectHashTable.get_item (pandas/hashtable.c:12368)\u001b[1;34m()\u001b[0m\n",
      "\u001b[1;32mpandas/hashtable.pyx\u001b[0m in \u001b[0;36mpandas.hashtable.PyObjectHashTable.get_item (pandas/hashtable.c:12322)\u001b[1;34m()\u001b[0m\n",
      "\u001b[1;31mKeyError\u001b[0m: ''"
     ]
    },
    {
     "data": {
      "image/png": "[encoded data removed]",
      "text/plain": [
       "<matplotlib.figure.Figure at 0x7f6a2d63bb90>"
      ]
     },
     "metadata": {},
     "output_type": "display_data"
    }
   ],
   "source": [
    "data.plot(x='', y = 'trumpp', kind='scatter')"
   ]
  },
  {
   "cell_type": "code",
   "execution_count": 91,
   "metadata": {
    "collapsed": false
   },
   "outputs": [
    {
     "data": {
      "text/plain": [
       "<matplotlib.axes._subplots.AxesSubplot at 0x7f6a2d49db10>"
      ]
     },
     "execution_count": 91,
     "metadata": {},
     "output_type": "execute_result"
    },
    {
     "data": {
      "image/png": "[encoded data removed]",
      "text/plain": [
       "<matplotlib.figure.Figure at 0x7f6a2d4a4d50>"
      ]
     },
     "metadata": {},
     "output_type": "display_data"
    }
   ],
   "source": [
    "data.plot(x='Density', y = 'trumpp', kind='scatter', logx=True)"
   ]
  },
  {
   "cell_type": "code",
   "execution_count": 97,
   "metadata": {
    "collapsed": true
   },
   "outputs": [],
   "source": [
    "data.plot?"
   ]
  },
  {
   "cell_type": "code",
   "execution_count": null,
   "metadata": {
    "collapsed": true
   },
   "outputs": [],
   "source": [
    "#random forest skitlearn package - what are the most predictive variables "
   ]
  }
 ],
 "metadata": {
  "kernelspec": {
   "display_name": "Python 2",
   "language": "python",
   "name": "python2"
  },
  "language_info": {
   "codemirror_mode": {
    "name": "ipython",
    "version": 2
   },
   "file_extension": ".py",
   "mimetype": "text/x-python",
   "name": "python",
   "nbconvert_exporter": "python",
   "pygments_lexer": "ipython2",
   "version": "2.7.11"
  }
 },
 "nbformat": 4,
 "nbformat_minor": 0
}
