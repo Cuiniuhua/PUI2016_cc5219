{
 "cells": [
  {
   "cell_type": "markdown",
   "metadata": {
    "collapsed": false
   },
   "source": [
    "# HW 10 CLUSTERING BUSINESS"
   ]
  },
  {
   "cell_type": "markdown",
   "metadata": {
    "collapsed": false
   },
   "source": [
    "# cluster time trends in NYC businesses: \n",
    "# DATA\n",
    "# Census Business data:\n",
    "## download census data for businesses by ZIP code. the data is here\n",
    "http://www.census.gov/econ/cbp/download/\n",
    "##  you can  download it with 3 terminal commands as follows: the data from 1993 through 2001 is different in the format of its path than the data after 2001 (that is why more than one for loop is needed)\n",
    "\n"
   ]
  },
  {
   "cell_type": "markdown",
   "metadata": {},
   "source": [
    "NOTES: \n",
    "to read in a zip file without unzipping it you can use the pandas and zipfile packages"
   ]
  },
  {
   "cell_type": "code",
   "execution_count": 1,
   "metadata": {
    "collapsed": true
   },
   "outputs": [],
   "source": [
    "import pandas as pd\n",
    "import geopandas as  gpd\n",
    "import os\n",
    "import zipfile #i am not giving it a name cause i intend to use it only once\n",
    "import numpy as np\n",
    "from sklearn.cluster import KMeans\n",
    "from scipy.spatial.distance import cdist, pdist\n",
    "from scipy.cluster.hierarchy import dendrogram, linkage\n",
    "import matplotlib.pyplot as plt\n",
    "\n",
    "%matplotlib inline"
   ]
  },
  {
   "cell_type": "markdown",
   "metadata": {},
   "source": [
    "### 1.get and prepare data\n",
    "Geojason data is in my folder PUIdata/Census Business data, called 'nyc-zip-code-tabulation-areas-polygons.geojson'\n",
    "\n",
    "Census data is in my folder PUIdata/Census Business data, called 'zbpXXtotals.zip' (XX = 94 ~ 15)\n",
    "\n"
   ]
  },
  {
   "cell_type": "code",
   "execution_count": 2,
   "metadata": {
    "collapsed": false
   },
   "outputs": [
    {
     "data": {
      "text/plain": [
       "'/home/cusp/cc5219/PUIdata/Census Business data/'"
      ]
     },
     "execution_count": 2,
     "metadata": {},
     "output_type": "execute_result"
    }
   ],
   "source": [
    "path = os.getenv(\"PUIDATA\")+ '/Census Business data/'\n",
    "path"
   ]
  },
  {
   "cell_type": "code",
   "execution_count": 12,
   "metadata": {
    "collapsed": false
   },
   "outputs": [],
   "source": [
    "#geo data\n",
    "geonyc = gpd.read_file(path + \"nyc-zip-code-tabulation-areas-polygons.geojson\")\n"
   ]
  },
  {
   "cell_type": "code",
   "execution_count": 13,
   "metadata": {
    "collapsed": false
   },
   "outputs": [
    {
     "data": {
      "text/html": [
       "<div>\n",
       "<table border=\"1\" class=\"dataframe\">\n",
       "  <thead>\n",
       "    <tr style=\"text-align: right;\">\n",
       "      <th></th>\n",
       "      <th>@id</th>\n",
       "      <th>BLDGpostalCode</th>\n",
       "      <th>CTY_FIPS</th>\n",
       "      <th>OBJECTID</th>\n",
       "      <th>PO_NAME</th>\n",
       "      <th>STATE</th>\n",
       "      <th>ST_FIPS</th>\n",
       "      <th>Shape_Area</th>\n",
       "      <th>Shape_Leng</th>\n",
       "      <th>borough</th>\n",
       "      <th>geometry</th>\n",
       "      <th>postalCode</th>\n",
       "    </tr>\n",
       "  </thead>\n",
       "  <tbody>\n",
       "    <tr>\n",
       "      <th>0</th>\n",
       "      <td>http://nyc.pediacities.com/Resource/PostalCode...</td>\n",
       "      <td>0</td>\n",
       "      <td>081</td>\n",
       "      <td>1</td>\n",
       "      <td>Jackson Heights</td>\n",
       "      <td>NY</td>\n",
       "      <td>36</td>\n",
       "      <td>2.016328e+07</td>\n",
       "      <td>20624.692317</td>\n",
       "      <td>Queens</td>\n",
       "      <td>POLYGON ((-73.86942457284175 40.74915687096787...</td>\n",
       "      <td>11372</td>\n",
       "    </tr>\n",
       "    <tr>\n",
       "      <th>1</th>\n",
       "      <td>http://nyc.pediacities.com/Resource/PostalCode...</td>\n",
       "      <td>0</td>\n",
       "      <td>081</td>\n",
       "      <td>2</td>\n",
       "      <td>Glen Oaks</td>\n",
       "      <td>NY</td>\n",
       "      <td>36</td>\n",
       "      <td>2.260653e+07</td>\n",
       "      <td>23002.816039</td>\n",
       "      <td>Queens</td>\n",
       "      <td>POLYGON ((-73.71068374074007 40.75004039450917...</td>\n",
       "      <td>11004</td>\n",
       "    </tr>\n",
       "    <tr>\n",
       "      <th>2</th>\n",
       "      <td>http://nyc.pediacities.com/Resource/PostalCode...</td>\n",
       "      <td>0</td>\n",
       "      <td>081</td>\n",
       "      <td>3</td>\n",
       "      <td>New Hyde Park</td>\n",
       "      <td>NY</td>\n",
       "      <td>36</td>\n",
       "      <td>6.269333e+06</td>\n",
       "      <td>15749.161511</td>\n",
       "      <td>Queens</td>\n",
       "      <td>POLYGON ((-73.70098278625547 40.73889569923034...</td>\n",
       "      <td>11040</td>\n",
       "    </tr>\n",
       "    <tr>\n",
       "      <th>3</th>\n",
       "      <td>http://nyc.pediacities.com/Resource/PostalCode...</td>\n",
       "      <td>0</td>\n",
       "      <td>081</td>\n",
       "      <td>4</td>\n",
       "      <td>Bellerose</td>\n",
       "      <td>NY</td>\n",
       "      <td>36</td>\n",
       "      <td>4.941836e+07</td>\n",
       "      <td>35932.810639</td>\n",
       "      <td>Queens</td>\n",
       "      <td>POLYGON ((-73.72270447144122 40.75373371438336...</td>\n",
       "      <td>11426</td>\n",
       "    </tr>\n",
       "    <tr>\n",
       "      <th>4</th>\n",
       "      <td>http://nyc.pediacities.com/Resource/PostalCode...</td>\n",
       "      <td>0</td>\n",
       "      <td>081</td>\n",
       "      <td>5</td>\n",
       "      <td>Fresh Meadows</td>\n",
       "      <td>NY</td>\n",
       "      <td>36</td>\n",
       "      <td>6.938587e+07</td>\n",
       "      <td>38693.565676</td>\n",
       "      <td>Queens</td>\n",
       "      <td>POLYGON ((-73.81088634744755 40.72717187575918...</td>\n",
       "      <td>11365</td>\n",
       "    </tr>\n",
       "  </tbody>\n",
       "</table>\n",
       "</div>"
      ],
      "text/plain": [
       "                                                 @id  BLDGpostalCode CTY_FIPS  \\\n",
       "0  http://nyc.pediacities.com/Resource/PostalCode...               0      081   \n",
       "1  http://nyc.pediacities.com/Resource/PostalCode...               0      081   \n",
       "2  http://nyc.pediacities.com/Resource/PostalCode...               0      081   \n",
       "3  http://nyc.pediacities.com/Resource/PostalCode...               0      081   \n",
       "4  http://nyc.pediacities.com/Resource/PostalCode...               0      081   \n",
       "\n",
       "   OBJECTID          PO_NAME STATE ST_FIPS    Shape_Area    Shape_Leng  \\\n",
       "0         1  Jackson Heights    NY      36  2.016328e+07  20624.692317   \n",
       "1         2        Glen Oaks    NY      36  2.260653e+07  23002.816039   \n",
       "2         3    New Hyde Park    NY      36  6.269333e+06  15749.161511   \n",
       "3         4        Bellerose    NY      36  4.941836e+07  35932.810639   \n",
       "4         5    Fresh Meadows    NY      36  6.938587e+07  38693.565676   \n",
       "\n",
       "  borough                                           geometry postalCode  \n",
       "0  Queens  POLYGON ((-73.86942457284175 40.74915687096787...      11372  \n",
       "1  Queens  POLYGON ((-73.71068374074007 40.75004039450917...      11004  \n",
       "2  Queens  POLYGON ((-73.70098278625547 40.73889569923034...      11040  \n",
       "3  Queens  POLYGON ((-73.72270447144122 40.75373371438336...      11426  \n",
       "4  Queens  POLYGON ((-73.81088634744755 40.72717187575918...      11365  "
      ]
     },
     "execution_count": 13,
     "metadata": {},
     "output_type": "execute_result"
    }
   ],
   "source": [
    "geonyc.head()"
   ]
  },
  {
   "cell_type": "code",
   "execution_count": 14,
   "metadata": {
    "collapsed": false
   },
   "outputs": [],
   "source": [
    "zipcodes = []\n",
    "for i in range(len(geonyc)):\n",
    "    zipcode = geonyc.ix[i]['postalCode']\n",
    "    zipcodes.append(int(zipcode))"
   ]
  },
  {
   "cell_type": "code",
   "execution_count": 15,
   "metadata": {
    "collapsed": true
   },
   "outputs": [],
   "source": [
    "#change colum name and delet what we dont need\n",
    "geonyc = geonyc.rename(columns={'postalCode': \"zip\"})\n",
    "geonyc = geonyc.loc[:,['zip', 'geometry',]]"
   ]
  },
  {
   "cell_type": "code",
   "execution_count": 16,
   "metadata": {
    "collapsed": false
   },
   "outputs": [
    {
     "data": {
      "text/html": [
       "<div>\n",
       "<table border=\"1\" class=\"dataframe\">\n",
       "  <thead>\n",
       "    <tr style=\"text-align: right;\">\n",
       "      <th></th>\n",
       "      <th>zip</th>\n",
       "      <th>geometry</th>\n",
       "    </tr>\n",
       "  </thead>\n",
       "  <tbody>\n",
       "    <tr>\n",
       "      <th>0</th>\n",
       "      <td>11372</td>\n",
       "      <td>POLYGON ((-73.86942457284175 40.74915687096787...</td>\n",
       "    </tr>\n",
       "    <tr>\n",
       "      <th>1</th>\n",
       "      <td>11004</td>\n",
       "      <td>POLYGON ((-73.71068374074007 40.75004039450917...</td>\n",
       "    </tr>\n",
       "    <tr>\n",
       "      <th>2</th>\n",
       "      <td>11040</td>\n",
       "      <td>POLYGON ((-73.70098278625547 40.73889569923034...</td>\n",
       "    </tr>\n",
       "    <tr>\n",
       "      <th>3</th>\n",
       "      <td>11426</td>\n",
       "      <td>POLYGON ((-73.72270447144122 40.75373371438336...</td>\n",
       "    </tr>\n",
       "    <tr>\n",
       "      <th>4</th>\n",
       "      <td>11365</td>\n",
       "      <td>POLYGON ((-73.81088634744755 40.72717187575918...</td>\n",
       "    </tr>\n",
       "  </tbody>\n",
       "</table>\n",
       "</div>"
      ],
      "text/plain": [
       "     zip                                           geometry\n",
       "0  11372  POLYGON ((-73.86942457284175 40.74915687096787...\n",
       "1  11004  POLYGON ((-73.71068374074007 40.75004039450917...\n",
       "2  11040  POLYGON ((-73.70098278625547 40.73889569923034...\n",
       "3  11426  POLYGON ((-73.72270447144122 40.75373371438336...\n",
       "4  11365  POLYGON ((-73.81088634744755 40.72717187575918..."
      ]
     },
     "execution_count": 16,
     "metadata": {},
     "output_type": "execute_result"
    }
   ],
   "source": [
    "geonyc.head()"
   ]
  },
  {
   "cell_type": "code",
   "execution_count": 17,
   "metadata": {
    "collapsed": false
   },
   "outputs": [],
   "source": [
    "#cbd data\n",
    "cbd = pd.DataFrame()\n",
    "for yr in range(1994,2015):\n",
    "    year = str(yr)[2:4]\n",
    "    fname = 'zbp' + year + 'totals.zip'\n",
    "    zf = zipfile.ZipFile(path + fname)\n",
    "    df = pd.read_csv(zf.open(fname.replace('.zip','.txt')))\n",
    "    df['year'] = year\n",
    "    temp = df.loc[:,['zip','year','est']]\n",
    "    cbd = pd.concat([cbd, temp], axis=0)"
   ]
  },
  {
   "cell_type": "code",
   "execution_count": 18,
   "metadata": {
    "collapsed": false
   },
   "outputs": [
    {
     "data": {
      "text/html": [
       "<div>\n",
       "<table border=\"1\" class=\"dataframe\">\n",
       "  <thead>\n",
       "    <tr style=\"text-align: right;\">\n",
       "      <th></th>\n",
       "      <th>zip</th>\n",
       "      <th>year</th>\n",
       "      <th>est</th>\n",
       "    </tr>\n",
       "  </thead>\n",
       "  <tbody>\n",
       "    <tr>\n",
       "      <th>0</th>\n",
       "      <td>1001.0</td>\n",
       "      <td>94</td>\n",
       "      <td>439.0</td>\n",
       "    </tr>\n",
       "    <tr>\n",
       "      <th>1</th>\n",
       "      <td>1002.0</td>\n",
       "      <td>94</td>\n",
       "      <td>450.0</td>\n",
       "    </tr>\n",
       "    <tr>\n",
       "      <th>2</th>\n",
       "      <td>1003.0</td>\n",
       "      <td>94</td>\n",
       "      <td>10.0</td>\n",
       "    </tr>\n",
       "    <tr>\n",
       "      <th>3</th>\n",
       "      <td>1004.0</td>\n",
       "      <td>94</td>\n",
       "      <td>47.0</td>\n",
       "    </tr>\n",
       "    <tr>\n",
       "      <th>4</th>\n",
       "      <td>1005.0</td>\n",
       "      <td>94</td>\n",
       "      <td>92.0</td>\n",
       "    </tr>\n",
       "  </tbody>\n",
       "</table>\n",
       "</div>"
      ],
      "text/plain": [
       "      zip year    est\n",
       "0  1001.0   94  439.0\n",
       "1  1002.0   94  450.0\n",
       "2  1003.0   94   10.0\n",
       "3  1004.0   94   47.0\n",
       "4  1005.0   94   92.0"
      ]
     },
     "execution_count": 18,
     "metadata": {},
     "output_type": "execute_result"
    }
   ],
   "source": [
    "cbd.head()"
   ]
  },
  {
   "cell_type": "code",
   "execution_count": 19,
   "metadata": {
    "collapsed": false
   },
   "outputs": [
    {
     "data": {
      "text/html": [
       "<div>\n",
       "<table border=\"1\" class=\"dataframe\">\n",
       "  <thead>\n",
       "    <tr style=\"text-align: right;\">\n",
       "      <th></th>\n",
       "      <th>zip</th>\n",
       "      <th>year</th>\n",
       "      <th>est</th>\n",
       "    </tr>\n",
       "    <tr>\n",
       "      <th>zip</th>\n",
       "      <th></th>\n",
       "      <th></th>\n",
       "      <th></th>\n",
       "    </tr>\n",
       "  </thead>\n",
       "  <tbody>\n",
       "    <tr>\n",
       "      <th>1001.0</th>\n",
       "      <td>1001.0</td>\n",
       "      <td>94</td>\n",
       "      <td>439.0</td>\n",
       "    </tr>\n",
       "    <tr>\n",
       "      <th>1002.0</th>\n",
       "      <td>1002.0</td>\n",
       "      <td>94</td>\n",
       "      <td>450.0</td>\n",
       "    </tr>\n",
       "    <tr>\n",
       "      <th>1003.0</th>\n",
       "      <td>1003.0</td>\n",
       "      <td>94</td>\n",
       "      <td>10.0</td>\n",
       "    </tr>\n",
       "    <tr>\n",
       "      <th>1004.0</th>\n",
       "      <td>1004.0</td>\n",
       "      <td>94</td>\n",
       "      <td>47.0</td>\n",
       "    </tr>\n",
       "    <tr>\n",
       "      <th>1005.0</th>\n",
       "      <td>1005.0</td>\n",
       "      <td>94</td>\n",
       "      <td>92.0</td>\n",
       "    </tr>\n",
       "  </tbody>\n",
       "</table>\n",
       "</div>"
      ],
      "text/plain": [
       "           zip  year    est\n",
       "zip                        \n",
       "1001.0  1001.0    94  439.0\n",
       "1002.0  1002.0    94  450.0\n",
       "1003.0  1003.0    94   10.0\n",
       "1004.0  1004.0    94   47.0\n",
       "1005.0  1005.0    94   92.0"
      ]
     },
     "execution_count": 19,
     "metadata": {},
     "output_type": "execute_result"
    }
   ],
   "source": [
    "cbd['zip'] = pd.to_numeric(cbd.zip).values\n",
    "cbd['year'] = pd.to_numeric(cbd.year).values\n",
    "cbd.index = cbd.zip\n",
    "cbd.head()"
   ]
  },
  {
   "cell_type": "code",
   "execution_count": 26,
   "metadata": {
    "collapsed": false
   },
   "outputs": [
    {
     "data": {
      "text/html": [
       "<div>\n",
       "<table border=\"1\" class=\"dataframe\">\n",
       "  <thead>\n",
       "    <tr style=\"text-align: right;\">\n",
       "      <th></th>\n",
       "      <th>zip</th>\n",
       "      <th>year</th>\n",
       "      <th>est</th>\n",
       "    </tr>\n",
       "  </thead>\n",
       "  <tbody>\n",
       "    <tr>\n",
       "      <th>0</th>\n",
       "      <td>11372.0</td>\n",
       "      <td>94.0</td>\n",
       "      <td>1229.0</td>\n",
       "    </tr>\n",
       "    <tr>\n",
       "      <th>1</th>\n",
       "      <td>11372.0</td>\n",
       "      <td>95.0</td>\n",
       "      <td>1236.0</td>\n",
       "    </tr>\n",
       "    <tr>\n",
       "      <th>2</th>\n",
       "      <td>11372.0</td>\n",
       "      <td>96.0</td>\n",
       "      <td>1292.0</td>\n",
       "    </tr>\n",
       "    <tr>\n",
       "      <th>3</th>\n",
       "      <td>11372.0</td>\n",
       "      <td>97.0</td>\n",
       "      <td>1309.0</td>\n",
       "    </tr>\n",
       "    <tr>\n",
       "      <th>4</th>\n",
       "      <td>11372.0</td>\n",
       "      <td>3.0</td>\n",
       "      <td>1521.0</td>\n",
       "    </tr>\n",
       "  </tbody>\n",
       "</table>\n",
       "</div>"
      ],
      "text/plain": [
       "       zip  year     est\n",
       "0  11372.0  94.0  1229.0\n",
       "1  11372.0  95.0  1236.0\n",
       "2  11372.0  96.0  1292.0\n",
       "3  11372.0  97.0  1309.0\n",
       "4  11372.0   3.0  1521.0"
      ]
     },
     "execution_count": 26,
     "metadata": {},
     "output_type": "execute_result"
    }
   ],
   "source": [
    "cbddrop = cbd.ix[zipcodes].dropna(how='any')\n",
    "\n",
    "cbddrop.reset_index(drop=True, inplace=True)\n",
    "cbddrop.head()"
   ]
  },
  {
   "cell_type": "markdown",
   "metadata": {},
   "source": [
    "### 2. merge data"
   ]
  },
  {
   "cell_type": "code",
   "execution_count": 27,
   "metadata": {
    "collapsed": false
   },
   "outputs": [
    {
     "data": {
      "text/html": [
       "<div>\n",
       "<table border=\"1\" class=\"dataframe\">\n",
       "  <thead>\n",
       "    <tr style=\"text-align: right;\">\n",
       "      <th>year</th>\n",
       "      <th>3</th>\n",
       "      <th>4</th>\n",
       "      <th>5</th>\n",
       "      <th>6</th>\n",
       "      <th>7</th>\n",
       "      <th>8</th>\n",
       "      <th>9</th>\n",
       "      <th>10</th>\n",
       "      <th>11</th>\n",
       "      <th>12</th>\n",
       "      <th>13</th>\n",
       "      <th>14</th>\n",
       "      <th>94</th>\n",
       "      <th>95</th>\n",
       "      <th>96</th>\n",
       "      <th>97</th>\n",
       "    </tr>\n",
       "    <tr>\n",
       "      <th>zip</th>\n",
       "      <th></th>\n",
       "      <th></th>\n",
       "      <th></th>\n",
       "      <th></th>\n",
       "      <th></th>\n",
       "      <th></th>\n",
       "      <th></th>\n",
       "      <th></th>\n",
       "      <th></th>\n",
       "      <th></th>\n",
       "      <th></th>\n",
       "      <th></th>\n",
       "      <th></th>\n",
       "      <th></th>\n",
       "      <th></th>\n",
       "      <th></th>\n",
       "    </tr>\n",
       "  </thead>\n",
       "  <tbody>\n",
       "    <tr>\n",
       "      <th>501.0</th>\n",
       "      <td>7.0</td>\n",
       "      <td>8.0</td>\n",
       "      <td>2.0</td>\n",
       "      <td>8.0</td>\n",
       "      <td>5.0</td>\n",
       "      <td>3.0</td>\n",
       "      <td>2.0</td>\n",
       "      <td>2.0</td>\n",
       "      <td>2.0</td>\n",
       "      <td>2.0</td>\n",
       "      <td>2.0</td>\n",
       "      <td>4.0</td>\n",
       "      <td>NaN</td>\n",
       "      <td>2.0</td>\n",
       "      <td>4.0</td>\n",
       "      <td>4.0</td>\n",
       "    </tr>\n",
       "    <tr>\n",
       "      <th>1000.0</th>\n",
       "      <td>NaN</td>\n",
       "      <td>NaN</td>\n",
       "      <td>NaN</td>\n",
       "      <td>NaN</td>\n",
       "      <td>NaN</td>\n",
       "      <td>NaN</td>\n",
       "      <td>NaN</td>\n",
       "      <td>NaN</td>\n",
       "      <td>NaN</td>\n",
       "      <td>NaN</td>\n",
       "      <td>NaN</td>\n",
       "      <td>NaN</td>\n",
       "      <td>NaN</td>\n",
       "      <td>4.0</td>\n",
       "      <td>11.0</td>\n",
       "      <td>8.0</td>\n",
       "    </tr>\n",
       "    <tr>\n",
       "      <th>1001.0</th>\n",
       "      <td>505.0</td>\n",
       "      <td>500.0</td>\n",
       "      <td>509.0</td>\n",
       "      <td>509.0</td>\n",
       "      <td>503.0</td>\n",
       "      <td>477.0</td>\n",
       "      <td>458.0</td>\n",
       "      <td>448.0</td>\n",
       "      <td>436.0</td>\n",
       "      <td>453.0</td>\n",
       "      <td>439.0</td>\n",
       "      <td>458.0</td>\n",
       "      <td>439.0</td>\n",
       "      <td>439.0</td>\n",
       "      <td>433.0</td>\n",
       "      <td>457.0</td>\n",
       "    </tr>\n",
       "    <tr>\n",
       "      <th>1002.0</th>\n",
       "      <td>586.0</td>\n",
       "      <td>584.0</td>\n",
       "      <td>589.0</td>\n",
       "      <td>582.0</td>\n",
       "      <td>596.0</td>\n",
       "      <td>584.0</td>\n",
       "      <td>571.0</td>\n",
       "      <td>570.0</td>\n",
       "      <td>558.0</td>\n",
       "      <td>572.0</td>\n",
       "      <td>572.0</td>\n",
       "      <td>560.0</td>\n",
       "      <td>450.0</td>\n",
       "      <td>467.0</td>\n",
       "      <td>487.0</td>\n",
       "      <td>500.0</td>\n",
       "    </tr>\n",
       "    <tr>\n",
       "      <th>1003.0</th>\n",
       "      <td>16.0</td>\n",
       "      <td>15.0</td>\n",
       "      <td>12.0</td>\n",
       "      <td>12.0</td>\n",
       "      <td>16.0</td>\n",
       "      <td>17.0</td>\n",
       "      <td>16.0</td>\n",
       "      <td>16.0</td>\n",
       "      <td>16.0</td>\n",
       "      <td>15.0</td>\n",
       "      <td>15.0</td>\n",
       "      <td>18.0</td>\n",
       "      <td>10.0</td>\n",
       "      <td>10.0</td>\n",
       "      <td>13.0</td>\n",
       "      <td>15.0</td>\n",
       "    </tr>\n",
       "  </tbody>\n",
       "</table>\n",
       "</div>"
      ],
      "text/plain": [
       "year       3      4      5      6      7      8      9      10     11     12  \\\n",
       "zip                                                                            \n",
       "501.0     7.0    8.0    2.0    8.0    5.0    3.0    2.0    2.0    2.0    2.0   \n",
       "1000.0    NaN    NaN    NaN    NaN    NaN    NaN    NaN    NaN    NaN    NaN   \n",
       "1001.0  505.0  500.0  509.0  509.0  503.0  477.0  458.0  448.0  436.0  453.0   \n",
       "1002.0  586.0  584.0  589.0  582.0  596.0  584.0  571.0  570.0  558.0  572.0   \n",
       "1003.0   16.0   15.0   12.0   12.0   16.0   17.0   16.0   16.0   16.0   15.0   \n",
       "\n",
       "year       13     14     94     95     96     97  \n",
       "zip                                               \n",
       "501.0     2.0    4.0    NaN    2.0    4.0    4.0  \n",
       "1000.0    NaN    NaN    NaN    4.0   11.0    8.0  \n",
       "1001.0  439.0  458.0  439.0  439.0  433.0  457.0  \n",
       "1002.0  572.0  560.0  450.0  467.0  487.0  500.0  \n",
       "1003.0   15.0   18.0   10.0   10.0   13.0   15.0  "
      ]
     },
     "execution_count": 27,
     "metadata": {},
     "output_type": "execute_result"
    }
   ],
   "source": [
    "# ZIP as index, YEAR as columns, and EST as values\n",
    "cbd_pivot = cbd.pivot_table(index='zip', columns='year', values='est')\n",
    "cbd_pivot.dropna(axis = 1)\n",
    "cbd_pivot.head()"
   ]
  },
  {
   "cell_type": "code",
   "execution_count": 28,
   "metadata": {
    "collapsed": false
   },
   "outputs": [
    {
     "data": {
      "text/plain": [
       "(42540, 16)"
      ]
     },
     "execution_count": 28,
     "metadata": {},
     "output_type": "execute_result"
    }
   ],
   "source": [
    "cbd_pivot.shape"
   ]
  },
  {
   "cell_type": "markdown",
   "metadata": {},
   "source": [
    "# mistakes..\n"
   ]
  },
  {
   "cell_type": "markdown",
   "metadata": {},
   "source": [
    "### white data"
   ]
  },
  {
   "cell_type": "code",
   "execution_count": 23,
   "metadata": {
    "collapsed": true
   },
   "outputs": [],
   "source": [
    "cbd_standardized = cbd_pivot.dropna(how='any').copy()\n",
    "for row in cbd_standardized.index:\n",
    "    row_values = cbd_pivot.ix[row]\n",
    "    row_mean = row_values.mean()\n",
    "    row_std = row_values.std()\n",
    "    cbd_standardized.ix[row] = (row_values - row_mean)/row_std"
   ]
  },
  {
   "cell_type": "code",
   "execution_count": 24,
   "metadata": {
    "collapsed": false
   },
   "outputs": [
    {
     "data": {
      "text/html": [
       "<div>\n",
       "<table border=\"1\" class=\"dataframe\">\n",
       "  <thead>\n",
       "    <tr style=\"text-align: right;\">\n",
       "      <th>year</th>\n",
       "      <th>3</th>\n",
       "      <th>4</th>\n",
       "      <th>5</th>\n",
       "      <th>6</th>\n",
       "      <th>7</th>\n",
       "      <th>8</th>\n",
       "      <th>9</th>\n",
       "      <th>10</th>\n",
       "      <th>11</th>\n",
       "      <th>12</th>\n",
       "      <th>13</th>\n",
       "      <th>14</th>\n",
       "      <th>94</th>\n",
       "      <th>95</th>\n",
       "      <th>96</th>\n",
       "      <th>97</th>\n",
       "    </tr>\n",
       "    <tr>\n",
       "      <th>zip</th>\n",
       "      <th></th>\n",
       "      <th></th>\n",
       "      <th></th>\n",
       "      <th></th>\n",
       "      <th></th>\n",
       "      <th></th>\n",
       "      <th></th>\n",
       "      <th></th>\n",
       "      <th></th>\n",
       "      <th></th>\n",
       "      <th></th>\n",
       "      <th></th>\n",
       "      <th></th>\n",
       "      <th></th>\n",
       "      <th></th>\n",
       "      <th></th>\n",
       "    </tr>\n",
       "  </thead>\n",
       "  <tbody>\n",
       "    <tr>\n",
       "      <th>1001.0</th>\n",
       "      <td>1.323205</td>\n",
       "      <td>1.151639</td>\n",
       "      <td>1.460458</td>\n",
       "      <td>1.460458</td>\n",
       "      <td>1.254579</td>\n",
       "      <td>0.362434</td>\n",
       "      <td>-0.289518</td>\n",
       "      <td>-0.632651</td>\n",
       "      <td>-1.044410</td>\n",
       "      <td>-0.461084</td>\n",
       "      <td>-0.941470</td>\n",
       "      <td>-0.289518</td>\n",
       "      <td>-0.941470</td>\n",
       "      <td>-0.941470</td>\n",
       "      <td>-1.147350</td>\n",
       "      <td>-0.323831</td>\n",
       "    </tr>\n",
       "    <tr>\n",
       "      <th>1002.0</th>\n",
       "      <td>0.724192</td>\n",
       "      <td>0.681903</td>\n",
       "      <td>0.787624</td>\n",
       "      <td>0.639614</td>\n",
       "      <td>0.935634</td>\n",
       "      <td>0.681903</td>\n",
       "      <td>0.407027</td>\n",
       "      <td>0.385883</td>\n",
       "      <td>0.132152</td>\n",
       "      <td>0.428172</td>\n",
       "      <td>0.428172</td>\n",
       "      <td>0.174440</td>\n",
       "      <td>-2.151430</td>\n",
       "      <td>-1.791978</td>\n",
       "      <td>-1.369092</td>\n",
       "      <td>-1.094216</td>\n",
       "    </tr>\n",
       "    <tr>\n",
       "      <th>1003.0</th>\n",
       "      <td>0.626452</td>\n",
       "      <td>0.208817</td>\n",
       "      <td>-1.044086</td>\n",
       "      <td>-1.044086</td>\n",
       "      <td>0.626452</td>\n",
       "      <td>1.044086</td>\n",
       "      <td>0.626452</td>\n",
       "      <td>0.626452</td>\n",
       "      <td>0.626452</td>\n",
       "      <td>0.208817</td>\n",
       "      <td>0.208817</td>\n",
       "      <td>1.461721</td>\n",
       "      <td>-1.879355</td>\n",
       "      <td>-1.879355</td>\n",
       "      <td>-0.626452</td>\n",
       "      <td>0.208817</td>\n",
       "    </tr>\n",
       "    <tr>\n",
       "      <th>1004.0</th>\n",
       "      <td>-0.548714</td>\n",
       "      <td>1.160555</td>\n",
       "      <td>0.228226</td>\n",
       "      <td>0.150532</td>\n",
       "      <td>-0.626408</td>\n",
       "      <td>-0.781797</td>\n",
       "      <td>-0.781797</td>\n",
       "      <td>-0.548714</td>\n",
       "      <td>-0.704103</td>\n",
       "      <td>-0.937185</td>\n",
       "      <td>-0.937185</td>\n",
       "      <td>-1.170267</td>\n",
       "      <td>1.471332</td>\n",
       "      <td>1.549026</td>\n",
       "      <td>1.471332</td>\n",
       "      <td>1.005167</td>\n",
       "    </tr>\n",
       "    <tr>\n",
       "      <th>1005.0</th>\n",
       "      <td>-0.673044</td>\n",
       "      <td>0.171560</td>\n",
       "      <td>-0.461893</td>\n",
       "      <td>0.382711</td>\n",
       "      <td>2.071921</td>\n",
       "      <td>0.171560</td>\n",
       "      <td>-1.939951</td>\n",
       "      <td>-0.039591</td>\n",
       "      <td>-1.095347</td>\n",
       "      <td>-0.461893</td>\n",
       "      <td>0.171560</td>\n",
       "      <td>0.171560</td>\n",
       "      <td>-0.884195</td>\n",
       "      <td>-0.250742</td>\n",
       "      <td>1.016165</td>\n",
       "      <td>1.649618</td>\n",
       "    </tr>\n",
       "  </tbody>\n",
       "</table>\n",
       "</div>"
      ],
      "text/plain": [
       "year          3         4         5         6         7         8         9   \\\n",
       "zip                                                                            \n",
       "1001.0  1.323205  1.151639  1.460458  1.460458  1.254579  0.362434 -0.289518   \n",
       "1002.0  0.724192  0.681903  0.787624  0.639614  0.935634  0.681903  0.407027   \n",
       "1003.0  0.626452  0.208817 -1.044086 -1.044086  0.626452  1.044086  0.626452   \n",
       "1004.0 -0.548714  1.160555  0.228226  0.150532 -0.626408 -0.781797 -0.781797   \n",
       "1005.0 -0.673044  0.171560 -0.461893  0.382711  2.071921  0.171560 -1.939951   \n",
       "\n",
       "year          10        11        12        13        14        94        95  \\\n",
       "zip                                                                            \n",
       "1001.0 -0.632651 -1.044410 -0.461084 -0.941470 -0.289518 -0.941470 -0.941470   \n",
       "1002.0  0.385883  0.132152  0.428172  0.428172  0.174440 -2.151430 -1.791978   \n",
       "1003.0  0.626452  0.626452  0.208817  0.208817  1.461721 -1.879355 -1.879355   \n",
       "1004.0 -0.548714 -0.704103 -0.937185 -0.937185 -1.170267  1.471332  1.549026   \n",
       "1005.0 -0.039591 -1.095347 -0.461893  0.171560  0.171560 -0.884195 -0.250742   \n",
       "\n",
       "year          96        97  \n",
       "zip                         \n",
       "1001.0 -1.147350 -0.323831  \n",
       "1002.0 -1.369092 -1.094216  \n",
       "1003.0 -0.626452  0.208817  \n",
       "1004.0  1.471332  1.005167  \n",
       "1005.0  1.016165  1.649618  "
      ]
     },
     "execution_count": 24,
     "metadata": {},
     "output_type": "execute_result"
    }
   ],
   "source": [
    "cbd_standardized.head()"
   ]
  },
  {
   "cell_type": "code",
   "execution_count": null,
   "metadata": {
    "collapsed": true
   },
   "outputs": [],
   "source": []
  },
  {
   "cell_type": "code",
   "execution_count": 25,
   "metadata": {
    "collapsed": true
   },
   "outputs": [],
   "source": [
    "def elbow(data, K):\n",
    "    '''This function is to calculate average within-cluster\n",
    "    sum of squares, and plot the \"elbow\"'''\n",
    "    \n",
    "    KM = [KMeans(n_clusters=k).fit(data) for k in K]\n",
    "    centroids = [k.cluster_centers_ for k in KM]\n",
    "    \n",
    "    D_k = [cdist(data, cent, 'euclidean') for cent in centroids]\n",
    "    globals()['dist'] = [np.min(D, axis=1) for D in D_k]\n",
    "    avgWithinSS = [sum(d)/data.shape[0] for d in dist]\n",
    "    \n",
    "    # elbow curve\n",
    "    fig = plt.figure()\n",
    "    ax = fig.add_subplot(111)\n",
    "    ax.plot(K, avgWithinSS, 'b*-')\n",
    "    plt.grid(True)\n",
    "    plt.xlabel('Number of clusters')\n",
    "    plt.ylabel('Average within-cluster sum of squares')\n",
    "    plt.title('Elbow for KMeans clustering')\n",
    "    plt.show()"
   ]
  },
  {
   "cell_type": "code",
   "execution_count": null,
   "metadata": {
    "collapsed": true
   },
   "outputs": [],
   "source": [
    "elbow(cbd_standardized, range(1,30))"
   ]
  },
  {
   "cell_type": "code",
   "execution_count": null,
   "metadata": {
    "collapsed": true
   },
   "outputs": [],
   "source": []
  },
  {
   "cell_type": "code",
   "execution_count": null,
   "metadata": {
    "collapsed": true
   },
   "outputs": [],
   "source": []
  },
  {
   "cell_type": "code",
   "execution_count": null,
   "metadata": {
    "collapsed": true
   },
   "outputs": [],
   "source": []
  },
  {
   "cell_type": "code",
   "execution_count": null,
   "metadata": {
    "collapsed": true
   },
   "outputs": [],
   "source": []
  },
  {
   "cell_type": "markdown",
   "metadata": {},
   "source": [
    "you may need to clean your data: for some NYC zip codes there may be no info\n",
    "    \n",
    "sanity check: you should have 20 (N_timestamps) datapoints per time series and about 250 zipcodes (Nzipcodes)"
   ]
  },
  {
   "cell_type": "markdown",
   "metadata": {
    "collapsed": false
   },
   "source": [
    "IMPORTANT: we talked about the importance of \"whitening\" your data: dividing each feature by its standard deviation. \n",
    "Whitenings decorrelates the data: it makes the features independent so that the data covariance matrix is the identity matrix.\n",
    "Whitening your data in time series analysis is in most cases **wrong**: you are modifying your time behaviour. This is because of the strong correlation between features (two consecutive time stamps for the same observation, the same zip code here, are strongly correlated). Here instead you want to standardize your time series: subtract the mean and divide each time series (separately) by its standard deviation. As a sanity check (if you use skitlearn Kmeans or skitlearns kmeans2): you want your data array to be shaped Nzipcodes x Ntimestamps\n",
    "\n",
    "mydata.shape should be (Nzipcodes, Ntimestamps)\n",
    "\n",
    "mydata[i].std() shoould be 1 for all i in range(len(Nzipcodes))\n",
    "\n",
    "mydata[i].mean() should be ~0 for all i in range(len(Nzipcodes))\n",
    "\n"
   ]
  },
  {
   "cell_type": "markdown",
   "metadata": {
    "collapsed": false
   },
   "source": [
    "TASKS:\n",
    "    \n",
    "    1. get and prep your data.\n",
    "    2. cluster the NUMBER OF ESTABLISHMENTS time series with K-means in **a few** clusters (as discussed there is no real good, sound way to decide what a good number is here. try a few options, keeping in mind a few is more than a couple, but i recommand you stay within the single digit numbers)\n",
    "    3. plot the cluster centers (if you used K means those are the means of the clusters). you can plot for example the cluster centers overlayed on each time series (using the alpha channel to control the opacity in the plot may be helpful here).\n",
    "    4. Use another clustering algorithm (of your choice)\n",
    "    5. overlay your data on a NYC map: you can use shapefiles for the zip codes and different colors for different clusters\n",
    "    6. Compare the results of the 2 algorithms\n",
    "    7. attempt an interpretation. this is dangerous ground: clustering is an exploratory tool so you do not want to jump to conclusions because you see some clusters! but seeing structure in your data can inform your next moves as an investigator. \n",
    "    "
   ]
  },
  {
   "cell_type": "markdown",
   "metadata": {
    "collapsed": true
   },
   "source": [
    "The map of the clusters may look something like this"
   ]
  },
  {
   "cell_type": "code",
   "execution_count": null,
   "metadata": {
    "collapsed": false
   },
   "outputs": [],
   "source": [
    "from PIL import Image\n",
    "Image.open(\"clustermap.png\")"
   ]
  },
  {
   "cell_type": "markdown",
   "metadata": {},
   "source": [
    "And if you use hierarchical clustering and make a dandrogram it may look like this`"
   ]
  },
  {
   "cell_type": "code",
   "execution_count": null,
   "metadata": {
    "collapsed": false,
    "scrolled": false
   },
   "outputs": [],
   "source": [
    "from PIL import Image\n",
    "Image.open(\"dandrogram.png\")"
   ]
  },
  {
   "cell_type": "code",
   "execution_count": null,
   "metadata": {
    "collapsed": true
   },
   "outputs": [],
   "source": []
  }
 ],
 "metadata": {
  "kernelspec": {
   "display_name": "PUI2016_Python2",
   "language": "python",
   "name": "pui2016_python2"
  },
  "language_info": {
   "codemirror_mode": {
    "name": "ipython",
    "version": 2
   },
   "file_extension": ".py",
   "mimetype": "text/x-python",
   "name": "python",
   "nbconvert_exporter": "python",
   "pygments_lexer": "ipython2",
   "version": "2.7.12"
  }
 },
 "nbformat": 4,
 "nbformat_minor": 0
}
