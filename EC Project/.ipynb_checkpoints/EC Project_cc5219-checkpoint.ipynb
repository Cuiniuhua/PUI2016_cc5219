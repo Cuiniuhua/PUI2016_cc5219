{
 "cells": [
  {
   "cell_type": "markdown",
   "metadata": {},
   "source": [
    "## Proposal\n",
    "https://www.authorea.com/users/106600/articles/140971/_show_article"
   ]
  },
  {
   "cell_type": "code",
   "execution_count": 1,
   "metadata": {
    "collapsed": false
   },
   "outputs": [
    {
     "name": "stderr",
     "output_type": "stream",
     "text": [
      "/opt/rh/anaconda/root/envs/PUI2016_Python2/lib/python2.7/site-packages/IPython/html.py:14: ShimWarning:\n",
      "\n",
      "The `IPython.html` package has been deprecated. You should import from `notebook` instead. `IPython.html.widgets` has moved to `ipywidgets`.\n",
      "\n",
      "/opt/rh/anaconda/root/envs/PUI2016_Python2/lib/python2.7/site-packages/IPython/core/interactiveshell.py:2881: FutureWarning:\n",
      "\n",
      "\n",
      "mpl_style had been deprecated and will be removed in a future version.\n",
      "Use `matplotlib.pyplot.style.use` instead.\n",
      "\n",
      "\n"
     ]
    }
   ],
   "source": [
    "import pandas as pd\n",
    "import os\n",
    "%matplotlib inline\n",
    " \n",
    "import pandas as pd\n",
    "import matplotlib.pyplot as plt\n",
    "import urllib\n",
    "import ast\n",
    "import HTMLParser\n",
    "import string\n",
    "import json\n",
    "\n",
    "import plotly.plotly as py\n",
    "py.sign_in('Cuichenxi', 'A5vMAM4ea1VFGgIwSZHb')\n",
    "import numpy as np\n",
    "import sys\n",
    "import time\n",
    "import statsmodels.formula.api as smf\n",
    "import seaborn as sns\n",
    "pd.options.display.mpl_style = 'default'\n",
    "from matplotlib import rcParams\n",
    "import plotly.graph_objs as go\n"
   ]
  },
  {
   "cell_type": "code",
   "execution_count": 2,
   "metadata": {
    "collapsed": false
   },
   "outputs": [],
   "source": [
    "def getHousePrice(datestring):\n",
    "    \"\"\"\n",
    "    Download house price data from NYC open data and save it in PUIdata\n",
    "    \"\"\"\n",
    "    ### First check that it is not already there\n",
    "    if not os.path.isfile(os.getenv(\"PUIDATA\") + \"/\" + datestring + \".json\"):\n",
    "        if os.path.isfile(datestring + \".json\"):\n",
    "            # if in the current dir just move it\n",
    "            if os.system(\"mv \" + datestring + \".json \" + os.getenv(\"PUIDATA\")):\n",
    "                print (\"Error moving file!, Please check!\")\n",
    "        #otherwise start looking for the zip file\n",
    "        else:\n",
    "            if not os.path.isfile(os.getenv(\"PUIDATA\") + \"/\" + datestring + \".json\"):\n",
    "                if not os.path.isfile(datestring + \".json\"):\n",
    "                    os.system(\"curl -O https://data.cityofnewyork.us/resource/\" + datestring + \".json\")\n",
    "                    print \"Downloading\", datestring\n",
    "                ###  To move it I use the os.system() functions to run bash commands with arguments\n",
    "                os.system(\"mv \" + datestring + \".json \" + os.getenv(\"PUIDATA\"))\n",
    "    if not os.path.isfile(os.getenv(\"PUIDATA\") + \"/\" + datestring + \".json\"):\n",
    "        print (\"WARNING!!! something is wrong: the file is not there!\")\n",
    "\n",
    "    else:\n",
    "        print (datestring,\" in place, you can continue\")"
   ]
  },
  {
   "cell_type": "markdown",
   "metadata": {
    "collapsed": false
   },
   "source": [
    "#### Data is availble for the following boroughs and years. The names of data are in form of  'guxn-e9t2'\n",
    "\n",
    "\n",
    "Manhattan |2009 guxn-e9t2 |2008 tdry-agzy\n",
    "\n",
    "Bronx     |2009 pn7s-cabb |2008 8ckm-jeh4\n",
    "\n",
    "BK        |2009 dwxv-2z6m |2008 y7yy-gq65\n",
    "\n",
    "QUEEN     |2009 g2d9-9as3 |2008 d2ck-ja8t"
   ]
  },
  {
   "cell_type": "markdown",
   "metadata": {
    "collapsed": true
   },
   "source": [
    "### Create a dataframe for information above ( borough name and year ) and download data, read jason data into dataframe"
   ]
  },
  {
   "cell_type": "code",
   "execution_count": 3,
   "metadata": {
    "collapsed": false
   },
   "outputs": [],
   "source": [
    "dataname = pd.DataFrame({'Boro':['Manhattan','Manhattan','Bronx','Bronx','Brooklyn','Brooklyn','Queens','Queens'],\n",
    "           'Year':['2009','2008','2009','2008','2009','2008','2009','2008'],\n",
    "           'Fname':['guxn-e9t2', 'tdry-agzy', 'pn7s-cabb', '8ckm-jeh4','dwxv-2z6m', 'y7yy-gq65','g2d9-9as3', 'd2ck-ja8t']})"
   ]
  },
  {
   "cell_type": "code",
   "execution_count": 4,
   "metadata": {
    "collapsed": false
   },
   "outputs": [
    {
     "data": {
      "text/html": [
       "<div>\n",
       "<table border=\"1\" class=\"dataframe\">\n",
       "  <thead>\n",
       "    <tr style=\"text-align: right;\">\n",
       "      <th></th>\n",
       "      <th>Boro</th>\n",
       "      <th>Fname</th>\n",
       "      <th>Year</th>\n",
       "    </tr>\n",
       "  </thead>\n",
       "  <tbody>\n",
       "    <tr>\n",
       "      <th>0</th>\n",
       "      <td>Manhattan</td>\n",
       "      <td>guxn-e9t2</td>\n",
       "      <td>2009</td>\n",
       "    </tr>\n",
       "    <tr>\n",
       "      <th>1</th>\n",
       "      <td>Manhattan</td>\n",
       "      <td>tdry-agzy</td>\n",
       "      <td>2008</td>\n",
       "    </tr>\n",
       "    <tr>\n",
       "      <th>2</th>\n",
       "      <td>Bronx</td>\n",
       "      <td>pn7s-cabb</td>\n",
       "      <td>2009</td>\n",
       "    </tr>\n",
       "    <tr>\n",
       "      <th>3</th>\n",
       "      <td>Bronx</td>\n",
       "      <td>8ckm-jeh4</td>\n",
       "      <td>2008</td>\n",
       "    </tr>\n",
       "    <tr>\n",
       "      <th>4</th>\n",
       "      <td>Brooklyn</td>\n",
       "      <td>dwxv-2z6m</td>\n",
       "      <td>2009</td>\n",
       "    </tr>\n",
       "    <tr>\n",
       "      <th>5</th>\n",
       "      <td>Brooklyn</td>\n",
       "      <td>y7yy-gq65</td>\n",
       "      <td>2008</td>\n",
       "    </tr>\n",
       "    <tr>\n",
       "      <th>6</th>\n",
       "      <td>Queens</td>\n",
       "      <td>g2d9-9as3</td>\n",
       "      <td>2009</td>\n",
       "    </tr>\n",
       "    <tr>\n",
       "      <th>7</th>\n",
       "      <td>Queens</td>\n",
       "      <td>d2ck-ja8t</td>\n",
       "      <td>2008</td>\n",
       "    </tr>\n",
       "  </tbody>\n",
       "</table>\n",
       "</div>"
      ],
      "text/plain": [
       "        Boro      Fname  Year\n",
       "0  Manhattan  guxn-e9t2  2009\n",
       "1  Manhattan  tdry-agzy  2008\n",
       "2      Bronx  pn7s-cabb  2009\n",
       "3      Bronx  8ckm-jeh4  2008\n",
       "4   Brooklyn  dwxv-2z6m  2009\n",
       "5   Brooklyn  y7yy-gq65  2008\n",
       "6     Queens  g2d9-9as3  2009\n",
       "7     Queens  d2ck-ja8t  2008"
      ]
     },
     "execution_count": 4,
     "metadata": {},
     "output_type": "execute_result"
    }
   ],
   "source": [
    "dataname"
   ]
  },
  {
   "cell_type": "code",
   "execution_count": 5,
   "metadata": {
    "collapsed": false
   },
   "outputs": [
    {
     "name": "stdout",
     "output_type": "stream",
     "text": [
      "('guxn-e9t2', ' in place, you can continue')\n",
      "('tdry-agzy', ' in place, you can continue')\n",
      "('pn7s-cabb', ' in place, you can continue')\n",
      "('8ckm-jeh4', ' in place, you can continue')\n",
      "('dwxv-2z6m', ' in place, you can continue')\n",
      "('y7yy-gq65', ' in place, you can continue')\n",
      "('g2d9-9as3', ' in place, you can continue')\n",
      "('d2ck-ja8t', ' in place, you can continue')\n"
     ]
    }
   ],
   "source": [
    "housep = pd.DataFrame()\n",
    "for i in range(len(dataname)):\n",
    "    getHousePrice(dataname['Fname'][i])\n",
    "    temp = pd.read_json(os.getenv(\"PUIDATA\")+'/'+ dataname['Fname'][i] +'.json')\n",
    "    temp['Boro'] = dataname['Boro'][i]\n",
    "    temp['Year'] = dataname['Year'][i]\n",
    "    housep = housep.append(temp)"
   ]
  },
  {
   "cell_type": "code",
   "execution_count": 6,
   "metadata": {
    "collapsed": false
   },
   "outputs": [
    {
     "data": {
      "text/html": [
       "<div>\n",
       "<table border=\"1\" class=\"dataframe\">\n",
       "  <thead>\n",
       "    <tr style=\"text-align: right;\">\n",
       "      <th></th>\n",
       "      <th>Boro</th>\n",
       "      <th>Year</th>\n",
       "      <th>average_sale_price</th>\n",
       "      <th>highest_sale_price</th>\n",
       "      <th>lowest_sale_price</th>\n",
       "      <th>median_sale_price</th>\n",
       "      <th>neighborhood</th>\n",
       "      <th>number_of_sales</th>\n",
       "      <th>total_no_of_properties</th>\n",
       "      <th>type_of_home</th>\n",
       "    </tr>\n",
       "  </thead>\n",
       "  <tbody>\n",
       "    <tr>\n",
       "      <th>0</th>\n",
       "      <td>Manhattan</td>\n",
       "      <td>2009</td>\n",
       "      <td>2872500</td>\n",
       "      <td>4750000</td>\n",
       "      <td>995000</td>\n",
       "      <td>2872500</td>\n",
       "      <td>CHELSEA</td>\n",
       "      <td>2</td>\n",
       "      <td>81.0</td>\n",
       "      <td>02 TWO FAMILY HOMES</td>\n",
       "    </tr>\n",
       "    <tr>\n",
       "      <th>1</th>\n",
       "      <td>Manhattan</td>\n",
       "      <td>2009</td>\n",
       "      <td>3800000</td>\n",
       "      <td>3800000</td>\n",
       "      <td>3800000</td>\n",
       "      <td>3800000</td>\n",
       "      <td>CHELSEA</td>\n",
       "      <td>1</td>\n",
       "      <td>64.0</td>\n",
       "      <td>03 THREE FAMILY HOMES</td>\n",
       "    </tr>\n",
       "    <tr>\n",
       "      <th>2</th>\n",
       "      <td>Manhattan</td>\n",
       "      <td>2009</td>\n",
       "      <td>7926432</td>\n",
       "      <td>7926432</td>\n",
       "      <td>7926432</td>\n",
       "      <td>7926432</td>\n",
       "      <td>EAST VILLAGE</td>\n",
       "      <td>1</td>\n",
       "      <td>22.0</td>\n",
       "      <td>01 ONE FAMILY HOMES</td>\n",
       "    </tr>\n",
       "    <tr>\n",
       "      <th>3</th>\n",
       "      <td>Manhattan</td>\n",
       "      <td>2009</td>\n",
       "      <td>3892500</td>\n",
       "      <td>4700000</td>\n",
       "      <td>3085000</td>\n",
       "      <td>3892500</td>\n",
       "      <td>EAST VILLAGE</td>\n",
       "      <td>2</td>\n",
       "      <td>39.0</td>\n",
       "      <td>02 TWO FAMILY HOMES</td>\n",
       "    </tr>\n",
       "    <tr>\n",
       "      <th>4</th>\n",
       "      <td>Manhattan</td>\n",
       "      <td>2009</td>\n",
       "      <td>2400000</td>\n",
       "      <td>2400000</td>\n",
       "      <td>2400000</td>\n",
       "      <td>2400000</td>\n",
       "      <td>EAST VILLAGE</td>\n",
       "      <td>1</td>\n",
       "      <td>18.0</td>\n",
       "      <td>03 THREE FAMILY HOMES</td>\n",
       "    </tr>\n",
       "  </tbody>\n",
       "</table>\n",
       "</div>"
      ],
      "text/plain": [
       "        Boro  Year  average_sale_price  highest_sale_price  lowest_sale_price  \\\n",
       "0  Manhattan  2009             2872500             4750000             995000   \n",
       "1  Manhattan  2009             3800000             3800000            3800000   \n",
       "2  Manhattan  2009             7926432             7926432            7926432   \n",
       "3  Manhattan  2009             3892500             4700000            3085000   \n",
       "4  Manhattan  2009             2400000             2400000            2400000   \n",
       "\n",
       "   median_sale_price               neighborhood  number_of_sales  \\\n",
       "0            2872500  CHELSEA                                  2   \n",
       "1            3800000  CHELSEA                                  1   \n",
       "2            7926432  EAST VILLAGE                             1   \n",
       "3            3892500  EAST VILLAGE                             2   \n",
       "4            2400000  EAST VILLAGE                             1   \n",
       "\n",
       "   total_no_of_properties                                 type_of_home  \n",
       "0                    81.0  02 TWO FAMILY HOMES                          \n",
       "1                    64.0  03 THREE FAMILY HOMES                        \n",
       "2                    22.0  01 ONE FAMILY HOMES                          \n",
       "3                    39.0  02 TWO FAMILY HOMES                          \n",
       "4                    18.0  03 THREE FAMILY HOMES                        "
      ]
     },
     "execution_count": 6,
     "metadata": {},
     "output_type": "execute_result"
    }
   ],
   "source": [
    "housep.head()"
   ]
  },
  {
   "cell_type": "code",
   "execution_count": 7,
   "metadata": {
    "collapsed": false
   },
   "outputs": [],
   "source": [
    "houseprice = housep.dropna()"
   ]
  },
  {
   "cell_type": "code",
   "execution_count": 8,
   "metadata": {
    "collapsed": false
   },
   "outputs": [
    {
     "data": {
      "text/html": [
       "<div>\n",
       "<table border=\"1\" class=\"dataframe\">\n",
       "  <thead>\n",
       "    <tr style=\"text-align: right;\">\n",
       "      <th></th>\n",
       "      <th>Boro</th>\n",
       "      <th>Year</th>\n",
       "      <th>average_sale_price</th>\n",
       "      <th>highest_sale_price</th>\n",
       "      <th>lowest_sale_price</th>\n",
       "      <th>median_sale_price</th>\n",
       "      <th>neighborhood</th>\n",
       "      <th>number_of_sales</th>\n",
       "      <th>total_no_of_properties</th>\n",
       "      <th>type_of_home</th>\n",
       "    </tr>\n",
       "  </thead>\n",
       "  <tbody>\n",
       "    <tr>\n",
       "      <th>0</th>\n",
       "      <td>Manhattan</td>\n",
       "      <td>2009</td>\n",
       "      <td>2872500</td>\n",
       "      <td>4750000</td>\n",
       "      <td>995000</td>\n",
       "      <td>2872500</td>\n",
       "      <td>CHELSEA</td>\n",
       "      <td>2</td>\n",
       "      <td>81.0</td>\n",
       "      <td>02 TWO FAMILY HOMES</td>\n",
       "    </tr>\n",
       "    <tr>\n",
       "      <th>1</th>\n",
       "      <td>Manhattan</td>\n",
       "      <td>2009</td>\n",
       "      <td>3800000</td>\n",
       "      <td>3800000</td>\n",
       "      <td>3800000</td>\n",
       "      <td>3800000</td>\n",
       "      <td>CHELSEA</td>\n",
       "      <td>1</td>\n",
       "      <td>64.0</td>\n",
       "      <td>03 THREE FAMILY HOMES</td>\n",
       "    </tr>\n",
       "    <tr>\n",
       "      <th>2</th>\n",
       "      <td>Manhattan</td>\n",
       "      <td>2009</td>\n",
       "      <td>7926432</td>\n",
       "      <td>7926432</td>\n",
       "      <td>7926432</td>\n",
       "      <td>7926432</td>\n",
       "      <td>EAST VILLAGE</td>\n",
       "      <td>1</td>\n",
       "      <td>22.0</td>\n",
       "      <td>01 ONE FAMILY HOMES</td>\n",
       "    </tr>\n",
       "    <tr>\n",
       "      <th>3</th>\n",
       "      <td>Manhattan</td>\n",
       "      <td>2009</td>\n",
       "      <td>3892500</td>\n",
       "      <td>4700000</td>\n",
       "      <td>3085000</td>\n",
       "      <td>3892500</td>\n",
       "      <td>EAST VILLAGE</td>\n",
       "      <td>2</td>\n",
       "      <td>39.0</td>\n",
       "      <td>02 TWO FAMILY HOMES</td>\n",
       "    </tr>\n",
       "    <tr>\n",
       "      <th>4</th>\n",
       "      <td>Manhattan</td>\n",
       "      <td>2009</td>\n",
       "      <td>2400000</td>\n",
       "      <td>2400000</td>\n",
       "      <td>2400000</td>\n",
       "      <td>2400000</td>\n",
       "      <td>EAST VILLAGE</td>\n",
       "      <td>1</td>\n",
       "      <td>18.0</td>\n",
       "      <td>03 THREE FAMILY HOMES</td>\n",
       "    </tr>\n",
       "  </tbody>\n",
       "</table>\n",
       "</div>"
      ],
      "text/plain": [
       "        Boro  Year  average_sale_price  highest_sale_price  lowest_sale_price  \\\n",
       "0  Manhattan  2009             2872500             4750000             995000   \n",
       "1  Manhattan  2009             3800000             3800000            3800000   \n",
       "2  Manhattan  2009             7926432             7926432            7926432   \n",
       "3  Manhattan  2009             3892500             4700000            3085000   \n",
       "4  Manhattan  2009             2400000             2400000            2400000   \n",
       "\n",
       "   median_sale_price               neighborhood  number_of_sales  \\\n",
       "0            2872500  CHELSEA                                  2   \n",
       "1            3800000  CHELSEA                                  1   \n",
       "2            7926432  EAST VILLAGE                             1   \n",
       "3            3892500  EAST VILLAGE                             2   \n",
       "4            2400000  EAST VILLAGE                             1   \n",
       "\n",
       "   total_no_of_properties                                 type_of_home  \n",
       "0                    81.0  02 TWO FAMILY HOMES                          \n",
       "1                    64.0  03 THREE FAMILY HOMES                        \n",
       "2                    22.0  01 ONE FAMILY HOMES                          \n",
       "3                    39.0  02 TWO FAMILY HOMES                          \n",
       "4                    18.0  03 THREE FAMILY HOMES                        "
      ]
     },
     "execution_count": 8,
     "metadata": {},
     "output_type": "execute_result"
    }
   ],
   "source": [
    "houseprice.head()"
   ]
  },
  {
   "cell_type": "code",
   "execution_count": 9,
   "metadata": {
    "collapsed": false
   },
   "outputs": [],
   "source": [
    "houseprice = houseprice.reset_index()"
   ]
  },
  {
   "cell_type": "markdown",
   "metadata": {},
   "source": [
    "#### Change type_of_home into number in order to run regression"
   ]
  },
  {
   "cell_type": "code",
   "execution_count": 10,
   "metadata": {
    "collapsed": false
   },
   "outputs": [
    {
     "name": "stderr",
     "output_type": "stream",
     "text": [
      "/opt/rh/anaconda/root/envs/PUI2016_Python2/lib/python2.7/site-packages/pandas/core/indexing.py:132: SettingWithCopyWarning:\n",
      "\n",
      "\n",
      "A value is trying to be set on a copy of a slice from a DataFrame\n",
      "\n",
      "See the caveats in the documentation: http://pandas.pydata.org/pandas-docs/stable/indexing.html#indexing-view-versus-copy\n",
      "\n"
     ]
    }
   ],
   "source": [
    "for i in (houseprice.index):\n",
    "    houseprice['type_of_home'].ix[i] = houseprice['type_of_home'].ix[i][0:2]"
   ]
  },
  {
   "cell_type": "code",
   "execution_count": 11,
   "metadata": {
    "collapsed": false
   },
   "outputs": [
    {
     "data": {
      "text/html": [
       "<div>\n",
       "<table border=\"1\" class=\"dataframe\">\n",
       "  <thead>\n",
       "    <tr style=\"text-align: right;\">\n",
       "      <th></th>\n",
       "      <th>index</th>\n",
       "      <th>Boro</th>\n",
       "      <th>Year</th>\n",
       "      <th>average_sale_price</th>\n",
       "      <th>highest_sale_price</th>\n",
       "      <th>lowest_sale_price</th>\n",
       "      <th>median_sale_price</th>\n",
       "      <th>neighborhood</th>\n",
       "      <th>number_of_sales</th>\n",
       "      <th>total_no_of_properties</th>\n",
       "      <th>type_of_home</th>\n",
       "    </tr>\n",
       "  </thead>\n",
       "  <tbody>\n",
       "    <tr>\n",
       "      <th>0</th>\n",
       "      <td>0</td>\n",
       "      <td>Manhattan</td>\n",
       "      <td>2009</td>\n",
       "      <td>2872500</td>\n",
       "      <td>4750000</td>\n",
       "      <td>995000</td>\n",
       "      <td>2872500</td>\n",
       "      <td>CHELSEA</td>\n",
       "      <td>2</td>\n",
       "      <td>81.0</td>\n",
       "      <td>02</td>\n",
       "    </tr>\n",
       "    <tr>\n",
       "      <th>1</th>\n",
       "      <td>1</td>\n",
       "      <td>Manhattan</td>\n",
       "      <td>2009</td>\n",
       "      <td>3800000</td>\n",
       "      <td>3800000</td>\n",
       "      <td>3800000</td>\n",
       "      <td>3800000</td>\n",
       "      <td>CHELSEA</td>\n",
       "      <td>1</td>\n",
       "      <td>64.0</td>\n",
       "      <td>03</td>\n",
       "    </tr>\n",
       "    <tr>\n",
       "      <th>2</th>\n",
       "      <td>2</td>\n",
       "      <td>Manhattan</td>\n",
       "      <td>2009</td>\n",
       "      <td>7926432</td>\n",
       "      <td>7926432</td>\n",
       "      <td>7926432</td>\n",
       "      <td>7926432</td>\n",
       "      <td>EAST VILLAGE</td>\n",
       "      <td>1</td>\n",
       "      <td>22.0</td>\n",
       "      <td>01</td>\n",
       "    </tr>\n",
       "    <tr>\n",
       "      <th>3</th>\n",
       "      <td>3</td>\n",
       "      <td>Manhattan</td>\n",
       "      <td>2009</td>\n",
       "      <td>3892500</td>\n",
       "      <td>4700000</td>\n",
       "      <td>3085000</td>\n",
       "      <td>3892500</td>\n",
       "      <td>EAST VILLAGE</td>\n",
       "      <td>2</td>\n",
       "      <td>39.0</td>\n",
       "      <td>02</td>\n",
       "    </tr>\n",
       "    <tr>\n",
       "      <th>4</th>\n",
       "      <td>4</td>\n",
       "      <td>Manhattan</td>\n",
       "      <td>2009</td>\n",
       "      <td>2400000</td>\n",
       "      <td>2400000</td>\n",
       "      <td>2400000</td>\n",
       "      <td>2400000</td>\n",
       "      <td>EAST VILLAGE</td>\n",
       "      <td>1</td>\n",
       "      <td>18.0</td>\n",
       "      <td>03</td>\n",
       "    </tr>\n",
       "  </tbody>\n",
       "</table>\n",
       "</div>"
      ],
      "text/plain": [
       "   index       Boro  Year  average_sale_price  highest_sale_price  \\\n",
       "0      0  Manhattan  2009             2872500             4750000   \n",
       "1      1  Manhattan  2009             3800000             3800000   \n",
       "2      2  Manhattan  2009             7926432             7926432   \n",
       "3      3  Manhattan  2009             3892500             4700000   \n",
       "4      4  Manhattan  2009             2400000             2400000   \n",
       "\n",
       "   lowest_sale_price  median_sale_price               neighborhood  \\\n",
       "0             995000            2872500  CHELSEA                     \n",
       "1            3800000            3800000  CHELSEA                     \n",
       "2            7926432            7926432  EAST VILLAGE                \n",
       "3            3085000            3892500  EAST VILLAGE                \n",
       "4            2400000            2400000  EAST VILLAGE                \n",
       "\n",
       "   number_of_sales  total_no_of_properties type_of_home  \n",
       "0                2                    81.0           02  \n",
       "1                1                    64.0           03  \n",
       "2                1                    22.0           01  \n",
       "3                2                    39.0           02  \n",
       "4                1                    18.0           03  "
      ]
     },
     "execution_count": 11,
     "metadata": {},
     "output_type": "execute_result"
    }
   ],
   "source": [
    "houseprice.head()"
   ]
  },
  {
   "cell_type": "code",
   "execution_count": 12,
   "metadata": {
    "collapsed": false
   },
   "outputs": [
    {
     "name": "stderr",
     "output_type": "stream",
     "text": [
      "/opt/rh/anaconda/root/envs/PUI2016_Python2/lib/python2.7/site-packages/matplotlib/font_manager.py:1288: UserWarning:\n",
      "\n",
      "findfont: Font family [u'monospace'] not found. Falling back to Bitstream Vera Sans\n",
      "\n"
     ]
    },
    {
     "data": {
      "image/png": "[encoded data removed]",
      "text/plain": [
       "<matplotlib.figure.Figure at 0x7ffb383db750>"
      ]
     },
     "metadata": {},
     "output_type": "display_data"
    }
   ],
   "source": [
    "plt.hist(houseprice['average_sale_price'],100)\n",
    "plt.xlim([0, 1e6])\n",
    "plt.title('Number of Ave Sale price')\n",
    "plt.xlabel('Ave Sale price')\n",
    "plt.ylabel('Frequency')\n",
    "plt.show()"
   ]
  },
  {
   "cell_type": "markdown",
   "metadata": {},
   "source": [
    "#### A brief look at the average sale price"
   ]
  },
  {
   "cell_type": "markdown",
   "metadata": {},
   "source": [
    "### Whitening: Divide 'average_sale_price' by its SDV and save the number in a new column called 'average_sale_pricem', then run the regression"
   ]
  },
  {
   "cell_type": "code",
   "execution_count": 13,
   "metadata": {
    "collapsed": false
   },
   "outputs": [],
   "source": [
    "houseprice[['average_sale_price','type_of_home']] = houseprice[['average_sale_price','type_of_home']].apply(pd.to_numeric)\n",
    "houseprice['average_sale_pricem']= (houseprice['average_sale_price']/houseprice['average_sale_price'].std())"
   ]
  },
  {
   "cell_type": "code",
   "execution_count": 14,
   "metadata": {
    "collapsed": false
   },
   "outputs": [
    {
     "data": {
      "text/html": [
       "<div>\n",
       "<table border=\"1\" class=\"dataframe\">\n",
       "  <thead>\n",
       "    <tr style=\"text-align: right;\">\n",
       "      <th></th>\n",
       "      <th>index</th>\n",
       "      <th>Boro</th>\n",
       "      <th>Year</th>\n",
       "      <th>average_sale_price</th>\n",
       "      <th>highest_sale_price</th>\n",
       "      <th>lowest_sale_price</th>\n",
       "      <th>median_sale_price</th>\n",
       "      <th>neighborhood</th>\n",
       "      <th>number_of_sales</th>\n",
       "      <th>total_no_of_properties</th>\n",
       "      <th>type_of_home</th>\n",
       "      <th>average_sale_pricem</th>\n",
       "    </tr>\n",
       "  </thead>\n",
       "  <tbody>\n",
       "    <tr>\n",
       "      <th>0</th>\n",
       "      <td>0</td>\n",
       "      <td>Manhattan</td>\n",
       "      <td>2009</td>\n",
       "      <td>2872500</td>\n",
       "      <td>4750000</td>\n",
       "      <td>995000</td>\n",
       "      <td>2872500</td>\n",
       "      <td>CHELSEA</td>\n",
       "      <td>2</td>\n",
       "      <td>81.0</td>\n",
       "      <td>2</td>\n",
       "      <td>1.689254</td>\n",
       "    </tr>\n",
       "    <tr>\n",
       "      <th>1</th>\n",
       "      <td>1</td>\n",
       "      <td>Manhattan</td>\n",
       "      <td>2009</td>\n",
       "      <td>3800000</td>\n",
       "      <td>3800000</td>\n",
       "      <td>3800000</td>\n",
       "      <td>3800000</td>\n",
       "      <td>CHELSEA</td>\n",
       "      <td>1</td>\n",
       "      <td>64.0</td>\n",
       "      <td>3</td>\n",
       "      <td>2.234697</td>\n",
       "    </tr>\n",
       "    <tr>\n",
       "      <th>2</th>\n",
       "      <td>2</td>\n",
       "      <td>Manhattan</td>\n",
       "      <td>2009</td>\n",
       "      <td>7926432</td>\n",
       "      <td>7926432</td>\n",
       "      <td>7926432</td>\n",
       "      <td>7926432</td>\n",
       "      <td>EAST VILLAGE</td>\n",
       "      <td>1</td>\n",
       "      <td>22.0</td>\n",
       "      <td>1</td>\n",
       "      <td>4.661361</td>\n",
       "    </tr>\n",
       "    <tr>\n",
       "      <th>3</th>\n",
       "      <td>3</td>\n",
       "      <td>Manhattan</td>\n",
       "      <td>2009</td>\n",
       "      <td>3892500</td>\n",
       "      <td>4700000</td>\n",
       "      <td>3085000</td>\n",
       "      <td>3892500</td>\n",
       "      <td>EAST VILLAGE</td>\n",
       "      <td>2</td>\n",
       "      <td>39.0</td>\n",
       "      <td>2</td>\n",
       "      <td>2.289094</td>\n",
       "    </tr>\n",
       "    <tr>\n",
       "      <th>4</th>\n",
       "      <td>4</td>\n",
       "      <td>Manhattan</td>\n",
       "      <td>2009</td>\n",
       "      <td>2400000</td>\n",
       "      <td>2400000</td>\n",
       "      <td>2400000</td>\n",
       "      <td>2400000</td>\n",
       "      <td>EAST VILLAGE</td>\n",
       "      <td>1</td>\n",
       "      <td>18.0</td>\n",
       "      <td>3</td>\n",
       "      <td>1.411387</td>\n",
       "    </tr>\n",
       "  </tbody>\n",
       "</table>\n",
       "</div>"
      ],
      "text/plain": [
       "   index       Boro  Year  average_sale_price  highest_sale_price  \\\n",
       "0      0  Manhattan  2009             2872500             4750000   \n",
       "1      1  Manhattan  2009             3800000             3800000   \n",
       "2      2  Manhattan  2009             7926432             7926432   \n",
       "3      3  Manhattan  2009             3892500             4700000   \n",
       "4      4  Manhattan  2009             2400000             2400000   \n",
       "\n",
       "   lowest_sale_price  median_sale_price               neighborhood  \\\n",
       "0             995000            2872500  CHELSEA                     \n",
       "1            3800000            3800000  CHELSEA                     \n",
       "2            7926432            7926432  EAST VILLAGE                \n",
       "3            3085000            3892500  EAST VILLAGE                \n",
       "4            2400000            2400000  EAST VILLAGE                \n",
       "\n",
       "   number_of_sales  total_no_of_properties  type_of_home  average_sale_pricem  \n",
       "0                2                    81.0             2             1.689254  \n",
       "1                1                    64.0             3             2.234697  \n",
       "2                1                    22.0             1             4.661361  \n",
       "3                2                    39.0             2             2.289094  \n",
       "4                1                    18.0             3             1.411387  "
      ]
     },
     "execution_count": 14,
     "metadata": {},
     "output_type": "execute_result"
    }
   ],
   "source": [
    "houseprice.head()"
   ]
  },
  {
   "cell_type": "code",
   "execution_count": 15,
   "metadata": {
    "collapsed": false
   },
   "outputs": [
    {
     "name": "stdout",
     "output_type": "stream",
     "text": [
      "                             OLS Regression Results                            \n",
      "===============================================================================\n",
      "Dep. Variable:     average_sale_pricem   R-squared:                       0.000\n",
      "Model:                             OLS   Adj. R-squared:                 -0.002\n",
      "Method:                  Least Squares   F-statistic:                   0.06432\n",
      "Date:                 Thu, 15 Dec 2016   Prob (F-statistic):              0.800\n",
      "Time:                         19:53:50   Log-Likelihood:                -650.76\n",
      "No. Observations:                  459   AIC:                             1306.\n",
      "Df Residuals:                      457   BIC:                             1314.\n",
      "Df Model:                            1                                         \n",
      "Covariance Type:             nonrobust                                         \n",
      "================================================================================\n",
      "                   coef    std err          t      P>|t|      [95.0% Conf. Int.]\n",
      "--------------------------------------------------------------------------------\n",
      "Intercept        0.6002      0.123      4.876      0.000         0.358     0.842\n",
      "type_of_home    -0.0148      0.058     -0.254      0.800        -0.130     0.100\n",
      "==============================================================================\n",
      "Omnibus:                      558.347   Durbin-Watson:                   0.836\n",
      "Prob(Omnibus):                  0.000   Jarque-Bera (JB):            40559.481\n",
      "Skew:                           5.876   Prob(JB):                         0.00\n",
      "Kurtosis:                      47.527   Cond. No.                         6.65\n",
      "==============================================================================\n",
      "\n",
      "Warnings:\n",
      "[1] Standard Errors assume that the covariance matrix of the errors is correctly specified.\n"
     ]
    }
   ],
   "source": [
    "lm = smf.ols(formula='average_sale_pricem ~ type_of_home', data = houseprice).fit()\n",
    "print lm.summary()"
   ]
  },
  {
   "cell_type": "markdown",
   "metadata": {},
   "source": [
    "#### The R-squared is 0.004 which is small, so it seems 'average_sale_pricem' has no correlation to 'type_of_home'"
   ]
  },
  {
   "cell_type": "markdown",
   "metadata": {},
   "source": [
    "### Then have a look at the correlation between 'average_sale_pricem' and 'neighborhood'"
   ]
  },
  {
   "cell_type": "code",
   "execution_count": 16,
   "metadata": {
    "collapsed": false
   },
   "outputs": [],
   "source": [
    "a = houseprice.groupby(houseprice['neighborhood'])"
   ]
  },
  {
   "cell_type": "code",
   "execution_count": 17,
   "metadata": {
    "collapsed": false
   },
   "outputs": [],
   "source": [
    "meanprice = []\n",
    "for i in houseprice['neighborhood'].unique():\n",
    "    meanprice.append(a.get_group(i).average_sale_price.mean())"
   ]
  },
  {
   "cell_type": "code",
   "execution_count": 18,
   "metadata": {
    "collapsed": true
   },
   "outputs": [],
   "source": [
    "colum=['meanprice']\n",
    "priceneig = pd.DataFrame(index=houseprice['neighborhood'].unique(),columns=colum)"
   ]
  },
  {
   "cell_type": "code",
   "execution_count": 19,
   "metadata": {
    "collapsed": true
   },
   "outputs": [],
   "source": [
    "priceneig['meanprice'] = meanprice"
   ]
  },
  {
   "cell_type": "code",
   "execution_count": 20,
   "metadata": {
    "collapsed": false
   },
   "outputs": [
    {
     "data": {
      "text/html": [
       "<iframe id=\"igraph\" scrolling=\"no\" style=\"border:none;\" seamless=\"seamless\" src=\"https://plot.ly/~Cuichenxi/2.embed\" height=\"525px\" width=\"100%\"></iframe>"
      ],
      "text/plain": [
       "<plotly.tools.PlotlyDisplay object>"
      ]
     },
     "execution_count": 20,
     "metadata": {},
     "output_type": "execute_result"
    }
   ],
   "source": [
    "trace1 = go.Bar(\n",
    "     x = priceneig.index,\n",
    "     y = priceneig.meanprice,\n",
    "    marker=dict(\n",
    "        color = np.random.randn(500), #set color equal to a variable\n",
    "        colorscale='Viridis',\n",
    "        showscale=True\n",
    "    )\n",
    ")\n",
    "data = [trace1]\n",
    "\n",
    "py.iplot(data, filename='Average Price by Neighborhood')"
   ]
  },
  {
   "cell_type": "markdown",
   "metadata": {},
   "source": [
    "#### The figure shows the house price by neighborhood and from it we can see the highest price is in Manhattan, small Italy "
   ]
  },
  {
   "cell_type": "markdown",
   "metadata": {},
   "source": [
    "## Then analyze the house rental \n",
    "\n",
    "Year2011/2012, NYC data sets are avalible in following :\n",
    "\n",
    "Manhattan https://data.cityofnewyork.us/resource/vg9b-tecn.json\n",
    "\n",
    "Brooklyn https://data.cityofnewyork.us/resource/4wsw-byzq.json\n",
    "\n",
    "Qeen https://data.cityofnewyork.us/resource/pm5s-v8vm.json\n",
    "\n",
    "Staten Island https://data.cityofnewyork.us/resource/yu5f-az3h.json\n",
    "\n",
    "Bronx https://data.cityofnewyork.us/resource/8gur-yq36.json"
   ]
  },
  {
   "cell_type": "markdown",
   "metadata": {},
   "source": [
    "#### Download data by the same way as above, and selected useful columns :\n",
    "\n",
    "full_value, address, income, coopids, neighboor, Boro\n"
   ]
  },
  {
   "cell_type": "code",
   "execution_count": 21,
   "metadata": {
    "collapsed": true
   },
   "outputs": [],
   "source": [
    "rentname = pd.DataFrame({'Boro':['Manhattan','Bronx','Brooklyn','Queens','Staten Island '],\n",
    "           'Fname':['vg9b-tecn', '8gur-yq36', '4wsw-byzq', 'pm5s-v8vm','yu5f-az3h']})\n",
    " "
   ]
  },
  {
   "cell_type": "code",
   "execution_count": 95,
   "metadata": {
    "collapsed": false
   },
   "outputs": [
    {
     "name": "stdout",
     "output_type": "stream",
     "text": [
      "('vg9b-tecn', ' in place, you can continue')\n",
      "('8gur-yq36', ' in place, you can continue')\n",
      "('4wsw-byzq', ' in place, you can continue')\n",
      "('pm5s-v8vm', ' in place, you can continue')\n",
      "('yu5f-az3h', ' in place, you can continue')\n"
     ]
    }
   ],
   "source": [
    "houser = pd.DataFrame()\n",
    "\n",
    "for i in range(len(rentname)):\n",
    "    getHousePrice(rentname['Fname'][i])\n",
    "    temp1 = pd.DataFrame()\n",
    "    temp = pd.read_json(os.getenv(\"PUIDATA\")+'/'+ rentname['Fname'][i] +'.json')\n",
    "    temp1['full_value'] = temp['comparable_rental_1_full_market_value']\n",
    "    temp1['address'] = temp['comparable_rental_1_address']\n",
    "    temp1['income'] = temp['comparable_rental_1_estimated_gross_income']\n",
    "    temp1['coopdis'] = temp['comparable_rental_1_distance_from_coop_in_miles']\n",
    "    temp1['neighboor'] = temp['comparable_rental_1_neighborhood']\n",
    "    temp1['Boro'] = rentname['Boro'][i]\n",
    "#     temp.rename(columns={'oldName1': 'newName1', 'oldName2': 'newName2'}, inplace=True)\n",
    "    houser = houser.append(temp1)"
   ]
  },
  {
   "cell_type": "code",
   "execution_count": 98,
   "metadata": {
    "collapsed": false
   },
   "outputs": [],
   "source": [
    "houser= houser.dropna()"
   ]
  },
  {
   "cell_type": "code",
   "execution_count": 99,
   "metadata": {
    "collapsed": false
   },
   "outputs": [
    {
     "data": {
      "text/html": [
       "<div>\n",
       "<table border=\"1\" class=\"dataframe\">\n",
       "  <thead>\n",
       "    <tr style=\"text-align: right;\">\n",
       "      <th></th>\n",
       "      <th>full_value</th>\n",
       "      <th>address</th>\n",
       "      <th>income</th>\n",
       "      <th>coopdis</th>\n",
       "      <th>neighboor</th>\n",
       "      <th>Boro</th>\n",
       "    </tr>\n",
       "  </thead>\n",
       "  <tbody>\n",
       "    <tr>\n",
       "      <th>3</th>\n",
       "      <td>5296000</td>\n",
       "      <td>{u'type': u'Point', u'coordinates': [-74.00249...</td>\n",
       "      <td>851907</td>\n",
       "      <td>0.00</td>\n",
       "      <td>SOHO</td>\n",
       "      <td>Manhattan</td>\n",
       "    </tr>\n",
       "    <tr>\n",
       "      <th>4</th>\n",
       "      <td>32853000</td>\n",
       "      <td>{u'type': u'Point', u'coordinates': [-73.98195...</td>\n",
       "      <td>7195339</td>\n",
       "      <td>0.21</td>\n",
       "      <td>UPPER WEST SIDE (59-79)</td>\n",
       "      <td>Manhattan</td>\n",
       "    </tr>\n",
       "    <tr>\n",
       "      <th>5</th>\n",
       "      <td>69083000</td>\n",
       "      <td>{u'type': u'Point', u'coordinates': [-74.02050...</td>\n",
       "      <td>13502516</td>\n",
       "      <td>0.21</td>\n",
       "      <td>MIDTOWN EAST</td>\n",
       "      <td>Manhattan</td>\n",
       "    </tr>\n",
       "    <tr>\n",
       "      <th>6</th>\n",
       "      <td>3581000</td>\n",
       "      <td>{u'type': u'Point', u'coordinates': [-74.03023...</td>\n",
       "      <td>807498</td>\n",
       "      <td>0.00</td>\n",
       "      <td>UPPER WEST SIDE (79-96)</td>\n",
       "      <td>Manhattan</td>\n",
       "    </tr>\n",
       "    <tr>\n",
       "      <th>7</th>\n",
       "      <td>1807000</td>\n",
       "      <td>{u'type': u'Point', u'coordinates': [-74.00784...</td>\n",
       "      <td>350828</td>\n",
       "      <td>0.19</td>\n",
       "      <td>SOHO</td>\n",
       "      <td>Manhattan</td>\n",
       "    </tr>\n",
       "  </tbody>\n",
       "</table>\n",
       "</div>"
      ],
      "text/plain": [
       "   full_value                                            address    income  \\\n",
       "3     5296000  {u'type': u'Point', u'coordinates': [-74.00249...    851907   \n",
       "4    32853000  {u'type': u'Point', u'coordinates': [-73.98195...   7195339   \n",
       "5    69083000  {u'type': u'Point', u'coordinates': [-74.02050...  13502516   \n",
       "6     3581000  {u'type': u'Point', u'coordinates': [-74.03023...    807498   \n",
       "7     1807000  {u'type': u'Point', u'coordinates': [-74.00784...    350828   \n",
       "\n",
       "   coopdis                neighboor       Boro  \n",
       "3     0.00                     SOHO  Manhattan  \n",
       "4     0.21  UPPER WEST SIDE (59-79)  Manhattan  \n",
       "5     0.21             MIDTOWN EAST  Manhattan  \n",
       "6     0.00  UPPER WEST SIDE (79-96)  Manhattan  \n",
       "7     0.19                     SOHO  Manhattan  "
      ]
     },
     "execution_count": 99,
     "metadata": {},
     "output_type": "execute_result"
    }
   ],
   "source": [
    "houser.head()"
   ]
  },
  {
   "cell_type": "code",
   "execution_count": 106,
   "metadata": {
    "collapsed": false
   },
   "outputs": [
    {
     "data": {
      "text/html": [
       "<div>\n",
       "<table border=\"1\" class=\"dataframe\">\n",
       "  <thead>\n",
       "    <tr style=\"text-align: right;\">\n",
       "      <th></th>\n",
       "      <th>full_value</th>\n",
       "      <th>address</th>\n",
       "      <th>income</th>\n",
       "      <th>coopdis</th>\n",
       "      <th>neighboor</th>\n",
       "      <th>Boro</th>\n",
       "    </tr>\n",
       "  </thead>\n",
       "  <tbody>\n",
       "    <tr>\n",
       "      <th>3</th>\n",
       "      <td>5296000</td>\n",
       "      <td>{u'type': u'Point', u'coordinates': [-74.00249...</td>\n",
       "      <td>851907</td>\n",
       "      <td>0.00</td>\n",
       "      <td>SOHO</td>\n",
       "      <td>Manhattan</td>\n",
       "    </tr>\n",
       "    <tr>\n",
       "      <th>4</th>\n",
       "      <td>32853000</td>\n",
       "      <td>{u'type': u'Point', u'coordinates': [-73.98195...</td>\n",
       "      <td>7195339</td>\n",
       "      <td>0.21</td>\n",
       "      <td>UPPER WEST SIDE (59-79)</td>\n",
       "      <td>Manhattan</td>\n",
       "    </tr>\n",
       "    <tr>\n",
       "      <th>5</th>\n",
       "      <td>69083000</td>\n",
       "      <td>{u'type': u'Point', u'coordinates': [-74.02050...</td>\n",
       "      <td>13502516</td>\n",
       "      <td>0.21</td>\n",
       "      <td>MIDTOWN EAST</td>\n",
       "      <td>Manhattan</td>\n",
       "    </tr>\n",
       "    <tr>\n",
       "      <th>6</th>\n",
       "      <td>3581000</td>\n",
       "      <td>{u'type': u'Point', u'coordinates': [-74.03023...</td>\n",
       "      <td>807498</td>\n",
       "      <td>0.00</td>\n",
       "      <td>UPPER WEST SIDE (79-96)</td>\n",
       "      <td>Manhattan</td>\n",
       "    </tr>\n",
       "    <tr>\n",
       "      <th>7</th>\n",
       "      <td>1807000</td>\n",
       "      <td>{u'type': u'Point', u'coordinates': [-74.00784...</td>\n",
       "      <td>350828</td>\n",
       "      <td>0.19</td>\n",
       "      <td>SOHO</td>\n",
       "      <td>Manhattan</td>\n",
       "    </tr>\n",
       "  </tbody>\n",
       "</table>\n",
       "</div>"
      ],
      "text/plain": [
       "   full_value                                            address    income  \\\n",
       "3     5296000  {u'type': u'Point', u'coordinates': [-74.00249...    851907   \n",
       "4    32853000  {u'type': u'Point', u'coordinates': [-73.98195...   7195339   \n",
       "5    69083000  {u'type': u'Point', u'coordinates': [-74.02050...  13502516   \n",
       "6     3581000  {u'type': u'Point', u'coordinates': [-74.03023...    807498   \n",
       "7     1807000  {u'type': u'Point', u'coordinates': [-74.00784...    350828   \n",
       "\n",
       "   coopdis                neighboor       Boro  \n",
       "3     0.00                     SOHO  Manhattan  \n",
       "4     0.21  UPPER WEST SIDE (59-79)  Manhattan  \n",
       "5     0.21             MIDTOWN EAST  Manhattan  \n",
       "6     0.00  UPPER WEST SIDE (79-96)  Manhattan  \n",
       "7     0.19                     SOHO  Manhattan  "
      ]
     },
     "execution_count": 106,
     "metadata": {},
     "output_type": "execute_result"
    }
   ],
   "source": [
    "houserw = houser.copy()\n",
    "houserw.head()"
   ]
  },
  {
   "cell_type": "code",
   "execution_count": 107,
   "metadata": {
    "collapsed": false
   },
   "outputs": [],
   "source": [
    "houserw['full_value'] = houserw['full_value']/houserw['full_value'].std()\n",
    "houserw['income'] = houserw['income']/houserw['income'].std()\n",
    "houserw['coopdis'] = houserw['coopdis']/houserw['coopdis'].std()"
   ]
  },
  {
   "cell_type": "code",
   "execution_count": 108,
   "metadata": {
    "collapsed": false,
    "scrolled": true
   },
   "outputs": [
    {
     "data": {
      "text/html": [
       "<div>\n",
       "<table border=\"1\" class=\"dataframe\">\n",
       "  <thead>\n",
       "    <tr style=\"text-align: right;\">\n",
       "      <th></th>\n",
       "      <th>full_value</th>\n",
       "      <th>address</th>\n",
       "      <th>income</th>\n",
       "      <th>coopdis</th>\n",
       "      <th>neighboor</th>\n",
       "      <th>Boro</th>\n",
       "    </tr>\n",
       "  </thead>\n",
       "  <tbody>\n",
       "    <tr>\n",
       "      <th>3</th>\n",
       "      <td>0.528262</td>\n",
       "      <td>{u'type': u'Point', u'coordinates': [-74.00249...</td>\n",
       "      <td>0.405642</td>\n",
       "      <td>0.000000</td>\n",
       "      <td>SOHO</td>\n",
       "      <td>Manhattan</td>\n",
       "    </tr>\n",
       "    <tr>\n",
       "      <th>4</th>\n",
       "      <td>3.277003</td>\n",
       "      <td>{u'type': u'Point', u'coordinates': [-73.98195...</td>\n",
       "      <td>3.426117</td>\n",
       "      <td>0.330505</td>\n",
       "      <td>UPPER WEST SIDE (59-79)</td>\n",
       "      <td>Manhattan</td>\n",
       "    </tr>\n",
       "    <tr>\n",
       "      <th>5</th>\n",
       "      <td>6.890852</td>\n",
       "      <td>{u'type': u'Point', u'coordinates': [-74.02050...</td>\n",
       "      <td>6.429329</td>\n",
       "      <td>0.330505</td>\n",
       "      <td>MIDTOWN EAST</td>\n",
       "      <td>Manhattan</td>\n",
       "    </tr>\n",
       "    <tr>\n",
       "      <th>6</th>\n",
       "      <td>0.357196</td>\n",
       "      <td>{u'type': u'Point', u'coordinates': [-74.03023...</td>\n",
       "      <td>0.384496</td>\n",
       "      <td>0.000000</td>\n",
       "      <td>UPPER WEST SIDE (79-96)</td>\n",
       "      <td>Manhattan</td>\n",
       "    </tr>\n",
       "    <tr>\n",
       "      <th>7</th>\n",
       "      <td>0.180244</td>\n",
       "      <td>{u'type': u'Point', u'coordinates': [-74.00784...</td>\n",
       "      <td>0.167049</td>\n",
       "      <td>0.299029</td>\n",
       "      <td>SOHO</td>\n",
       "      <td>Manhattan</td>\n",
       "    </tr>\n",
       "  </tbody>\n",
       "</table>\n",
       "</div>"
      ],
      "text/plain": [
       "   full_value                                            address    income  \\\n",
       "3    0.528262  {u'type': u'Point', u'coordinates': [-74.00249...  0.405642   \n",
       "4    3.277003  {u'type': u'Point', u'coordinates': [-73.98195...  3.426117   \n",
       "5    6.890852  {u'type': u'Point', u'coordinates': [-74.02050...  6.429329   \n",
       "6    0.357196  {u'type': u'Point', u'coordinates': [-74.03023...  0.384496   \n",
       "7    0.180244  {u'type': u'Point', u'coordinates': [-74.00784...  0.167049   \n",
       "\n",
       "    coopdis                neighboor       Boro  \n",
       "3  0.000000                     SOHO  Manhattan  \n",
       "4  0.330505  UPPER WEST SIDE (59-79)  Manhattan  \n",
       "5  0.330505             MIDTOWN EAST  Manhattan  \n",
       "6  0.000000  UPPER WEST SIDE (79-96)  Manhattan  \n",
       "7  0.299029                     SOHO  Manhattan  "
      ]
     },
     "execution_count": 108,
     "metadata": {},
     "output_type": "execute_result"
    }
   ],
   "source": [
    "houserw.head()"
   ]
  },
  {
   "cell_type": "markdown",
   "metadata": {},
   "source": [
    "### Run multiple regression"
   ]
  },
  {
   "cell_type": "code",
   "execution_count": 78,
   "metadata": {
    "collapsed": false
   },
   "outputs": [
    {
     "name": "stdout",
     "output_type": "stream",
     "text": [
      "                            OLS Regression Results                            \n",
      "==============================================================================\n",
      "Dep. Variable:             full_value   R-squared:                       0.933\n",
      "Model:                            OLS   Adj. R-squared:                  0.933\n",
      "Method:                 Least Squares   F-statistic:                 1.889e+04\n",
      "Date:                Thu, 15 Dec 2016   Prob (F-statistic):               0.00\n",
      "Time:                        21:38:32   Log-Likelihood:                -187.39\n",
      "No. Observations:                2725   AIC:                             380.8\n",
      "Df Residuals:                    2722   BIC:                             398.5\n",
      "Df Model:                           2                                         \n",
      "Covariance Type:            nonrobust                                         \n",
      "==============================================================================\n",
      "                 coef    std err          t      P>|t|      [95.0% Conf. Int.]\n",
      "------------------------------------------------------------------------------\n",
      "Intercept     -0.0355      0.007     -5.364      0.000        -0.048    -0.023\n",
      "income         0.9781      0.005    193.542      0.000         0.968     0.988\n",
      "coopdis       -0.0891      0.005    -17.630      0.000        -0.099    -0.079\n",
      "==============================================================================\n",
      "Omnibus:                     1793.674   Durbin-Watson:                   1.772\n",
      "Prob(Omnibus):                  0.000   Jarque-Bera (JB):           148898.097\n",
      "Skew:                          -2.320   Prob(JB):                         0.00\n",
      "Kurtosis:                      38.915   Cond. No.                         2.44\n",
      "==============================================================================\n",
      "\n",
      "Warnings:\n",
      "[1] Standard Errors assume that the covariance matrix of the errors is correctly specified.\n"
     ]
    }
   ],
   "source": [
    "lmrent = smf.ols(formula = ' full_value ~ income + coopdis', data = houserw).fit()\n",
    "print(lmrent.summary())"
   ]
  },
  {
   "cell_type": "markdown",
   "metadata": {},
   "source": [
    "#### The regression shows the income has strong correlation with the house rental. The coef = 0.978"
   ]
  },
  {
   "cell_type": "markdown",
   "metadata": {},
   "source": [
    "### Plot heat map of house rental"
   ]
  },
  {
   "cell_type": "code",
   "execution_count": 115,
   "metadata": {
    "collapsed": false
   },
   "outputs": [
    {
     "data": {
      "text/html": [
       "<iframe id=\"igraph\" scrolling=\"no\" style=\"border:none;\" seamless=\"seamless\" src=\"https://plot.ly/~Cuichenxi/6.embed\" height=\"600px\" width=\"100%\"></iframe>"
      ],
      "text/plain": [
       "<plotly.tools.PlotlyDisplay object>"
      ]
     },
     "execution_count": 115,
     "metadata": {},
     "output_type": "execute_result"
    }
   ],
   "source": [
    "import plotly.plotly as py\n",
    "import plotly.graph_objs as graph_objs\n",
    "\n",
    "# mapbox_access_token = 'pk.eyJ1IjoiYWRhbWt1bGlkamlhbiIsImEiOiJjaXNya29kemwwNDNoMnRtMXBobGtvbWE4In0._k_JKvR8MknvKmiUsJ6C7g'\n",
    "\n",
    "data = graph_objs.Data([\n",
    "    graph_objs.Scattermapbox(\n",
    "        lat=['40'],\n",
    "        lon=['-74'],\n",
    "        mode='markers',\n",
    "    )\n",
    "])\n",
    "layout = graph_objs.Layout(\n",
    "    height=600,\n",
    "    autosize=True,\n",
    "    hovermode='closest',\n",
    "    mapbox=dict(\n",
    "        layers=[\n",
    "            dict(\n",
    "#                 sourcetype = 'geojson',\n",
    "                source = houser['full_value'],\n",
    "                type = 'fill',\n",
    "                color = 'rgba(163,22,19,0.8)'\n",
    "            )\n",
    "#             dict(\n",
    "#                 sourcetype = 'geojson',\n",
    "#                 source = 'https://raw.githubusercontent.com/plotly/datasets/master/florida-blue-data.json',\n",
    "#                 type = 'fill',\n",
    "#                 color = 'rgba(40,0,113,0.8)'\n",
    "#             )\n",
    "        ],\n",
    "        accesstoken=mapbox_access_token,\n",
    "        bearing=0,\n",
    "        center=dict(\n",
    "            lat=40,\n",
    "            lon=-74\n",
    "        ),\n",
    "        pitch=0,\n",
    "        zoom=5.2,\n",
    "        style='light'\n",
    "    ),\n",
    ")\n",
    "\n",
    "fig = dict(data=data, layout=layout)\n",
    "py.iplot(fig, filename='county-level-choropleths-python')"
   ]
  },
  {
   "cell_type": "code",
   "execution_count": null,
   "metadata": {
    "collapsed": true
   },
   "outputs": [],
   "source": []
  }
 ],
 "metadata": {
  "kernelspec": {
   "display_name": "PUI2016_Python2",
   "language": "python",
   "name": "pui2016_python2"
  },
  "language_info": {
   "codemirror_mode": {
    "name": "ipython",
    "version": 2
   },
   "file_extension": ".py",
   "mimetype": "text/x-python",
   "name": "python",
   "nbconvert_exporter": "python",
   "pygments_lexer": "ipython2",
   "version": "2.7.12"
  }
 },
 "nbformat": 4,
 "nbformat_minor": 0
}
